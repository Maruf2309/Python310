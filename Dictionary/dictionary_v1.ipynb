{
 "cells": [
  {
   "cell_type": "markdown",
   "metadata": {},
   "source": [
    "# Dictionary"
   ]
  },
  {
   "cell_type": "markdown",
   "metadata": {},
   "source": [
    "<b> Dictionary</b> : A dictionary is unordered collection of key-value pairs, where each key is unique and associated with a corresponding value. Dictionaries are one of the built-in data types in Python and are represented using curly braces{}"
   ]
  },
  {
   "cell_type": "markdown",
   "metadata": {},
   "source": [
    "- Fromkeys: Create a new dictionary with specified keys and a default value\n",
    "- Get : Returns the value of the specified key or a default value if the key is not found\n",
    "- Items: Return a view of key-value pair as tuples\n",
    "- Keys: Return a view of dictionary's keys\n",
    "- Pop: Remove & Return the values associated with the specified key\n",
    "- Popitem: Remove and return the last key-value pair as a tuple\n",
    "- Values: Return a view of dictionary's values\n",
    "- Update: Update the dictionary with key-value pairs from another dictionary or iterable\n",
    "- Copy:  Create a shallow copy of the dictionay\n",
    "- Clear: Remove all items fromt the dictionary"
   ]
  },
  {
   "cell_type": "markdown",
   "metadata": {},
   "source": [
    "### Fromkeys"
   ]
  },
  {
   "cell_type": "code",
   "execution_count": 8,
   "metadata": {},
   "outputs": [
    {
     "data": {
      "text/plain": [
       "{'apple': 15, 'banana': 15, 'mango': 15, 'orange': 15}"
      ]
     },
     "execution_count": 8,
     "metadata": {},
     "output_type": "execute_result"
    }
   ],
   "source": [
    "# Create a new dictionary using fromkeys{} with a default value\n",
    "default_value = 15\n",
    "keys = [\"apple\", \"banana\",\"mango\",\"orange\"]\n",
    "fruit_count = dict.fromkeys(keys,default_value)\n",
    "fruit_count"
   ]
  },
  {
   "cell_type": "markdown",
   "metadata": {},
   "source": [
    "### Get"
   ]
  },
  {
   "cell_type": "code",
   "execution_count": 5,
   "metadata": {},
   "outputs": [
    {
     "name": "stdout",
     "output_type": "stream",
     "text": [
      "85\n",
      "Not Found\n"
     ]
    }
   ],
   "source": [
    "# Create a dictionary of student grades\n",
    "student_grades = {\n",
    "    \"A\": 85,\n",
    "    \"B\": 78,\n",
    "    \"C\": 75,\n",
    "    \"D\": 70\n",
    "}\n",
    "\n",
    "# Get the grade of a student using get() with a default value\n",
    "grade_a = student_grades.get(\"A\", \"Not Found\")\n",
    "grade_j = student_grades.get(\"J\", \"Not Found\")\n",
    "\n",
    "# output\n",
    "print(grade_a)\n",
    "print(grade_j)"
   ]
  },
  {
   "cell_type": "markdown",
   "metadata": {},
   "source": [
    "### Items"
   ]
  },
  {
   "cell_type": "code",
   "execution_count": 7,
   "metadata": {},
   "outputs": [
    {
     "name": "stdout",
     "output_type": "stream",
     "text": [
      "dict_items([('A', 28), ('B', 25), ('C', 19), ('D', 26)])\n",
      "[('A', 28), ('B', 25), ('C', 19), ('D', 26)]\n"
     ]
    }
   ],
   "source": [
    "# Create a dictionary of student and their ages\n",
    "student_ages = {\n",
    "    \"A\": 28,\n",
    "    \"B\": 25,\n",
    "    \"C\": 19,\n",
    "    \"D\": 26\n",
    "}\n",
    "\n",
    "# Using items() to retrieve the key-value pairs as tuples\n",
    "print(student_ages.items())      # access value / items\n",
    "\n",
    "# Converting the items view into a list of tuple\n",
    "student_items_list = list(student_ages.items())\n",
    "print(student_items_list)"
   ]
  },
  {
   "cell_type": "markdown",
   "metadata": {},
   "source": [
    "### Keys"
   ]
  },
  {
   "cell_type": "code",
   "execution_count": 10,
   "metadata": {},
   "outputs": [
    {
     "name": "stdout",
     "output_type": "stream",
     "text": [
      "dict_keys(['A', 'B', 'C', 'D'])\n",
      "['A', 'B', 'C', 'D']\n"
     ]
    }
   ],
   "source": [
    "# Create a dictionary of a student names and their ages\n",
    "student_ages = {\n",
    "    \"A\": 28,\n",
    "    \"B\": 25,\n",
    "    \"C\": 19,\n",
    "    \"D\": 26\n",
    "}\n",
    "# Using Key to retrive the view of keys\n",
    "print(student_ages.keys())     # access keys, not value\n",
    "\n",
    "# Converting key view into a list\n",
    "student_keys_list = list(student_ages.keys())\n",
    "print(student_keys_list)"
   ]
  },
  {
   "cell_type": "markdown",
   "metadata": {},
   "source": [
    "### Pop"
   ]
  },
  {
   "cell_type": "code",
   "execution_count": 13,
   "metadata": {},
   "outputs": [
    {
     "name": "stdout",
     "output_type": "stream",
     "text": [
      "25\n",
      "{'A': 28, 'C': 19, 'D': 26}\n"
     ]
    }
   ],
   "source": [
    "# Create a dictionary of a student names and their ages\n",
    "student_ages = {\n",
    "    \"A\": 28,\n",
    "    \"B\": 25,\n",
    "    \"C\": 19,\n",
    "    \"D\": 26\n",
    "}\n",
    "# Remove and return the value associated with the key \"B\"\n",
    "remove_age = student_ages.pop(\"B\")\n",
    "print(remove_age)\n",
    "print(student_ages)"
   ]
  },
  {
   "cell_type": "markdown",
   "metadata": {},
   "source": [
    "### Popitems"
   ]
  },
  {
   "cell_type": "code",
   "execution_count": 15,
   "metadata": {},
   "outputs": [
    {
     "name": "stdout",
     "output_type": "stream",
     "text": [
      "('D', 26)\n",
      "{'A': 28, 'B': 25, 'C': 19}\n"
     ]
    }
   ],
   "source": [
    "# Create a dictionary of a student names and their ages\n",
    "student_ages = {\n",
    "    \"A\": 28,\n",
    "    \"B\": 25,\n",
    "    \"C\": 19,\n",
    "    \"D\": 26\n",
    "}\n",
    "\n",
    "# Remove & return las key-value pair from the dictionary\n",
    "last_item = student_ages.popitem()\n",
    "print(last_item)\n",
    "print(student_ages)"
   ]
  },
  {
   "cell_type": "markdown",
   "metadata": {},
   "source": [
    "### Values"
   ]
  },
  {
   "cell_type": "code",
   "execution_count": 17,
   "metadata": {},
   "outputs": [
    {
     "name": "stdout",
     "output_type": "stream",
     "text": [
      "dict_values([28, 25, 19, 26])\n",
      "[28, 25, 19, 26]\n"
     ]
    }
   ],
   "source": [
    "# Create a dictionary of a student names and their ages\n",
    "student_ages = {\n",
    "    \"A\": 28,\n",
    "    \"B\": 25,\n",
    "    \"C\": 19,\n",
    "    \"D\": 26\n",
    "}\n",
    "\n",
    "# Using values() to retrieve the view of values\n",
    "print(student_ages.values())\n",
    "# Converting values into list\n",
    "student_ages_list = list(student_ages.values())\n",
    "print(student_ages_list)"
   ]
  },
  {
   "cell_type": "markdown",
   "metadata": {},
   "source": [
    "### Update"
   ]
  },
  {
   "cell_type": "code",
   "execution_count": 18,
   "metadata": {},
   "outputs": [
    {
     "name": "stdout",
     "output_type": "stream",
     "text": [
      "{'A': 20, 'B': 22, 'C': 30, 'D': 32}\n"
     ]
    }
   ],
   "source": [
    "# Create two dictionaries\n",
    "dict1 = {\"A\": 20, \"B\":22}\n",
    "dict2 = {\"C\": 30, \"D\":32}\n",
    "\n",
    "# update dict1 with the key-value pairs from dict2\n",
    "dict1.update(dict2)\n",
    "print(dict1)"
   ]
  },
  {
   "cell_type": "code",
   "execution_count": 19,
   "metadata": {},
   "outputs": [
    {
     "name": "stdout",
     "output_type": "stream",
     "text": [
      "{'A': 20, 'B': 22, 'C': 30, 'D': 32, 'E': 23, 'F': 25}\n"
     ]
    }
   ],
   "source": [
    "## Create a list of key-value pairs as tuples\n",
    "key_value_pairs = [(\"E\", 23), (\"F\", 25)]\n",
    "\n",
    "# update dict1 with the key-value pairs from the list\n",
    "dict1.update(key_value_pairs)\n",
    "print(dict1)"
   ]
  },
  {
   "cell_type": "markdown",
   "metadata": {},
   "source": [
    "### Copy"
   ]
  },
  {
   "cell_type": "code",
   "execution_count": 25,
   "metadata": {},
   "outputs": [
    {
     "name": "stdout",
     "output_type": "stream",
     "text": [
      "{'A': 20, 'B': 25, 'C': 30}\n",
      "{'A': 20, 'B': 25, 'C': 30, 'D': 40}\n"
     ]
    }
   ],
   "source": [
    "# Create a dictionary\n",
    "original_dict = {\"A\": 20, \"B\":25, \"C\":30}\n",
    "\n",
    "# Create a copy of dictionary using copy() method\n",
    "copied_dict = original_dict.copy() # Original not be affected\n",
    "\n",
    "# Modifed copied dict \n",
    "copied_dict[\"D\"] = 40\n",
    "\n",
    "# output\n",
    "print(original_dict)               # Original not be affected\n",
    "print(copied_dict)                 # Changes / update in copied one only"
   ]
  },
  {
   "cell_type": "markdown",
   "metadata": {},
   "source": [
    "### Clear"
   ]
  },
  {
   "cell_type": "code",
   "execution_count": 27,
   "metadata": {},
   "outputs": [
    {
     "name": "stdout",
     "output_type": "stream",
     "text": [
      "{}\n"
     ]
    }
   ],
   "source": [
    "# Create a dictionary of a student names and their ages\n",
    "student_ages = {\n",
    "    \"A\": 28,\n",
    "    \"B\": 25,\n",
    "    \"C\": 19,\n",
    "    \"D\": 26\n",
    "}\n",
    "# Clear the dictionary\n",
    "student_ages.clear()\n",
    "print(student_ages)"
   ]
  }
 ],
 "metadata": {
  "kernelspec": {
   "display_name": "Python 3",
   "language": "python",
   "name": "python3"
  },
  "language_info": {
   "codemirror_mode": {
    "name": "ipython",
    "version": 3
   },
   "file_extension": ".py",
   "mimetype": "text/x-python",
   "name": "python",
   "nbconvert_exporter": "python",
   "pygments_lexer": "ipython3",
   "version": "3.10.6"
  },
  "orig_nbformat": 4
 },
 "nbformat": 4,
 "nbformat_minor": 2
}
