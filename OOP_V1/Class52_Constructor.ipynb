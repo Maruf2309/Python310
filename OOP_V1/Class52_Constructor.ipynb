{
 "cells": [
  {
   "cell_type": "markdown",
   "metadata": {},
   "source": [
    "# Class 52 - Constructor"
   ]
  },
  {
   "cell_type": "markdown",
   "metadata": {},
   "source": [
    "**Constructor** \n",
    "\n",
    "- In prevous stage we seperately do task as first creat object then assign values seperately \n",
    "- Here is the fun, we will assigne valus while creating `object` no need to re-assign valus explicitely!\n",
    "- it requires `__init__` every method must have `self` keyword"
   ]
  },
  {
   "cell_type": "code",
   "execution_count": 1,
   "metadata": {},
   "outputs": [
    {
     "name": "stdout",
     "output_type": "stream",
     "text": [
      "Roll : 101, GPA: 3.5\n",
      "Roll : 102, GPA: 4.25\n"
     ]
    }
   ],
   "source": [
    "class Student:\n",
    "    roll = \"\"\n",
    "    gpa = \"\"\n",
    "\n",
    "# Constructor\n",
    "    def __init__(self, roll, gpa):\n",
    "        self.roll = roll\n",
    "        self.gpa = gpa\n",
    "\n",
    "    def display(self):\n",
    "        print(f\"Roll : {self.roll}, GPA: {self.gpa}\")\n",
    "\n",
    "rahim = Student(101, 3.50)  # Constructor help to initialize object \n",
    "karim = Student(102, 4.25)  # We can initialize the object through constructor\n",
    "\n",
    "rahim.display()\n",
    "karim.display()"
   ]
  },
  {
   "cell_type": "markdown",
   "metadata": {},
   "source": [
    "**__init__**\n",
    "The advantage of constructor is that below code no need to execute. No need to call object seperatly\n",
    "\n",
    "`karim.roll = 201`\n",
    "\n",
    "`karim.gpa = 3.50`"
   ]
  },
  {
   "cell_type": "markdown",
   "metadata": {},
   "source": [
    "## Practice"
   ]
  },
  {
   "cell_type": "code",
   "execution_count": 1,
   "metadata": {},
   "outputs": [
    {
     "name": "stdout",
     "output_type": "stream",
     "text": [
      "Student Name: Rahim, Student GPA : 2.55\n",
      "Student Name: Karim, Student GPA : 4.5\n"
     ]
    }
   ],
   "source": [
    "class Student :\n",
    "    name = \"\"\n",
    "    gpa = \"\"\n",
    "\n",
    "# Constructor (Define constructor by method)\n",
    "    def __init__(self, name, gpa) -> None:\n",
    "        self.name = name\n",
    "        self.gpa = gpa\n",
    "\n",
    "    def display(self):\n",
    "        print(f\"Student Name: {self.name}, Student GPA : {self.gpa}\")\n",
    "\n",
    "    \n",
    "\n",
    "# Ojbect- By constructor we can initialize object at real time\n",
    "x = Student('Rahim', 2.55) \n",
    "y = Student('Karim', 4.50)\n",
    "\n",
    "x.display()\n",
    "y.display()"
   ]
  },
  {
   "cell_type": "code",
   "execution_count": 5,
   "metadata": {},
   "outputs": [
    {
     "name": "stdout",
     "output_type": "stream",
     "text": [
      "Student Name: Rahim, GPA: 5.0, AGE: 18\n",
      "Student Name: Karim, GPA: 4.75, AGE: 19\n"
     ]
    }
   ],
   "source": [
    "# Adding Age Attribute\n",
    "class Student:\n",
    "    def __init__(self, name, gpa, age) -> None:  # We can directly use constructor here \n",
    "        self.name = name\n",
    "        self.gpa = gpa\n",
    "        self.age = age\n",
    "\n",
    "    def display(self):\n",
    "        print(f\"Student Name: {self.name}, GPA: {self.gpa}, AGE: {self.age}\")\n",
    "\n",
    "# Initialize Object values\n",
    "x = Student('Rahim',5.00,18)\n",
    "y = Student('Karim',4.75,19)\n",
    "\n",
    "x.display()\n",
    "y.display()"
   ]
  },
  {
   "cell_type": "code",
   "execution_count": 6,
   "metadata": {},
   "outputs": [
    {
     "name": "stdout",
     "output_type": "stream",
     "text": [
      "Student Nam: Rahim, GPA : 4.5\n",
      "Student Nam: Karim, GPA : 3.0\n"
     ]
    }
   ],
   "source": [
    "# Example 2: Default Values for GPA\n",
    "\n",
    "class Student:\n",
    "    def __init__(self, name, gpa=3.00) -> None:\n",
    "        self.name = name\n",
    "        self.gpa = gpa \n",
    "\n",
    "    def display(self):\n",
    "        print(f\"Student Nam: {self.name}, GPA : {self.gpa}\")\n",
    "\n",
    "# Initialize the object\n",
    "x = Student('Rahim', 4.50)\n",
    "y = Student('Karim')        # It will take default GPA\n",
    "\n",
    "x.display()\n",
    "y.display()\n"
   ]
  },
  {
   "cell_type": "code",
   "execution_count": 7,
   "metadata": {},
   "outputs": [
    {
     "name": "stdout",
     "output_type": "stream",
     "text": [
      "Student Name: Rahim, Student GPA : 2.55\n",
      "Student Name: Karim, Student GPA : 0.0\n",
      "Student Name: John, Student GPA : 0.0\n"
     ]
    }
   ],
   "source": [
    "class Student:\n",
    "    def __init__(self, name, gpa):\n",
    "        self.name = name\n",
    "        self.gpa = gpa if 0.0 <= gpa <= 4.0 else 0.0\n",
    "\n",
    "    def display(self):\n",
    "        print(f\"Student Name: {self.name}, Student GPA : {self.gpa}\")\n",
    "\n",
    "# Initialize objects, one with invalid GPA to demonstrate validation\n",
    "x = Student('Rahim', 2.55)\n",
    "y = Student('Karim', 4.50)\n",
    "z = Student('John', 5.00)\n",
    "\n",
    "x.display()\n",
    "y.display()\n",
    "z.display()\n",
    "\n",
    "# \n"
   ]
  },
  {
   "cell_type": "markdown",
   "metadata": {},
   "source": [
    "`self.gpa = gpa if 0.0 <= gpa <= 4.0 else 0.0`\n",
    "\n",
    "- Checking if gpa is within the valid range of 0.0 to 4.0 (inclusive).\n",
    "- this line ensures that self.gpa will only get a value within the valid range of 0.0 to 4.0. If an invalid gpa value (like 5.0 or -1.0) is passed, it defaults to 0.0.\n",
    "- This is a convenient way to enforce valid GPA values directly within the constructor, making sure that the object always has a valid gpa attribute."
   ]
  },
  {
   "cell_type": "code",
   "execution_count": 8,
   "metadata": {},
   "outputs": [
    {
     "name": "stdout",
     "output_type": "stream",
     "text": [
      "Name : Rahim, GPA : 2.0\n",
      "Name : Karim, GPA : 2.0\n"
     ]
    }
   ],
   "source": [
    "# Example 4: Static Method to Create Student\n",
    "class Student:\n",
    "    def __init__(self,name, gpa ) -> None:\n",
    "        self.name = name\n",
    "        self.gpa = gpa\n",
    "\n",
    "    def display(self):\n",
    "        print(f\"Name : {self.name}, GPA : {self.gpa}\")\n",
    "\n",
    "    @staticmethod\n",
    "    def creat_default_student(name):\n",
    "        return Student(name, 2.0)\n",
    "    \n",
    "# create object using a static method\n",
    "x = Student.creat_default_student('Rahim')\n",
    "y = Student.creat_default_student('Karim')\n",
    "\n",
    "x.display()\n",
    "y.display()"
   ]
  },
  {
   "cell_type": "code",
   "execution_count": 4,
   "metadata": {},
   "outputs": [
    {
     "name": "stdout",
     "output_type": "stream",
     "text": [
      "Company Name: BRB, Product : Cable\n",
      "Company Name: SQ, Product : Cable\n"
     ]
    }
   ],
   "source": [
    "# Test\n",
    "class CableIndustry:\n",
    "    competitor_name = \"\"\n",
    "    product = \"\"\n",
    "\n",
    "    # Define Constructor by fun\n",
    "    def __init__(self, competitor_name, product) -> None:\n",
    "        self.competitor_name = competitor_name\n",
    "        self.product = product\n",
    "\n",
    "    def display(self):\n",
    "        print(f\"Company Name: {self.competitor_name}, Product : {self.product}\")\n",
    "\n",
    "# Object Inilialize \n",
    "x = CableIndustry(\"BRB\",\"Cable\")\n",
    "y = CableIndustry(\"SQ\",\"Cable\")\n",
    "\n",
    "x.display()\n",
    "y.display()"
   ]
  },
  {
   "cell_type": "code",
   "execution_count": null,
   "metadata": {},
   "outputs": [],
   "source": []
  },
  {
   "cell_type": "code",
   "execution_count": null,
   "metadata": {},
   "outputs": [],
   "source": []
  },
  {
   "cell_type": "code",
   "execution_count": null,
   "metadata": {},
   "outputs": [],
   "source": []
  },
  {
   "cell_type": "code",
   "execution_count": null,
   "metadata": {},
   "outputs": [],
   "source": []
  }
 ],
 "metadata": {
  "kernelspec": {
   "display_name": "Python 3",
   "language": "python",
   "name": "python3"
  },
  "language_info": {
   "codemirror_mode": {
    "name": "ipython",
    "version": 3
   },
   "file_extension": ".py",
   "mimetype": "text/x-python",
   "name": "python",
   "nbconvert_exporter": "python",
   "pygments_lexer": "ipython3",
   "version": "3.10.6"
  },
  "orig_nbformat": 4
 },
 "nbformat": 4,
 "nbformat_minor": 2
}
