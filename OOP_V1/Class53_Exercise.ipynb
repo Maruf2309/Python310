{
 "cells": [
  {
   "cell_type": "markdown",
   "metadata": {},
   "source": [
    "## Class 53 - Exercise"
   ]
  },
  {
   "cell_type": "markdown",
   "metadata": {},
   "source": [
    "**Topic: Class & Method**"
   ]
  },
  {
   "cell_type": "markdown",
   "metadata": {},
   "source": [
    "**Test1** \n",
    "\n",
    "- You are suppose to create a class name as `Triangle` with `Constructor` while `Two Params` will be passed as `base & hight`\n",
    "- Then create a function/ method for calculating `Triangle Area`\n",
    "\n",
    "**Two Objects for Triangle**\n",
    "\n",
    "- `t1 = 10,20` Base & Height\n",
    "- `t2 = 20,30` Base & Height"
   ]
  },
  {
   "cell_type": "code",
   "execution_count": 1,
   "metadata": {},
   "outputs": [
    {
     "name": "stdout",
     "output_type": "stream",
     "text": [
      "Area 100.0\n",
      "Area 300.0\n"
     ]
    }
   ],
   "source": [
    "# Solution\n",
    "\n",
    "class Triangle:\n",
    "    def __init__(self, base, height) -> None:\n",
    "        self.base = base\n",
    "        self.height = height\n",
    "\n",
    "    # Method for Calculing Area\n",
    "    def calculate_area(self):\n",
    "        area = 0.5 * self.base * self.height  # Formula (.50 * Base * Height) or half * base * heigh\n",
    "        print(f\"Area\" , area)\n",
    "\n",
    "# Object Creation\n",
    "t1 = Triangle(10, 20)\n",
    "t1.calculate_area()\n",
    "\n",
    "t2 = Triangle(20, 30)\n",
    "t2.calculate_area() "
   ]
  },
  {
   "cell_type": "markdown",
   "metadata": {},
   "source": [
    "# Excercise"
   ]
  },
  {
   "cell_type": "markdown",
   "metadata": {},
   "source": [
    "Example 1: Rectangle Perimeter Calculation"
   ]
  },
  {
   "cell_type": "code",
   "execution_count": 3,
   "metadata": {},
   "outputs": [
    {
     "name": "stdout",
     "output_type": "stream",
     "text": [
      "Perimeter : 60\n",
      "Perimeter : 100\n"
     ]
    }
   ],
   "source": [
    "# Rectangle \n",
    "class Rectangle:\n",
    "    def __init__(self, length, width) -> None:\n",
    "        self.length = length\n",
    "        self.width  = width\n",
    "\n",
    "    def calculate_perimeter(self):\n",
    "        perimeter = 2 * (self.length + self.width) # formula\n",
    "        print(\"Perimeter :\" , perimeter)\n",
    "\n",
    "# Object Define\n",
    "        \n",
    "r1 = Rectangle(10, 20)\n",
    "r2 = Rectangle(20, 30)\n",
    "\n",
    "# Calling\n",
    "r1.calculate_perimeter()\n",
    "r2.calculate_perimeter()\n",
    "        "
   ]
  },
  {
   "cell_type": "markdown",
   "metadata": {},
   "source": [
    "Example 2: Circle Area Calculation"
   ]
  },
  {
   "cell_type": "code",
   "execution_count": 4,
   "metadata": {},
   "outputs": [
    {
     "name": "stdout",
     "output_type": "stream",
     "text": [
      "Area 78.53975\n",
      "Area 153.93791\n"
     ]
    }
   ],
   "source": [
    "# Calculate the area of a circle using a class.\n",
    "\n",
    "class Circle :\n",
    "    def __init__(self, radius) -> None:\n",
    "        self.radius = radius\n",
    "\n",
    "    def calculate_area(self):\n",
    "        area = 3.14159 * self.radius * self.radius  \n",
    "        print('Area', area)\n",
    "# Object\n",
    "c1 = Circle(5)\n",
    "c2 = Circle(7)\n",
    "\n",
    "# Output\n",
    "c1.calculate_area()\n",
    "c2.calculate_area()\n"
   ]
  },
  {
   "cell_type": "markdown",
   "metadata": {},
   "source": [
    "Example 3: Cylinder Volume Calculation"
   ]
  },
  {
   "cell_type": "code",
   "execution_count": 3,
   "metadata": {},
   "outputs": [
    {
     "name": "stdout",
     "output_type": "stream",
     "text": [
      "Volumne : 785.3975\n",
      "Volumne : 2155.1307399999996\n"
     ]
    }
   ],
   "source": [
    "# Calculate the volume of a cylinder using a class.\n",
    "\n",
    "class Cylinder:\n",
    "    def __init__(self, radius, height ) -> None:         # Cylinder Require Radius & Height\n",
    "        self.radius = radius\n",
    "        self.height = height\n",
    "\n",
    "    # Method for Calculation\n",
    "    def calculate_volume(self):\n",
    "        volume = 3.14159 * self.radius * self.radius * self.height  # Mathmatical Formula\n",
    "        print(\"Volumne :\", volume)\n",
    "\n",
    "# Object\n",
    "cy1 = Cylinder(5, 10)\n",
    "cy2 = Cylinder(7, 14)\n",
    "\n",
    "# Output\n",
    "cy1.calculate_volume()\n",
    "cy2.calculate_volume()"
   ]
  },
  {
   "cell_type": "markdown",
   "metadata": {},
   "source": [
    "Example 4: Sphere Surface Area Calculation"
   ]
  },
  {
   "cell_type": "code",
   "execution_count": 4,
   "metadata": {},
   "outputs": [
    {
     "name": "stdout",
     "output_type": "stream",
     "text": [
      "Surface Area : 314.159\n",
      "Surface Area : 615.75164\n"
     ]
    }
   ],
   "source": [
    "# Calculate the surface area of a sphere using a class\n",
    "\n",
    "class Sphere:\n",
    "    def __init__(self, radius) -> None:        # its require Radius\n",
    "        self.radius = radius\n",
    "\n",
    "    def calculate_surface_area(self):\n",
    "        surface_area = 4 * 3.14159 * self.radius * self.radius\n",
    "        print(\"Surface Area :\", surface_area)\n",
    "\n",
    "# Object\n",
    "s1 = Sphere(5)\n",
    "s2 = Sphere(7)\n",
    "\n",
    "# Output\n",
    "s1.calculate_surface_area()\n",
    "s2.calculate_surface_area()"
   ]
  }
 ],
 "metadata": {
  "kernelspec": {
   "display_name": "Python 3",
   "language": "python",
   "name": "python3"
  },
  "language_info": {
   "codemirror_mode": {
    "name": "ipython",
    "version": 3
   },
   "file_extension": ".py",
   "mimetype": "text/x-python",
   "name": "python",
   "nbconvert_exporter": "python",
   "pygments_lexer": "ipython3",
   "version": "3.10.6"
  },
  "orig_nbformat": 4
 },
 "nbformat": 4,
 "nbformat_minor": 2
}
