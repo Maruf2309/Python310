{
 "cells": [
  {
   "cell_type": "markdown",
   "metadata": {},
   "source": [
    "# Module 58: Abstraction"
   ]
  },
  {
   "cell_type": "markdown",
   "metadata": {},
   "source": [
    "**Common Features of OOP**\n",
    "\n",
    "| Serial No. | Feature        |\n",
    "|------------|----------------|\n",
    "| 1          | Class          |\n",
    "| 2          | Object         |\n",
    "| 3          | Inheritance    |\n",
    "| 4          | Abstraction    |\n",
    "| 5          | Encapsulation  |\n",
    "| 6          | Polymorphism   |\n"
   ]
  },
  {
   "cell_type": "code",
   "execution_count": 12,
   "metadata": {},
   "outputs": [
    {
     "name": "stdout",
     "output_type": "stream",
     "text": [
      "Area of Triangle : 300.0\n",
      "Area of Ractangular : 600\n"
     ]
    }
   ],
   "source": [
    "class Shape():\n",
    "    def __init__(self, dim1, dim2):\n",
    "        self.dim1 = dim1\n",
    "        self.dim2 = dim2 \n",
    "    \n",
    "    def area(self):  # This Area method can be used by any class\n",
    "        pass \n",
    "\n",
    "    # Whenever any method defined without body, called as 'Abstract Method' \n",
    "    # If that abstrat method kept in class that called Abstract Class, below is example code for ABS\n",
    "\n",
    "class Triangle(Shape):\n",
    "    def area(self):\n",
    "        area = 0.5 * self.dim1 * self.dim2\n",
    "        print(\"Area of Triangle :\", area)\n",
    "\n",
    "class Ractangular(Shape):\n",
    "    def area(self):\n",
    "        area = self.dim1 * self.dim2\n",
    "        print(\"Area of Ractangular :\", area)\n",
    "\n",
    "s1 = Shape(10,20)\n",
    "s1.area()\n",
    "\n",
    "t1 = Triangle(20, 30)\n",
    "t1.area()\n",
    "\n",
    "r1 = Ractangular(20, 30)\n",
    "r1.area()\n"
   ]
  },
  {
   "cell_type": "code",
   "execution_count": 14,
   "metadata": {},
   "outputs": [
    {
     "name": "stdout",
     "output_type": "stream",
     "text": [
      "Area of Triangle : 100.0\n",
      "Area of Ractangular : 200\n"
     ]
    }
   ],
   "source": [
    "\n",
    "# Abstract method must be imported when ABC (abstract base class) define inside any class \n",
    "from abc import ABC, abstractmethod\n",
    "class Shape(ABC):  # ABC: Abstract Based class Class defined, for that object can not be created\n",
    "    def __init__(self, dim1, dim2):\n",
    "        self.dim1 = dim1\n",
    "        self.dim2 = dim2 \n",
    "\n",
    "    @abstractmethod\n",
    "    def area(self):  \n",
    "        pass \n",
    "\n",
    "    \n",
    "class Triangle(Shape):\n",
    "    def area(self):\n",
    "        area = 0.5 * self.dim1 * self.dim2\n",
    "        print(\"Area of Triangle :\", area)\n",
    "\n",
    "class Ractangular(Shape):\n",
    "    def area(self):\n",
    "        area = self.dim1 * self.dim2\n",
    "        print(\"Area of Ractangular :\", area)\n",
    "\n",
    "# Whenever Abstract method define, then OBJECT can not defied for that class, otherwise return error, so here obj commited\n",
    "#s1 = Shape(10,20)\n",
    "# s1.area()\n",
    "\n",
    "\n",
    "r1 = Triangle(10, 20)\n",
    "r1.area()\n",
    "\n",
    "r1 = Ractangular(10, 20)\n",
    "r1.area()\n",
    "\n",
    "# The main objective of Abstract, so that this CLASS can be used as model and can be used whenever needed\n"
   ]
  },
  {
   "cell_type": "code",
   "execution_count": null,
   "metadata": {},
   "outputs": [],
   "source": []
  }
 ],
 "metadata": {
  "kernelspec": {
   "display_name": "Python 3",
   "language": "python",
   "name": "python3"
  },
  "language_info": {
   "codemirror_mode": {
    "name": "ipython",
    "version": 3
   },
   "file_extension": ".py",
   "mimetype": "text/x-python",
   "name": "python",
   "nbconvert_exporter": "python",
   "pygments_lexer": "ipython3",
   "version": "3.10.6"
  }
 },
 "nbformat": 4,
 "nbformat_minor": 2
}
