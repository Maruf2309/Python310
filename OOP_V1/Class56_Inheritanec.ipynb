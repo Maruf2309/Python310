{
 "cells": [
  {
   "cell_type": "markdown",
   "metadata": {},
   "source": [
    "# Module 56 : Example of Inheritance"
   ]
  },
  {
   "cell_type": "code",
   "execution_count": 1,
   "metadata": {},
   "outputs": [],
   "source": [
    "class Shape:\n",
    "    def __init__(self, dim1, dim2):\n",
    "        self.dim1 = dim1 \n",
    "        self.dim2 = dim2 \n",
    "\n",
    "    def area(self):\n",
    "        print(\"I am method of Shape Class\")\n",
    "\n",
    "# Traditional test- Check below code for alternaive or Example of Inheriance\n",
    "class Triangle(Shape) :\n",
    "    def __init__(self, dim1, dim2):\n",
    "        self.dim1 = dim1 \n",
    "        self.dim2 = dim2 "
   ]
  },
  {
   "cell_type": "code",
   "execution_count": 2,
   "metadata": {},
   "outputs": [
    {
     "name": "stdout",
     "output_type": "stream",
     "text": [
      "Area of Triangle : 300.0\n"
     ]
    }
   ],
   "source": [
    "# Alternative \n",
    "class Shape:\n",
    "    def __init__(self, dim1, dim2):\n",
    "        self.dim1 = dim1 \n",
    "        self.dim2 = dim2 \n",
    "\n",
    "    def area(self):\n",
    "        print(\"I am method of Shape Class\")\n",
    "\n",
    "# Traditional test- Check below code for alternaive or Example of Inheriance\n",
    "class Triangle(Shape) :\n",
    "    def area(self):       # Method overriding\n",
    "        area = 0.5 * self.dim1 * self.dim2\n",
    "        print(\"Area of Triangle :\", area)\n",
    "\n",
    "class Ractangle(Shape) :\n",
    "    def area(self):       # Method overriding\n",
    "        area = self.dim1 * self.dim2\n",
    "        print(\"Area of Ractangle :\", area)\n",
    "\n",
    "t1 = Triangle(20, 30)\n",
    "t1.area()\n",
    "        "
   ]
  }
 ],
 "metadata": {
  "kernelspec": {
   "display_name": "Python 3",
   "language": "python",
   "name": "python3"
  },
  "language_info": {
   "codemirror_mode": {
    "name": "ipython",
    "version": 3
   },
   "file_extension": ".py",
   "mimetype": "text/x-python",
   "name": "python",
   "nbconvert_exporter": "python",
   "pygments_lexer": "ipython3",
   "version": "3.10.6"
  },
  "orig_nbformat": 4
 },
 "nbformat": 4,
 "nbformat_minor": 2
}
