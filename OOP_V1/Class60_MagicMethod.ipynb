{
 "cells": [
  {
   "cell_type": "markdown",
   "metadata": {},
   "source": [
    "# Module 60- Magic Method"
   ]
  },
  {
   "cell_type": "markdown",
   "metadata": {},
   "source": [
    "- Start & end with double underscore"
   ]
  },
  {
   "cell_type": "markdown",
   "metadata": {},
   "source": [
    "**Magic Method Comparison Operator:**\n",
    "\n",
    "| Operator | Method Name        | Description                          |\n",
    "|----------|--------------------|--------------------------------------|\n",
    "| `==`     | `__eq__(self, other)`  | Equal to                            |\n",
    "| `!=`     | `__ne__(self, other)`  | Not equal to                        |\n",
    "| `<`      | `__lt__(self, other)`  | Less than                           |\n",
    "| `<=`     | `__le__(self, other)`  | Less than or equal to               |\n",
    "| `>`      | `__gt__(self, other)`  | Greater than                        |\n",
    "| `>=`     | `__ge__(self, other)`  | Greater than or equal to            |"
   ]
  },
  {
   "cell_type": "markdown",
   "metadata": {},
   "source": [
    "**✅ Arithmetic Magic Methods**\n",
    "\n",
    "| Operator | Method Name         | Description                      |\n",
    "|----------|---------------------|----------------------------------|\n",
    "| `+`      | `__add__(self, other)`     | Addition                      |\n",
    "| `-`      | `__sub__(self, other)`     | Subtraction                   |\n",
    "| `*`      | `__mul__(self, other)`     | Multiplication                |\n",
    "| `/`      | `__truediv__(self, other)` | Division                      |\n",
    "| `//`     | `__floordiv__(self, other)`| Floor Division                |\n",
    "| `%`      | `__mod__(self, other)`     | Modulo                        |\n",
    "| `**`     | `__pow__(self, other)`     | Exponentiation                |\n",
    "| `-` (unary) | `__neg__(self)`         | Unary minus (e.g. `-x`)       |\n",
    "| `+` (unary) | `__pos__(self)`         | Unary plus (e.g. `+x`)        |\n",
    "| `abs()`  | `__abs__(self)`            | Absolute value (e.g. `abs(x)`)|\n",
    "| `divmod()` | `__divmod__(self, other)`| Used by `divmod(x, y)`        |"
   ]
  },
  {
   "cell_type": "markdown",
   "metadata": {},
   "source": [
    "**✅ In-place Arithmetic (e.g., +=, -=):**\n",
    "\n",
    "| Operator | Method Name              | Description                      |\n",
    "|----------|--------------------------|----------------------------------|\n",
    "| `+=`     | `__iadd__(self, other)`  | In-place addition               |\n",
    "| `-=`     | `__isub__(self, other)`  | In-place subtraction            |\n",
    "| `*=`     | `__imul__(self, other)`  | In-place multiplication         |\n",
    "| `/=`     | `__itruediv__(self, other)`| In-place division              |\n",
    "| `//=`    | `__ifloordiv__(self, other)`| In-place floor division       |\n",
    "| `%=`     | `__imod__(self, other)`  | In-place modulo                 |\n",
    "| `**=`    | `__ipow__(self, other)`  | In-place exponentiation         |"
   ]
  },
  {
   "cell_type": "code",
   "execution_count": 5,
   "metadata": {},
   "outputs": [
    {
     "name": "stdout",
     "output_type": "stream",
     "text": [
      "<__main__.Bike object at 0x000001DB4699E1D0>\n"
     ]
    }
   ],
   "source": [
    "class Bike:  \n",
    "    ## Magic Method defined as init\n",
    "    def __init__(self, name, color):\n",
    "        ## Initialize Object Value\n",
    "        self.name = name\n",
    "        self.color = color\n",
    "\n",
    "    # Fun1\n",
    "    def display(self):\n",
    "        print(f\"Name = {self.name}, Color = {self.color}\")\n",
    "\n",
    "# Create object\n",
    "bike1 = Bike(\"Yamaha R15\",\"Blue\")\n",
    "bike2 = Bike(\"Yamaha FZ\",\"Red\")\n",
    "\n",
    "# Print Object\n",
    "print(bike1)       # It will print object, not object value, we can do by `bike1.display()`; But will do it by Magic Method!\n"
   ]
  },
  {
   "cell_type": "code",
   "execution_count": null,
   "metadata": {},
   "outputs": [
    {
     "name": "stdout",
     "output_type": "stream",
     "text": [
      "Name = Yamaha R15, Color = Blue\n"
     ]
    }
   ],
   "source": [
    "# Application of Magic Method\n",
    "class Bike:  \n",
    "    ## Magic Method defined as init\n",
    "    def __init__(self, name, color):\n",
    "        ## Initialize Object Value\n",
    "        self.name = name\n",
    "        self.color = color\n",
    "\n",
    "    # Use of Magic Method\n",
    "    def __str__(self):                                        # will take __str__ magic method\n",
    "        return(f\"Name = {self.name}, Color = {self.color}\")   # it will return, not print \n",
    "\n",
    "    # Fun1\n",
    "    def display(self):\n",
    "        print(f\"Name = {self.name}, Color = {self.color}\")\n",
    "\n",
    "# Create object\n",
    "bike1 = Bike(\"Yamaha R15\",\"Blue\")\n",
    "bike2 = Bike(\"Yamaha FZ\",\"Red\")\n",
    "\n",
    "# Print Object\n",
    "print(bike1)       # Now it will return object values"
   ]
  },
  {
   "cell_type": "markdown",
   "metadata": {},
   "source": [
    "**Equality Check of Object (Bike1,Bike2)- Not Object Value**"
   ]
  },
  {
   "cell_type": "markdown",
   "metadata": {},
   "source": [
    "A. Object Comparision"
   ]
  },
  {
   "cell_type": "code",
   "execution_count": 10,
   "metadata": {},
   "outputs": [
    {
     "name": "stdout",
     "output_type": "stream",
     "text": [
      "False\n"
     ]
    }
   ],
   "source": [
    "\n",
    "class Bike:\n",
    "    def __init__(self, name, color):\n",
    "        self.name = name \n",
    "        self.color = color\n",
    "\n",
    "    def __str__(self):\n",
    "        return(f\"Name = {self.name}, Color={self.color}\")\n",
    "    \n",
    "    def display(self):\n",
    "        print(f\"Name = {self.name}, Color={self.color}\")\n",
    "\n",
    "# Object Creation\n",
    "bike1 = Bike(\"Yamaha R15\",\"Blue\")    \n",
    "bike2 = Bike(\"Yamaha R15\", \"Blue\")\n",
    "\n",
    "print(bike1 == bike2)  # it will return False since both are Blue, here Blue is object value not Object; object is Bike1,Bike2(Different)"
   ]
  },
  {
   "cell_type": "markdown",
   "metadata": {},
   "source": [
    "B.Object Value Comparison (Color)"
   ]
  },
  {
   "cell_type": "code",
   "execution_count": 9,
   "metadata": {},
   "outputs": [
    {
     "name": "stdout",
     "output_type": "stream",
     "text": [
      "True\n"
     ]
    }
   ],
   "source": [
    "class Bike:\n",
    "    def __init__(self, name, color):\n",
    "        self.name = name \n",
    "        self.color= color \n",
    "\n",
    "    def __eq__(self, other):\n",
    "        return self.name == other.name and self.color == other.color;\n",
    "\n",
    "    \n",
    "    def __str__(self):\n",
    "        return (f\"Name = {self.name}, Color={self.color}\")\n",
    "    \n",
    "    def display(self):\n",
    "        print(f\"Name ={self.name},Color={self.color}\")\n",
    "\n",
    "bike1 = Bike(\"Yamaha R15\",\"Blue\")\n",
    "bike2 = Bike(\"Yamaha R15\",\"Blue\")\n",
    "\n",
    "print(bike1 == bike2)"
   ]
  },
  {
   "cell_type": "code",
   "execution_count": null,
   "metadata": {},
   "outputs": [],
   "source": []
  },
  {
   "cell_type": "code",
   "execution_count": 2,
   "metadata": {},
   "outputs": [
    {
     "name": "stdout",
     "output_type": "stream",
     "text": [
      "False\n",
      "True\n",
      "False\n"
     ]
    }
   ],
   "source": [
    "class Product:\n",
    "    def __init__(self, price):\n",
    "        self.price = price\n",
    "\n",
    "    def __eq__(self, other):\n",
    "        return self.price == other.price\n",
    "\n",
    "    def __lt__(self, other):\n",
    "        return self.price < other.price\n",
    "\n",
    "    def __gt__(self, other):\n",
    "        return self.price > other.price\n",
    "\n",
    "# Test\n",
    "p1 = Product(100)\n",
    "p2 = Product(150)\n",
    "\n",
    "print(p1 == p2)  # False\n",
    "print(p1 < p2)   # True\n",
    "print(p1 > p2)   # False\n"
   ]
  },
  {
   "cell_type": "code",
   "execution_count": null,
   "metadata": {},
   "outputs": [],
   "source": []
  }
 ],
 "metadata": {
  "kernelspec": {
   "display_name": "Python 3",
   "language": "python",
   "name": "python3"
  },
  "language_info": {
   "codemirror_mode": {
    "name": "ipython",
    "version": 3
   },
   "file_extension": ".py",
   "mimetype": "text/x-python",
   "name": "python",
   "nbconvert_exporter": "python",
   "pygments_lexer": "ipython3",
   "version": "3.10.6"
  }
 },
 "nbformat": 4,
 "nbformat_minor": 2
}
