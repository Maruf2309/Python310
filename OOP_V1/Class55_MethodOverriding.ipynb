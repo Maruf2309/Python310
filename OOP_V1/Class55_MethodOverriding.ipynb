{
 "cells": [
  {
   "cell_type": "markdown",
   "metadata": {},
   "source": [
    "# Module 55 : Method Overriding"
   ]
  },
  {
   "cell_type": "markdown",
   "metadata": {},
   "source": [
    "Method Overriding in Python. The Python method overriding refers to defining a method in a subclass with the same name as a method in its superclass"
   ]
  },
  {
   "cell_type": "code",
   "execution_count": 1,
   "metadata": {},
   "outputs": [
    {
     "name": "stdout",
     "output_type": "stream",
     "text": [
      "I am in Phone Class\n"
     ]
    }
   ],
   "source": [
    "# Inheritance\n",
    "class Phone:\n",
    "    def __init__(self) -> None:\n",
    "        print(\"I am in Phone Class\")\n",
    "\n",
    "class Sumsung(Phone):   # Phone class inside bracket, e.g Sumsung inherits phone class\n",
    "    pass\n",
    "\n",
    "# Created Object for Sumsung\n",
    "s = Sumsung()"
   ]
  },
  {
   "cell_type": "markdown",
   "metadata": {},
   "source": [
    "Due to Inheritance application, `init` method of `Phone` class silently included in `Sumsung` Class"
   ]
  },
  {
   "cell_type": "code",
   "execution_count": 1,
   "metadata": {},
   "outputs": [
    {
     "name": "stdout",
     "output_type": "stream",
     "text": [
      "I am in Sumsung Class\n"
     ]
    }
   ],
   "source": [
    "# Method Overriding\n",
    "\n",
    "class Phone:\n",
    "    def __init__(self) -> None:\n",
    "        print(\"I am in Phone Class\")\n",
    "\n",
    "class Sumsung(Phone):\n",
    "    def __init__(self) -> None:   # This is method Overriding, now previous method to be ignored\n",
    "        print (\"I am in Sumsung Class\")\n",
    "\n",
    "# Sumsung Object\n",
    "s = Sumsung()\n",
    "\n",
    "# Note\n",
    "# Phone is Super Class, Sumsung is Sub Class\n",
    "# Same nume but works defferently, Now 2nd init(subclass) will take 2nd one, and avoid first class attributes due\n",
    "# But, still if you need first class attributes, then you can follow below code\n",
    "# If you still want to take "
   ]
  },
  {
   "cell_type": "code",
   "execution_count": 2,
   "metadata": {},
   "outputs": [
    {
     "name": "stdout",
     "output_type": "stream",
     "text": [
      "I am in Phone Class\n",
      "I am in Sumsung Class\n"
     ]
    }
   ],
   "source": [
    "# still if you need first class attributes, then you can follow below code\n",
    "class Phone:\n",
    "    def __init__(self) -> None:\n",
    "        print(\"I am in Phone Class\")\n",
    "\n",
    "class Sumsung(Phone):\n",
    "    def __init__(self) -> None:         # This Constructor for Subclass\n",
    "        super().__init__()              # Asscess to Super Class\n",
    "        print(\"I am in Sumsung Class\")\n",
    "\n",
    "# Object Creation\n",
    "s = Sumsung()\n",
    "\n",
    "# At calling it will go to subclass (instructor) then goes to `Super()` and first print parent Class attribute then subclass"
   ]
  }
 ],
 "metadata": {
  "kernelspec": {
   "display_name": "Python 3",
   "language": "python",
   "name": "python3"
  },
  "language_info": {
   "codemirror_mode": {
    "name": "ipython",
    "version": 3
   },
   "file_extension": ".py",
   "mimetype": "text/x-python",
   "name": "python",
   "nbconvert_exporter": "python",
   "pygments_lexer": "ipython3",
   "version": "3.10.6"
  },
  "orig_nbformat": 4
 },
 "nbformat": 4,
 "nbformat_minor": 2
}
