{
 "cells": [
  {
   "cell_type": "markdown",
   "metadata": {},
   "source": [
    "# Module 55 : Method Overriding"
   ]
  },
  {
   "cell_type": "markdown",
   "metadata": {},
   "source": [
    "Method Overriding in Python. The Python method overriding refers to defining a method in a subclass with the same name as a method in its superclass"
   ]
  },
  {
   "cell_type": "code",
   "execution_count": 1,
   "metadata": {},
   "outputs": [
    {
     "name": "stdout",
     "output_type": "stream",
     "text": [
      "I am in Phone Class\n"
     ]
    }
   ],
   "source": [
    "# Inheritance\n",
    "class Phone:\n",
    "    def __init__(self) -> None:\n",
    "        print(\"I am in Phone Class\")\n",
    "\n",
    "class Sumsung(Phone):   # Phone class inside bracket, e.g Sumsung inherits phone class\n",
    "    pass\n",
    "\n",
    "# Created Object for Sumsung\n",
    "s = Sumsung()"
   ]
  },
  {
   "cell_type": "markdown",
   "metadata": {},
   "source": [
    "Due to Inheritance application, `init` method of `Phone` class silently included in `Sumsung` Class"
   ]
  },
  {
   "cell_type": "code",
   "execution_count": 1,
   "metadata": {},
   "outputs": [
    {
     "name": "stdout",
     "output_type": "stream",
     "text": [
      "I am in Sumsung Class\n"
     ]
    }
   ],
   "source": [
    "# Method Overriding\n",
    "\n",
    "class Phone:\n",
    "    def __init__(self) -> None:\n",
    "        print(\"I am in Phone Class\")\n",
    "\n",
    "class Sumsung(Phone):\n",
    "    def __init__(self) -> None:   # This is method Overriding, now previous method to be ignored\n",
    "        print (\"I am in Sumsung Class\")\n",
    "\n",
    "# Sumsung Object\n",
    "s = Sumsung()\n",
    "\n",
    "# Note\n",
    "# Phone is Super Class, Sumsung is Sub Class\n",
    "# Same nume but works defferently, Now 2nd init(subclass) will take 2nd one, and avoid first class attributes due\n",
    "# But, still if you need first class attributes, then you can follow below code\n",
    "# If you still want to take "
   ]
  },
  {
   "cell_type": "code",
   "execution_count": 2,
   "metadata": {},
   "outputs": [
    {
     "name": "stdout",
     "output_type": "stream",
     "text": [
      "I am in Phone Class\n",
      "I am in Sumsung Class\n"
     ]
    }
   ],
   "source": [
    "# still if you need first class attributes, then you can follow below code\n",
    "class Phone:\n",
    "    def __init__(self) -> None:\n",
    "        print(\"I am in Phone Class\")\n",
    "\n",
    "class Sumsung(Phone):\n",
    "    def __init__(self) -> None:         # This Constructor for Subclass\n",
    "        super().__init__()              # Asscess to Super Class\n",
    "        print(\"I am in Sumsung Class\")\n",
    "\n",
    "# Object Creation\n",
    "s = Sumsung()\n",
    "\n",
    "# At calling it will go to subclass (instructor) then goes to `Super()` and first print parent Class attribute then subclass"
   ]
  },
  {
   "cell_type": "markdown",
   "metadata": {},
   "source": [
    "## Module 56 : Example of Inheritance"
   ]
  },
  {
   "cell_type": "markdown",
   "metadata": {},
   "source": [
    "**Problem Statement** \n",
    "- There will be a `class` named as **Shape** with some properties. Where these properties will `Inherits by another class`, `Triangle` & `Rantangle`\n",
    "\n",
    "- `Parent Class`: Shape\n",
    "- `Child Class` : Triangle & Ractangle\n",
    "\n",
    "**Formula-Ractangle**\n",
    "- `Length x width`\n",
    "\n",
    "**Formula-Triangle**\n",
    "- `0.5 x Space x Height`\n",
    "\n",
    "So, for both case (Ractangle & Triangle): we need two variable\n"
   ]
  },
  {
   "cell_type": "markdown",
   "metadata": {},
   "source": [
    "## Solution"
   ]
  },
  {
   "cell_type": "code",
   "execution_count": 1,
   "metadata": {},
   "outputs": [
    {
     "name": "stdout",
     "output_type": "stream",
     "text": [
      "Area of Triangle : 300.0\n",
      "Area of Ractangle  600\n"
     ]
    }
   ],
   "source": [
    "\n",
    "# Define Parent Class\n",
    "# Shape Class Just a template, which to be used by Ractangle & Triangle class\n",
    "class Shape:\n",
    "    # Step 1: Define Constructor  \n",
    "    def __init__(self, dim1, dim2) -> None:\n",
    "        self.dim1 = dim1 \n",
    "        self.dim2 = dim2\n",
    "\n",
    "    # Step 2: Define a method for Area Calculation\n",
    "    def area(self):\n",
    "        print(\"I am Area method of Shape Class\")\n",
    "\n",
    "# Child Classes\n",
    "        \n",
    "# Define Class1: Triangle\n",
    "class Triangle(Shape):\n",
    "    # Method Overriding - its automatically inherits all, but overriding due to formula is different for 2 subclass\n",
    "    def area(self):\n",
    "        area = 0.5 * self.dim1 * self.dim2\n",
    "        print(\"Area of Triangle :\", area)\n",
    "\n",
    "# Define Class2: Ractangle\n",
    "class Ractangle(Shape):\n",
    "    def area(self):\n",
    "        area = self.dim1 * self.dim2\n",
    "        print(\"Area of Ractangle \", area)\n",
    "\n",
    "\n",
    "# Object Creation\n",
    "t1 = Triangle(20, 30) \n",
    "r1 = Ractangle(20, 30)\n",
    "\n",
    "# Print\n",
    "t1.area()\n",
    "r1.area()"
   ]
  },
  {
   "cell_type": "markdown",
   "metadata": {},
   "source": [
    "**Step1**\n",
    "- Constructor will save this value within its variable\n",
    "\n",
    "**Class1** \n",
    "- Whenever class1 confirm parent class inside bracked as (Shape), it means that, it will inheriance all the attributes confimed in parents class"
   ]
  },
  {
   "cell_type": "markdown",
   "metadata": {},
   "source": [
    "### Exercise 2"
   ]
  },
  {
   "cell_type": "code",
   "execution_count": 3,
   "metadata": {},
   "outputs": [
    {
     "name": "stdout",
     "output_type": "stream",
     "text": [
      "Fuel Efficiency of Car : 20.0 km/l\n",
      "Fuel Efficiency of Truck : 13.333333333333334 km/l\n"
     ]
    }
   ],
   "source": [
    "# Vehicle Class is be used by Car & Truck Class\n",
    "\n",
    "# Blueprint/ Template\n",
    "class Vehicle:\n",
    "    def __init__(self, distance, fuel) -> None:\n",
    "        self.distance = distance\n",
    "        self.fuel = fuel\n",
    "\n",
    "    def fuel_efficiency(self):\n",
    "        print(\"I am Fuel Efficiency method of Vehicle Class\")\n",
    "\n",
    "# Classes\n",
    "class Car(Vehicle):\n",
    "    def fuel_efficiency(self):\n",
    "        efficiency = self.distance / self.fuel \n",
    "        print(\"Fuel Efficiency of Car :\", efficiency, \"km/l\")\n",
    "\n",
    "class Truck(Vehicle):\n",
    "    def fuel_efficiency(self):\n",
    "        efficiency = self.distance / (self.fuel * 1.5) # # Assume trucks consume 1.5 times more fuel\n",
    "        print(\"Fuel Efficiency of Truck :\", efficiency, \"km/l\")\n",
    "\n",
    "# Object\n",
    "car1 = Car(500, 25)\n",
    "truck1 = Truck(500,25)\n",
    "\n",
    "# Display\n",
    "car1.fuel_efficiency()\n",
    "truck1.fuel_efficiency()\n"
   ]
  },
  {
   "cell_type": "markdown",
   "metadata": {},
   "source": [
    "In this example, the Vehicle class is the parent class with a method for fuel efficiency calculation, which is then overridden in both the Car and Truck classes with their respective formulas. This showcases inheritance and method overriding in a similar manner to your original example."
   ]
  },
  {
   "cell_type": "markdown",
   "metadata": {},
   "source": [
    "## Exercise 3.0"
   ]
  },
  {
   "cell_type": "code",
   "execution_count": 4,
   "metadata": {},
   "outputs": [
    {
     "name": "stdout",
     "output_type": "stream",
     "text": [
      "Area of Triangle: 300.0\n",
      "Area of Rectangle: 600\n",
      "Area of Circle: 706.8583470577034\n"
     ]
    }
   ],
   "source": [
    "# Define Parent Class\n",
    "# Shape Class to be used by Triangle, Rectangle & Circle classes\n",
    "class Shape:\n",
    "    # Step 1: Define Constructor  \n",
    "    def __init__(self, dim1, dim2=0) -> None:\n",
    "        self.dim1 = dim1 \n",
    "        self.dim2 = dim2\n",
    "\n",
    "    # Step 2: Define a method for Area Calculation\n",
    "    def area(self):\n",
    "        print(\"I am Area method of Shape Class\")\n",
    "\n",
    "# Child Classes\n",
    "\n",
    "# Define Class1: Triangle\n",
    "class Triangle(Shape):\n",
    "    # Method Overriding - its automatically inherits all, but overriding due to formula is different for 2 subclass\n",
    "    def area(self):\n",
    "        area = 0.5 * self.dim1 * self.dim2\n",
    "        print(\"Area of Triangle:\", area)\n",
    "\n",
    "# Define Class2: Rectangle\n",
    "class Rectangle(Shape):\n",
    "    def area(self):\n",
    "        area = self.dim1 * self.dim2\n",
    "        print(\"Area of Rectangle:\", area)\n",
    "\n",
    "# Define Class3: Circle\n",
    "class Circle(Shape):\n",
    "    def __init__(self, radius) -> None:\n",
    "        super().__init__(radius)\n",
    "    \n",
    "    def area(self):\n",
    "        import math\n",
    "        area = math.pi * (self.dim1 ** 2)\n",
    "        print(\"Area of Circle:\", area)\n",
    "\n",
    "# Object Creation\n",
    "t1 = Triangle(20, 30) \n",
    "r1 = Rectangle(20, 30)\n",
    "c1 = Circle(15)\n",
    "\n",
    "# Print\n",
    "t1.area()\n",
    "r1.area()\n",
    "c1.area()\n"
   ]
  },
  {
   "cell_type": "markdown",
   "metadata": {},
   "source": [
    "## Exercise 5.0"
   ]
  },
  {
   "cell_type": "code",
   "execution_count": 6,
   "metadata": {},
   "outputs": [
    {
     "name": "stdout",
     "output_type": "stream",
     "text": [
      "Final Price of Electronics: 900.0\n",
      "Final Price of Clothing : 400.0\n",
      "Final Price of Grocery : 190.0\n"
     ]
    }
   ],
   "source": [
    "# Blueprint\n",
    "class Product:\n",
    "    def __init__(self, price) -> None:\n",
    "        self.price = price\n",
    "\n",
    "    def final_price(self):\n",
    "        print(\"I am Final price method of Prodcut Class\")\n",
    "\n",
    "# Child Class\n",
    "class Electronics(Product):\n",
    "    # Method Overriding\n",
    "    def final_price(self):\n",
    "        discount = .10  # 10% Discount\n",
    "        final_price = self.price * (1 - discount)\n",
    "        print(\"Final Price of Electronics:\", final_price)\n",
    "\n",
    "class Clothing(Product):\n",
    "    # Method Overridng\n",
    "    def final_price(self):\n",
    "        discount = .20 # 20% Discount\n",
    "        final_price = self.price *(1 - discount)\n",
    "        print(\"Final Price of Clothing :\", final_price)\n",
    "\n",
    "class Grocery(Product):\n",
    "    def final_price(self):\n",
    "        discount = .05\n",
    "        final_price = self.price * (1 - discount)\n",
    "        print(\"Final Price of Grocery :\", final_price)\n",
    "\n",
    "# Object Creation\n",
    "e1 = Electronics(1000)\n",
    "c1 = Clothing(500)\n",
    "g1 = Grocery(200)\n",
    "\n",
    "# Display\n",
    "e1.final_price()\n",
    "c1.final_price()\n",
    "g1.final_price()"
   ]
  }
 ],
 "metadata": {
  "kernelspec": {
   "display_name": "Python 3",
   "language": "python",
   "name": "python3"
  },
  "language_info": {
   "codemirror_mode": {
    "name": "ipython",
    "version": 3
   },
   "file_extension": ".py",
   "mimetype": "text/x-python",
   "name": "python",
   "nbconvert_exporter": "python",
   "pygments_lexer": "ipython3",
   "version": "3.10.6"
  },
  "orig_nbformat": 4
 },
 "nbformat": 4,
 "nbformat_minor": 2
}
