{
 "cells": [
  {
   "cell_type": "markdown",
   "metadata": {},
   "source": [
    "# Module 54: Inheritance"
   ]
  },
  {
   "cell_type": "markdown",
   "metadata": {},
   "source": [
    "- `Inheritance`: Transferring a `Class` characteristics/ attributes to `Other Class`\n",
    "- `Inheritance` : its Allow Code re-usuablity\n"
   ]
  },
  {
   "cell_type": "code",
   "execution_count": 2,
   "metadata": {},
   "outputs": [
    {
     "name": "stdout",
     "output_type": "stream",
     "text": [
      "You can call\n",
      "You can message\n",
      "You can call me\n",
      "You can Text Me!\n",
      "You can Take Photo!\n"
     ]
    }
   ],
   "source": [
    "\n",
    "# Class 1 with two method\n",
    "class Phone:\n",
    "    # Method 1\n",
    "    def call(self):\n",
    "        print(\"You can call\")\n",
    "\n",
    "    # Method 2\n",
    "    def message(self):\n",
    "        print(\"You can message\")\n",
    "\n",
    "\n",
    "# Class 2 with Three Method\n",
    "class Sumsung:\n",
    "    # Method 1\n",
    "    def call(self):\n",
    "        print(\"You can call me\")\n",
    "\n",
    "    # Method 2\n",
    "    def message(self):\n",
    "        print(\"You can Text Me!\")\n",
    "\n",
    "    # Method 3\n",
    "    def photo(self):\n",
    "        print(\"You can Take Photo!\")\n",
    "\n",
    "# Object Define & Calling - Since P is the obj of `Phone Class` so it can access attributes \n",
    "# ... only for this call generally, can not access Sumsung Class\n",
    "\n",
    "p = Phone()\n",
    "p.call()\n",
    "p.message()\n",
    "\n",
    "\n",
    "# Object & Clalling -Sumsung\n",
    "s = Sumsung()\n",
    "s.call()\n",
    "s.message()\n",
    "s.photo()     # s can allow in Sumsung, p cant\n",
    "        "
   ]
  },
  {
   "cell_type": "markdown",
   "metadata": {},
   "source": [
    "## Inheritance Application"
   ]
  },
  {
   "cell_type": "code",
   "execution_count": 3,
   "metadata": {},
   "outputs": [
    {
     "name": "stdout",
     "output_type": "stream",
     "text": [
      "You can take Photo\n"
     ]
    }
   ],
   "source": [
    "# Inheritance\n",
    "class Phone :\n",
    "    def call(self):\n",
    "        print(\"You can call\")\n",
    "\n",
    "    def message(self):\n",
    "        print(\"You can Message\")\n",
    "\n",
    "class Sumsung:\n",
    "    def photo (self):\n",
    "        print(\"You can take Photo\")\n",
    "\n",
    "s = Sumsung()\n",
    "s.photo()\n",
    "# s.call() not accessible \n",
    "\n",
    "# Case Study, We need call, call & message method by created object (obj for Class)\n",
    "# See the bellow implemention of Inheritance, where phone class will be shifted to Sumsung\n"
   ]
  },
  {
   "cell_type": "markdown",
   "metadata": {},
   "source": [
    "**Inheritance Application**"
   ]
  },
  {
   "cell_type": "code",
   "execution_count": 5,
   "metadata": {},
   "outputs": [
    {
     "name": "stdout",
     "output_type": "stream",
     "text": [
      "You can take Photo\n",
      "You can call\n",
      "You can Message\n"
     ]
    }
   ],
   "source": [
    "class Phone :\n",
    "    def call(self):\n",
    "        print(\"You can call\")\n",
    "\n",
    "    def message(self):\n",
    "        print(\"You can Message\")\n",
    "\n",
    "class Sumsung(Phone):  # Phone passed to Sumsung \n",
    "    # now inherits call & messge\n",
    "    def photo (self):\n",
    "        print(\"You can take Photo\")\n",
    "\n",
    "s = Sumsung()      \n",
    "s.photo()\n",
    "s.call()        # Here phone attributes (call) inherits to Sumsung Class\n",
    "s.message()     # Here phone attributes (Message) inherits to Sumsung Class"
   ]
  },
  {
   "cell_type": "code",
   "execution_count": 7,
   "metadata": {},
   "outputs": [
    {
     "data": {
      "text/plain": [
       "True"
      ]
     },
     "execution_count": 7,
     "metadata": {},
     "output_type": "execute_result"
    }
   ],
   "source": [
    "# Check & Verify whether Sumsung is subclass of Phone Class or not\n",
    "issubclass(Sumsung,Phone) # Check & Verified (True)"
   ]
  },
  {
   "cell_type": "markdown",
   "metadata": {},
   "source": [
    "### Naming"
   ]
  },
  {
   "cell_type": "markdown",
   "metadata": {},
   "source": [
    "- `Phone` : its call `Parent` or `Super Class` or `Base Class`\n",
    "- `Sumsung`: its `Sub-class` or `Child Class` or `Derived Class`\n"
   ]
  }
 ],
 "metadata": {
  "kernelspec": {
   "display_name": "Python 3",
   "language": "python",
   "name": "python3"
  },
  "language_info": {
   "codemirror_mode": {
    "name": "ipython",
    "version": 3
   },
   "file_extension": ".py",
   "mimetype": "text/x-python",
   "name": "python",
   "nbconvert_exporter": "python",
   "pygments_lexer": "ipython3",
   "version": "3.10.6"
  },
  "orig_nbformat": 4
 },
 "nbformat": 4,
 "nbformat_minor": 2
}
