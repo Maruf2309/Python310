{
 "cells": [
  {
   "cell_type": "markdown",
   "metadata": {},
   "source": [
    "# Polymorphism (Many)"
   ]
  },
  {
   "cell_type": "markdown",
   "metadata": {},
   "source": [
    "Polymorphism is one of the core principles of Object-Oriented Programming (OOP). It allows objects of different classes to be treated as objects of a common super class. The main feature of polymorphism is that it allows methods to have the same name but behave differently based on the objects they are acting upon.\n",
    "\n",
    "In simple terms, polymorphism allows one interface (or method) to be used for different types of data."
   ]
  },
  {
   "cell_type": "code",
   "execution_count": 12,
   "metadata": {},
   "outputs": [
    {
     "name": "stdout",
     "output_type": "stream",
     "text": [
      "12\n",
      "4\n",
      "----------------------------------------------------------------------------------------------------\n",
      "User Defined Polymorphism:\n",
      "5\n",
      "10\n"
     ]
    }
   ],
   "source": [
    "# Build-in-Polymorshim Function\n",
    "print(len(\"David Person\")) # len for text\n",
    "print(len([3, 5, 6, 6])) # len for number (same fun used for multiple) we are finding \"Bohurup\" of len fn\n",
    "print('-' * 100)\n",
    "print('User Defined Polymorphism:')\n",
    "\n",
    "# Customized Polymorshipm Function(Same fun for multiple uses)\n",
    "# User Defined Polymormism Function\n",
    "def add(x, y, z=0):\n",
    "    return x + y + z \n",
    "\n",
    "print(add(2, 3))        # z value not assiged, so it will take defuaut value as 0\n",
    "print(add(2, 3, 5))    # same funn used for many\n"
   ]
  },
  {
   "cell_type": "markdown",
   "metadata": {},
   "source": [
    "# Polymorshim with Inheritance Application"
   ]
  },
  {
   "cell_type": "code",
   "execution_count": null,
   "metadata": {},
   "outputs": [
    {
     "name": "stdout",
     "output_type": "stream",
     "text": [
      "Area of Triangle :  300.0\n",
      "Area of Ractangle  600\n"
     ]
    }
   ],
   "source": [
    "from abc import ABC, abstractmethod\n",
    "\n",
    "class Shape(ABC):\n",
    "    def __init__(self, dim1, dim2):\n",
    "        self.dim1 = dim1 \n",
    "        self.dim2 = dim2\n",
    "\n",
    "    @abstractmethod\n",
    "    def area(self):\n",
    "        pass\n",
    "\n",
    "class Triangle(Shape):  \n",
    "    def area(self):\n",
    "        area = 0.5 * self.dim1 * self.dim2\n",
    "        print(\"Area of Triangle : \", area)\n",
    "\n",
    "# Define Class2: Ractangle   \n",
    "class Ractangle(Shape):     # Triange inherits Shape class\n",
    "    def area(self):        # then override self class and used as per self need(Nijermoto kore use kore)\n",
    "        area = self.dim1 * self.dim2\n",
    "        print(\"Area of Ractangle \", area)\n",
    "\n",
    "\n",
    "\n",
    "t1 = Triangle(20, 30)\n",
    "t1.area()\n",
    "\n",
    "r1 = Ractangle(20, 30)\n",
    "r1.area()\n",
    "\n",
    "# Same Area method, applied differently for diffent purpose\n"
   ]
  },
  {
   "cell_type": "code",
   "execution_count": 16,
   "metadata": {},
   "outputs": [
    {
     "name": "stdout",
     "output_type": "stream",
     "text": [
      "Woof!\n",
      "Meow!\n",
      "Chirp!\n"
     ]
    }
   ],
   "source": [
    "class Dog:\n",
    "    def sound(self):\n",
    "        return \"Woof!\"\n",
    "\n",
    "class Cat:\n",
    "    def sound(self):\n",
    "        return \"Meow!\"\n",
    "\n",
    "class Bird:\n",
    "    def sound(self):\n",
    "        return \"Chirp!\"\n",
    "\n",
    "# Function that uses polymorphism\n",
    "def animal_sound(animal):\n",
    "    print(animal.sound())\n",
    "\n",
    "# Create instances of each class\n",
    "dog = Dog()\n",
    "cat = Cat()\n",
    "bird = Bird()\n",
    "\n",
    "# Call the function with different objects\n",
    "animal_sound(dog)   # Output: Woof!\n",
    "animal_sound(cat)   # Output: Meow!\n",
    "animal_sound(bird)  # Output: Chirp!"
   ]
  },
  {
   "cell_type": "markdown",
   "metadata": {},
   "source": [
    "- The `sound` method behaves differently depending on the object it's called on.\n",
    "- This is polymorphism because the same interface `(sound)` is being used, but the behavior changes based on the object's type.\n",
    "\n",
    "In the context of your function `animal_sound(animal)`, the parameter  can represent any object (instance of a class) that has a `sound` method.\n",
    "This is an example of **polymorphism** in Python. The function doesn't need to know what type of object `animal`  is—it simply calls `animal.sound()` and relies on the object to handle it.\n"
   ]
  },
  {
   "cell_type": "markdown",
   "metadata": {},
   "source": [
    "**Example of Polymorphism:**\n",
    "\n",
    "Let's say we have a Shape class and two subclasses, Circle and Rectangle. Both subclasses will implement a area method, but they will do it differently since a circle and a rectangle have different formulas for area calculation."
   ]
  },
  {
   "cell_type": "code",
   "execution_count": 17,
   "metadata": {},
   "outputs": [
    {
     "name": "stdout",
     "output_type": "stream",
     "text": [
      "The area is: 78.5\n",
      "The area is: 24\n"
     ]
    }
   ],
   "source": [
    "# Base Class\n",
    "class Shape:\n",
    "    def area(self):\n",
    "        pass  # Abstract method that should be implemented in subclasses\n",
    "\n",
    "# Derived Class for Circle\n",
    "class Circle(Shape):\n",
    "    def __init__(self, radius):\n",
    "        self.radius = radius\n",
    "    \n",
    "    def area(self):\n",
    "        return 3.14 * (self.radius ** 2)  # Area of a circle = pi * r^2\n",
    "\n",
    "# Derived Class for Rectangle\n",
    "class Rectangle(Shape):\n",
    "    def __init__(self, length, width):\n",
    "        self.length = length\n",
    "        self.width = width\n",
    "    \n",
    "    def area(self):\n",
    "        return self.length * self.width  # Area of a rectangle = length * width\n",
    "\n",
    "# Function to print area, demonstrating polymorphism\n",
    "def print_area(shape):\n",
    "    print(f\"The area is: {shape.area()}\")\n",
    "\n",
    "# Creating objects of Circle and Rectangle\n",
    "circle = Circle(5)\n",
    "rectangle = Rectangle(4, 6)\n",
    "\n",
    "# Demonstrating polymorphism by calling the same method with different objects\n",
    "print_area(circle)  # Output: The area is: 78.5\n",
    "print_area(rectangle)  # Output: The area is: 24\n"
   ]
  },
  {
   "cell_type": "markdown",
   "metadata": {},
   "source": [
    "**Explanation:**\n",
    "\n",
    "1. **Base Class** `Shape`: This is a base class with an abstract method area() that does nothing (i.e., just a placeholder). The subclasses are expected to implement this method.\n",
    "\n",
    "2. **Subclass** `Circle`: In this subclass, the `area()` method calculates the area of a circle using the formula `𝜋𝑟2`\n",
    "\n",
    "3. **Subclass** `Rectangle`: This subclass implements the area() method differently, calculating the area of a rectangle using the formula `length × width`\n",
    "\n",
    "4. **Polymorphism**: The print_area() function works with any object that is a subclass of Shape and calls its area() method. Despite calling the same method (area()), it behaves differently based on the object (circle or rectangle)."
   ]
  }
 ],
 "metadata": {
  "kernelspec": {
   "display_name": "Python 3",
   "language": "python",
   "name": "python3"
  },
  "language_info": {
   "codemirror_mode": {
    "name": "ipython",
    "version": 3
   },
   "file_extension": ".py",
   "mimetype": "text/x-python",
   "name": "python",
   "nbconvert_exporter": "python",
   "pygments_lexer": "ipython3",
   "version": "3.10.6"
  }
 },
 "nbformat": 4,
 "nbformat_minor": 2
}
