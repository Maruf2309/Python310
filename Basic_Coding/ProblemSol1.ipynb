{
 "cells": [
  {
   "cell_type": "markdown",
   "id": "0673333a",
   "metadata": {},
   "source": [
    "### Problem 1"
   ]
  },
  {
   "cell_type": "markdown",
   "id": "01e8069d",
   "metadata": {},
   "source": [
    "**Write a function that takes two parameters - both are lists of names. Your task is to return a combined list containing all unique names from both lists (i.e., no duplicates in the final result).**"
   ]
  },
  {
   "cell_type": "code",
   "execution_count": null,
   "id": "b41ed458",
   "metadata": {},
   "outputs": [
    {
     "name": "stdout",
     "output_type": "stream",
     "text": [
      "['Reza', 'Ripon', 'Khan', 'Rupon', 'Milton']\n"
     ]
    }
   ],
   "source": [
    "# Define list\n",
    "list1 = [\"Reza\",\"Ripon\",\"Khan\",\"Rupon\",\"Milton\"]\n",
    "list2 = [\"Ripon\",\"Niloy\",\"Sajib\",\"Milton\",\"Reza\"]\n",
    "\n",
    "\n",
    "def combine_unique_name(list1, list2):\n",
    "    combined = list1+list2 \n",
    "    unique_name = []\n",
    "    seen = set()                                # A set is used to keep track of names already added.\n",
    "    for name in combined:\n",
    "        if name not in seen:\n",
    "            unique_name.append(name)\n",
    "            seen.add(name)\n",
    "    return unique_name\n",
    "\n",
    "output = combine_unique_name(list1, list1)\n",
    "print(output)"
   ]
  },
  {
   "cell_type": "markdown",
   "id": "7b793b08",
   "metadata": {},
   "source": [
    "**Shorted**"
   ]
  },
  {
   "cell_type": "code",
   "execution_count": null,
   "id": "c0233dd4",
   "metadata": {},
   "outputs": [
    {
     "name": "stdout",
     "output_type": "stream",
     "text": [
      "['Khan', 'Milton', 'Niloy', 'Reza', 'Ripon', 'Rupon', 'Sajib']\n"
     ]
    }
   ],
   "source": [
    "def combine_unique_name(list1, list2):\n",
    "    combined = list1 + list2\n",
    "    unique_name = []\n",
    "    seen = set()\n",
    "    for name in combined:\n",
    "        if name not in seen:\n",
    "            unique_name.append(name)\n",
    "            seen.add(name)\n",
    "    return sorted(unique_name)  # 🔁 Sort the result alphabetically   sorted(unique_name, reverse=True).\n",
    "\n",
    "# Example usage\n",
    "list1 = [\"Reza\",\"Ripon\",\"Khan\",\"Rupon\",\"Milton\"]\n",
    "list2 = [\"Ripon\",\"Niloy\",\"Sajib\",\"Milton\",\"Reza\"]\n",
    "\n",
    "output = combine_unique_name(list1, list2)\n",
    "print(output)\n"
   ]
  },
  {
   "cell_type": "code",
   "execution_count": 6,
   "id": "7c0ef15b",
   "metadata": {},
   "outputs": [
    {
     "name": "stdout",
     "output_type": "stream",
     "text": [
      "['Sajib', 'Rupon', 'Ripon', 'Reza', 'Niloy', 'Milton', 'Khan']\n"
     ]
    }
   ],
   "source": [
    "def combine_unique_name(list1, list2):\n",
    "    combined = list1 + list2\n",
    "    unique_name = []\n",
    "    seen = set()\n",
    "    for name in combined:\n",
    "        if name not in seen:\n",
    "            unique_name.append(name)\n",
    "            seen.add(name)\n",
    "    return sorted(unique_name, reverse=True)   # Shoting Controlling - Reverse or not\n",
    "\n",
    "# Example usage\n",
    "list1 = [\"Reza\",\"Ripon\",\"Khan\",\"Rupon\",\"Milton\"]\n",
    "list2 = [\"Ripon\",\"Niloy\",\"Sajib\",\"Milton\",\"Reza\"]\n",
    "\n",
    "output = combine_unique_name(list1, list2)\n",
    "print(output)\n"
   ]
  }
 ],
 "metadata": {
  "kernelspec": {
   "display_name": "Python 3",
   "language": "python",
   "name": "python3"
  },
  "language_info": {
   "codemirror_mode": {
    "name": "ipython",
    "version": 3
   },
   "file_extension": ".py",
   "mimetype": "text/x-python",
   "name": "python",
   "nbconvert_exporter": "python",
   "pygments_lexer": "ipython3",
   "version": "3.10.6"
  }
 },
 "nbformat": 4,
 "nbformat_minor": 5
}
