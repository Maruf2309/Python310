{
 "cells": [
  {
   "cell_type": "markdown",
   "id": "c41ecc1e",
   "metadata": {},
   "source": [
    "# Function"
   ]
  },
  {
   "cell_type": "markdown",
   "id": "4c1b72ee",
   "metadata": {},
   "source": [
    "- `any()`\n",
    "- `all()`"
   ]
  },
  {
   "cell_type": "code",
   "execution_count": 3,
   "id": "bcc3d4c2",
   "metadata": {},
   "outputs": [
    {
     "name": "stdout",
     "output_type": "stream",
     "text": [
      "The battle is not over\n"
     ]
    }
   ],
   "source": [
    "enemies = [\n",
    "    {'type':'Orc','health':0 },\n",
    "    {'type':'Orc', 'health':0},\n",
    "    {'type':'Orc', 'health':1},\n",
    "    {'type':'Orc','health':2}\n",
    "]\n",
    "\n",
    "if any([enemy['health'] for enemy in enemies]):\n",
    "    print('The battle is not over')\n",
    "else:\n",
    "    print('No more enemies remail!')"
   ]
  },
  {
   "cell_type": "code",
   "execution_count": 4,
   "id": "a21fc034",
   "metadata": {},
   "outputs": [
    {
     "name": "stdout",
     "output_type": "stream",
     "text": [
      "The battle is not over\n"
     ]
    }
   ],
   "source": [
    "if any(enemy['health'] for enemy in enemies):\n",
    "    print('The battle is not over')\n",
    "else:\n",
    "    print('No more enemies remain!')\n"
   ]
  },
  {
   "cell_type": "markdown",
   "id": "3381116f",
   "metadata": {},
   "source": [
    "**Explantion**"
   ]
  },
  {
   "cell_type": "markdown",
   "id": "7f308dfd",
   "metadata": {},
   "source": [
    "- This is a list of dictionaries.\n",
    "- Each dictionary represents an enemy (Orc) with a health value.\n",
    "\n",
    "**How `any()` works**\n",
    "\n",
    "`any()` returns True if any element in the list is truthy.\n",
    "\n",
    "**In Python:**\n",
    "\n",
    "- 0 is considered False\n",
    "- Any non-zero number (1, 2, ...) is True"
   ]
  },
  {
   "cell_type": "markdown",
   "id": "348aadc0",
   "metadata": {},
   "source": [
    "🎯 Example 2: Class Attendance"
   ]
  },
  {
   "cell_type": "code",
   "execution_count": null,
   "id": "46cfe8c1",
   "metadata": {},
   "outputs": [
    {
     "name": "stdout",
     "output_type": "stream",
     "text": [
      "At least one student came today ✅\n",
      "Some are absent ❌ \n"
     ]
    }
   ],
   "source": [
    "students = [\n",
    "    {'name':'Suman','present':0},\n",
    "    {'name':'Mamun','present':0},\n",
    "    {'name':'Ripon','present':1},\n",
    "    {'name':'Kajol','present':1},\n",
    "]\n",
    "\n",
    "if any(s['present'] for s in students):\n",
    "    print(\"At least one student came today \\U00002705\")  # \\U00002705 : this unicode for Tick Mark (short cut window .)\n",
    "else: \n",
    "    print(\"No one came 😢\")\n",
    "\n",
    "if all(s['present'] for s in students):\n",
    "    print(\"All students are present 🎉\")\n",
    "else: \n",
    "    print(\"Some are absent ❌ \")\n"
   ]
  },
  {
   "cell_type": "markdown",
   "id": "f97b5fc5",
   "metadata": {},
   "source": [
    "🎯 Example 2: Grocery Shopping"
   ]
  },
  {
   "cell_type": "code",
   "execution_count": 7,
   "id": "c9550669",
   "metadata": {},
   "outputs": [
    {
     "name": "stdout",
     "output_type": "stream",
     "text": [
      "Some Groceries are available 🛒\n",
      "Some goods are missing 🛍️\n"
     ]
    }
   ],
   "source": [
    "groceries = [\n",
    "    {'item':'Rice', 'available':1},\n",
    "    {'item':'Milk', 'available':0},\n",
    "    {'item':'Eggs', 'available':1}\n",
    "]\n",
    "\n",
    "if any(g['available'] for g in groceries):\n",
    "    print('Some Groceries are available 🛒')\n",
    "else:\n",
    "    print('Shop is Empty ❌')\n",
    "\n",
    "if all(g['available'] for g in groceries):\n",
    "    print(\"All Goods are avaiable 🎯\")\n",
    "else:\n",
    "    print(\"Some goods are missing 🛍️\")"
   ]
  },
  {
   "cell_type": "markdown",
   "id": "28fc178b",
   "metadata": {},
   "source": [
    "🎯 Example 3: Office Wi-Fi Routers"
   ]
  },
  {
   "cell_type": "code",
   "execution_count": 8,
   "id": "c8dfe761",
   "metadata": {},
   "outputs": [
    {
     "name": "stdout",
     "output_type": "stream",
     "text": [
      "At least one router is working 📶\n",
      "Some routers are down ⚠️\n"
     ]
    }
   ],
   "source": [
    "routers = [\n",
    "    {'router':'Router-1', 'working':0},\n",
    "    {'router':'Router-2', 'working':0},\n",
    "    {'router':'Router-3', 'working':1}\n",
    "]\n",
    "\n",
    "if any(r['working'] for r in routers):\n",
    "    print('At least one router is working 📶')\n",
    "else:\n",
    "    print('No internet connection 🚫')\n",
    "\n",
    "if all(r['working'] for r in routers):\n",
    "    print(\"All Routers are working smoothly ✅\")\n",
    "else:\n",
    "    print(\"Some routers are down ⚠️\")\n"
   ]
  },
  {
   "cell_type": "markdown",
   "id": "529b7460",
   "metadata": {},
   "source": [
    "**👉 See the pattern?**\n",
    "\n",
    "`any()` = \"At least one is true\" (some attendance, some groceries, some routers).\n",
    "\n",
    "`all()` = \"Everything is true\" (all present, all items available, all routers working)."
   ]
  }
 ],
 "metadata": {
  "kernelspec": {
   "display_name": "Python 3",
   "language": "python",
   "name": "python3"
  },
  "language_info": {
   "codemirror_mode": {
    "name": "ipython",
    "version": 3
   },
   "file_extension": ".py",
   "mimetype": "text/x-python",
   "name": "python",
   "nbconvert_exporter": "python",
   "pygments_lexer": "ipython3",
   "version": "3.10.6"
  }
 },
 "nbformat": 4,
 "nbformat_minor": 5
}
