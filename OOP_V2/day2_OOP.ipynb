{
 "cells": [
  {
   "cell_type": "markdown",
   "id": "24d9fcc1",
   "metadata": {},
   "source": [
    "## Module 2: OOP"
   ]
  },
  {
   "cell_type": "markdown",
   "id": "11863740",
   "metadata": {},
   "source": [
    "| **ATM Machine**         |   `--Class`              |\n",
    "|-------------------------|--------------------------|\n",
    "| **Data Properties**     | `pin`, `balance`         |\n",
    "| **Functional Properties** | `create_pin()`, `change_pin()`, `check_balance()`, `withdraw()` |\n"
   ]
  },
  {
   "cell_type": "markdown",
   "id": "e13ceb67",
   "metadata": {},
   "source": [
    "### Class: `ATMmachine`\n",
    "\n",
    "| **Property Type**       | **Name / Description**                          |\n",
    "|-------------------------|-------------------------------------------------|\n",
    "| **Data Property**       | `pin`                                           |\n",
    "| **Data Property**       | `balance`                                       |\n",
    "| **Functional Property** | `create_pin()` – Creates a new PIN              |\n",
    "| **Functional Property** | `change_pin()` – Changes the existing PIN       |\n",
    "| **Functional Property** | `check_balance()` – Checks the current balance  |\n",
    "| **Functional Property** | `withdraw()` – Withdraws money from the balance |\n"
   ]
  },
  {
   "cell_type": "markdown",
   "id": "9796fbe2",
   "metadata": {},
   "source": [
    "**Define a Class ATM Machine**"
   ]
  },
  {
   "cell_type": "code",
   "execution_count": null,
   "id": "cfcb6bcc",
   "metadata": {},
   "outputs": [],
   "source": [
    "# Test 1\n"
   ]
  },
  {
   "cell_type": "code",
   "execution_count": 3,
   "id": "3b0192e5",
   "metadata": {},
   "outputs": [],
   "source": [
    "# Creating object of Class as atm\n",
    "# atm = AtmMachine()\n",
    "# Return nothing since nothing passed in constructor yet, its blank \n",
    "# Lets see below"
   ]
  },
  {
   "cell_type": "code",
   "execution_count": null,
   "id": "33d2a772",
   "metadata": {},
   "outputs": [],
   "source": [
    "class AtmMachine: # Clas \n",
    "    # Constructor (config data property):(Special Fuc) with super power\n",
    "    def __init__(self):\n",
    "        self.pin = \"\"                     # These variables are usually considered as Database\n",
    "        self.balance= 0\n",
    "        self.menu()\n",
    "        \n",
    "    def menu(self):          # menu is properties of AtmMachine class, so need to call him by using self\n",
    "        user_input = input(\n",
    "\n",
    "            \"\"\" \n",
    "            Hi, How can I help you?\n",
    "            1. Press 1 to create pin\n",
    "            2. Press 2 to change pin\n",
    "            3. Press 3 to check balance\n",
    "            4. Press 4 to withdraw\n",
    "            5. Press any to exit\n",
    "\n",
    "            \"\"\"\n",
    "\n",
    "        )\n",
    "\n",
    "        ## Template Design\n",
    "\n",
    "        if user_input == \"1\":\n",
    "            # create pin\n",
    "            pass\n",
    "        elif user_input ==\"2\":\n",
    "            #change pin\n",
    "            pass\n",
    "\n",
    "        elif user_input==\"3\":\n",
    "            #check balance\n",
    "            pass \n",
    "        elif user_input==\"4\":\n",
    "            #withdraw\n",
    "            pass\n",
    "        else:\n",
    "            exit()\n",
    "\n",
    "    ## Now Create function for all this \n",
    "    def create_pin(self):\n",
    "        user_pin = input(\"Enter your pin: \")\n",
    "        self.pin = user_pin        # user pin will be stored in pin variable (database) \n",
    "\n",
    "        user_balance = int(input(\"Enter Balance: \"))\n",
    "        self.balance = user_balance\n",
    "\n",
    "\n",
    "        print(\"Pin Created Successfully!\")\n",
    "        self.menu()\n"
   ]
  },
  {
   "cell_type": "code",
   "execution_count": 3,
   "id": "7766d288",
   "metadata": {},
   "outputs": [],
   "source": [
    "# Special power is that its now its returned print statement automatically\n",
    "atm = AtmMachine()"
   ]
  },
  {
   "cell_type": "code",
   "execution_count": 4,
   "id": "91a1fee3",
   "metadata": {},
   "outputs": [],
   "source": [
    "atm.menu()"
   ]
  },
  {
   "cell_type": "code",
   "execution_count": null,
   "metadata": {},
   "outputs": [],
   "source": []
  },
  {
   "cell_type": "code",
   "execution_count": null,
   "metadata": {},
   "outputs": [],
   "source": []
  },
  {
   "cell_type": "code",
   "execution_count": null,
   "metadata": {},
   "outputs": [],
   "source": []
  },
  {
   "cell_type": "markdown",
   "id": "c0d7384b",
   "metadata": {},
   "source": [
    "**Construtor**\n",
    "- its a special function, that doesnot required to call explicitely"
   ]
  },
  {
   "cell_type": "code",
   "execution_count": 6,
   "id": "fa33e321",
   "metadata": {},
   "outputs": [
    {
     "name": "stdout",
     "output_type": "stream",
     "text": [
      "OK\n"
     ]
    }
   ],
   "source": [
    "# test \n",
    "def test():\n",
    "    print(\"OK\")\n",
    "\n",
    "# Creating object\n",
    "t1 = test()\n",
    "t1             # In python (traditional) need  call it itself"
   ]
  },
  {
   "cell_type": "code",
   "execution_count": null,
   "id": "822a9a77",
   "metadata": {},
   "outputs": [],
   "source": []
  },
  {
   "cell_type": "code",
   "execution_count": null,
   "id": "94928c3f",
   "metadata": {},
   "outputs": [],
   "source": []
  }
 ],
 "metadata": {
  "kernelspec": {
   "display_name": "Python 3",
   "language": "python",
   "name": "python3"
  },
  "language_info": {
   "codemirror_mode": {
    "name": "ipython",
    "version": 3
   },
   "file_extension": ".py",
   "mimetype": "text/x-python",
   "name": "python",
   "nbconvert_exporter": "python",
   "pygments_lexer": "ipython3",
   "version": "3.10.6"
  }
 },
 "nbformat": 4,
 "nbformat_minor": 5
}
