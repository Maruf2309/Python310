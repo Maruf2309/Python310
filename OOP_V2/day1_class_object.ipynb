{
 "cells": [
  {
   "cell_type": "markdown",
   "id": "6f3e26e0",
   "metadata": {},
   "source": [
    "## OOP - Class & Object"
   ]
  },
  {
   "cell_type": "markdown",
   "id": "b9e7aefd",
   "metadata": {},
   "source": [
    "**Core Concept of OOP**\n",
    "1. Class  \n",
    "2. Object  \n",
    "3. Inheritance  \n",
    "4. Encapsulation  \n",
    "5. Polymorphism  \n",
    "6. Abstraction\n"
   ]
  },
  {
   "cell_type": "markdown",
   "id": "b2f3362a",
   "metadata": {},
   "source": [
    "**Define Program for Robot(Multiple) with multiple Funtinality as `movement`,`detect`,`Wheel Control`**"
   ]
  },
  {
   "cell_type": "code",
   "execution_count": 1,
   "id": "0f50c07a",
   "metadata": {},
   "outputs": [
    {
     "name": "stdout",
     "output_type": "stream",
     "text": [
      "Its robot 1\n",
      "Its robot 2\n",
      "Its robot 2\n"
     ]
    }
   ],
   "source": [
    "class Robot:\n",
    "    # Define constructor for taking inputs\n",
    "    def __init__(self, robot_num): # it will take robot number as input\n",
    "        self.robot_num = robot_num\n",
    "\n",
    "    # Define Different Funtionalalies/ Step name: Method Inialize\n",
    "    ## Fun1\n",
    "    def movement(self):                      # define self inside for all, since its properties of class\n",
    "        print(f\"Its robot {self.robot_num}\")\n",
    "\n",
    "    def fire_detect(self):\n",
    "        print(f\"Its robot {self.robot_num}\")\n",
    "\n",
    "    def wheeel_control(self):\n",
    "        print(f\"its robot {self.robot_num}\")\n",
    "\n",
    "    def ai_intelligence(self):\n",
    "        print(f\"Its robot {self.robot_num}\")\n",
    "\n",
    "\n",
    "# Step 2: Create object for class(robot), so that we can access all the func (outside the fun)\n",
    "robot1 = Robot(robot_num = 1)\n",
    "robot1.movement()\n",
    "\n",
    "robo2 = Robot(robot_num=2) # You may need multiple robots, ou have have millions of robot like this\n",
    "robo2.movement()\n",
    "\n",
    "robo2 = Robot(robot_num=2) \n",
    "robo2.ai_intelligence()"
   ]
  },
  {
   "cell_type": "markdown",
   "id": "93a4be46",
   "metadata": {},
   "source": [
    "**Notes**\n",
    "here `movement`,`fire_detect`,`wheel_control` all are properties of `Robot` class due to using `self` defining inside all the properties"
   ]
  },
  {
   "cell_type": "markdown",
   "id": "47176560",
   "metadata": {},
   "source": [
    "### Excercise 2"
   ]
  },
  {
   "cell_type": "code",
   "execution_count": 2,
   "id": "bf4fb7a4",
   "metadata": {},
   "outputs": [
    {
     "name": "stdout",
     "output_type": "stream",
     "text": [
      "Maruf\n",
      "30\n"
     ]
    }
   ],
   "source": [
    "class Person:\n",
    "    def __init__(self, name, age):\n",
    "        self.name = name        # data property\n",
    "        self.age = age          # data property\n",
    "\n",
    "# Creating an object\n",
    "p1 = Person(\"Maruf\", 30)\n",
    "\n",
    "# Accessing data properties\n",
    "print(p1.name)  \n",
    "print(p1.age)   \n"
   ]
  },
  {
   "cell_type": "markdown",
   "id": "bd984566",
   "metadata": {},
   "source": [
    "#### Class vs Object"
   ]
  },
  {
   "cell_type": "code",
   "execution_count": 3,
   "id": "3b5e5d38",
   "metadata": {},
   "outputs": [],
   "source": [
    "# Object \n",
    "l = [1,2, 3]\n",
    "# l.upper() # will return error, since upper is for str not for object\n",
    "# In python, whatever define all are objects\n",
    "\n",
    "s = \"Maruf\"\n",
    "# s.append(\"H\") # Same append is func for number not for str"
   ]
  },
  {
   "cell_type": "code",
   "execution_count": 4,
   "id": "082698ef",
   "metadata": {},
   "outputs": [
    {
     "name": "stdout",
     "output_type": "stream",
     "text": [
      "<class 'list'>\n",
      "<class 'str'>\n",
      "<class 'int'>\n"
     ]
    }
   ],
   "source": [
    "l = [1,2, 3]           # here list is class then L is object\n",
    "print(type(l))\n",
    "\n",
    "# type is class, and the variable we define in resect to class is called object\n",
    "# The variable storeed class is called object\n",
    "\n",
    "s = \"Maruf\"         # ther str is class & s is object\n",
    "print(type(s))\n",
    "\n",
    "n = 50\n",
    "print(type(n))\n"
   ]
  },
  {
   "cell_type": "code",
   "execution_count": 5,
   "id": "84dcb69a",
   "metadata": {},
   "outputs": [
    {
     "name": "stdout",
     "output_type": "stream",
     "text": [
      "<class 'list'>\n"
     ]
    }
   ],
   "source": [
    "l = list() # list has seperate fun in python\n",
    "s = str()  # str has seperate fun in python\n",
    "\n",
    "print(type(l))"
   ]
  },
  {
   "cell_type": "markdown",
   "id": "bc375eb2",
   "metadata": {},
   "source": [
    "#### Example"
   ]
  },
  {
   "cell_type": "code",
   "execution_count": 6,
   "id": "098e3c61",
   "metadata": {},
   "outputs": [
    {
     "data": {
      "text/plain": [
       "'\\nsamsung = mobile()\\niphone = mobile()\\nnokia = mobile()\\n\\nMobile is class, where is so many companies which are object\\n\\nbmw = car()\\naudi = car(\\n\\nrobot1 = Robot()\\n\\nt = tuple() tuple is class then t is object of it\\n\\n'"
      ]
     },
     "execution_count": 6,
     "metadata": {},
     "output_type": "execute_result"
    }
   ],
   "source": [
    "\n",
    "'''\n",
    "samsung = mobile()\n",
    "iphone = mobile()\n",
    "nokia = mobile()\n",
    "\n",
    "Mobile is class, where is so many companies which are object\n",
    "\n",
    "bmw = car()\n",
    "audi = car(\n",
    "\n",
    "robot1 = Robot()\n",
    "\n",
    "t = tuple() tuple is class then t is object of it\n",
    "\n",
    "''' "
   ]
  },
  {
   "cell_type": "markdown",
   "id": "8086fae2",
   "metadata": {},
   "source": [
    "### FAQ"
   ]
  },
  {
   "cell_type": "markdown",
   "id": "1c4cb2e0",
   "metadata": {},
   "source": [
    "- We can define `params` inside Constructor\n",
    "- `Data Properties` will be initiazed inside `Constructor`\n",
    "\n",
    "**Q: How many Properties a class can have ?**\n",
    "\n",
    "Ans: 2\n",
    "    - Data Properties\n",
    "    - Functional Properties (confirm by def ), we refer this fun properties as `class method`\n",
    "\n",
    "**Q: How Many Properites you can define as data or func** --> As much as possible as per project Requirments"
   ]
  },
  {
   "cell_type": "markdown",
   "id": "a346f275",
   "metadata": {},
   "source": [
    "### Question"
   ]
  },
  {
   "cell_type": "markdown",
   "id": "0791c61d",
   "metadata": {},
   "source": [
    "**Data Properties**\n",
    "\n",
    "In Object-Oriented Programming (OOP), data properties in a class refer to the attributes or variables that hold the state (data) of an object. These are also called fields, instance variables, or member variables.\n",
    "\n",
    "**🔹 What are Data Properties?**\n",
    "Data properties are:\n",
    "\n",
    "- Defined inside a class, usually within the constructor (__init__ method in Python).\n",
    "\n",
    "- Unique to each object (unless defined as class variables).\n",
    "\n",
    "- Used to store information about the object (like name, age, ID, etc.).\n",
    "\n",
    "\n",
    "\n"
   ]
  },
  {
   "cell_type": "code",
   "execution_count": null,
   "id": "e8673bd8",
   "metadata": {},
   "outputs": [],
   "source": []
  }
 ],
 "metadata": {
  "kernelspec": {
   "display_name": "Python 3",
   "language": "python",
   "name": "python3"
  },
  "language_info": {
   "codemirror_mode": {
    "name": "ipython",
    "version": 3
   },
   "file_extension": ".py",
   "mimetype": "text/x-python",
   "name": "python",
   "nbconvert_exporter": "python",
   "pygments_lexer": "ipython3",
   "version": "3.10.6"
  }
 },
 "nbformat": 4,
 "nbformat_minor": 5
}
