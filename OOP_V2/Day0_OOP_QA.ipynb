{
 "cells": [
  {
   "cell_type": "markdown",
   "id": "6cb3db88",
   "metadata": {},
   "source": [
    "## OOP Documentation"
   ]
  },
  {
   "cell_type": "markdown",
   "id": "eae00af7",
   "metadata": {},
   "source": [
    "**OOP Q&A**"
   ]
  },
  {
   "cell_type": "markdown",
   "id": "9832a608",
   "metadata": {},
   "source": [
    "**Q1. A Class should have ?**\n",
    "- Two Properties (data, functional Properties)\n",
    "\n",
    "**Where Data Properties are defined ?**\n",
    "- Ans: In constructor (__init__) and `Functional` properties are defined inside `method`\n",
    "\n",
    "**Class are defined as `Pascel Case` -- `Hello Word` --> `HelloWord`"
   ]
  },
  {
   "cell_type": "code",
   "execution_count": null,
   "id": "af6d251b",
   "metadata": {},
   "outputs": [],
   "source": [
    "class AtmMachine:\n",
    "    # Constructor (config data property):(Special Fuc) with super power\n",
    "    def __init__(self):\n",
    "        self.pin = \"\"  # User will define his pin\n",
    "        self.balance= 0"
   ]
  },
  {
   "cell_type": "markdown",
   "id": "afe1b39e",
   "metadata": {},
   "source": [
    "**Why Self** \n",
    "- Self means (pin, balance) these are data properties of class `AtmMachine`"
   ]
  },
  {
   "cell_type": "code",
   "execution_count": null,
   "id": "b73f761e",
   "metadata": {},
   "outputs": [],
   "source": []
  }
 ],
 "metadata": {
  "kernelspec": {
   "display_name": "Python 3",
   "language": "python",
   "name": "python3"
  },
  "language_info": {
   "codemirror_mode": {
    "name": "ipython",
    "version": 3
   },
   "file_extension": ".py",
   "mimetype": "text/x-python",
   "name": "python",
   "nbconvert_exporter": "python",
   "pygments_lexer": "ipython3",
   "version": "3.10.6"
  }
 },
 "nbformat": 4,
 "nbformat_minor": 5
}
