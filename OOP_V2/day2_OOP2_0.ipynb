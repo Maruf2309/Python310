{
 "cells": [
  {
   "cell_type": "markdown",
   "id": "24d9fcc1",
   "metadata": {},
   "source": [
    "## Module 2: OOP"
   ]
  },
  {
   "cell_type": "markdown",
   "id": "11863740",
   "metadata": {},
   "source": [
    "| **ATM Machine**         |   `--Class`              |\n",
    "|-------------------------|--------------------------|\n",
    "| **Data Properties**     | `pin`, `balance`         |\n",
    "| **Functional Properties** | `create_pin()`, `change_pin()`, `check_balance()`, `withdraw()` |\n"
   ]
  },
  {
   "cell_type": "markdown",
   "id": "e13ceb67",
   "metadata": {},
   "source": [
    "### Class: `ATMmachine`\n",
    "\n",
    "| **Property Type**       | **Name / Description**                          |\n",
    "|-------------------------|-------------------------------------------------|\n",
    "| **Data Property**       | `pin`                                           |\n",
    "| **Data Property**       | `balance`                                       |\n",
    "| **Functional Property** | `create_pin()` – Creates a new PIN              |\n",
    "| **Functional Property** | `change_pin()` – Changes the existing PIN       |\n",
    "| **Functional Property** | `check_balance()` – Checks the current balance  |\n",
    "| **Functional Property** | `withdraw()` – Withdraws money from the balance |\n"
   ]
  },
  {
   "cell_type": "markdown",
   "id": "9796fbe2",
   "metadata": {},
   "source": [
    "**Define a Class ATM Machine**"
   ]
  },
  {
   "cell_type": "code",
   "execution_count": null,
   "id": "cfcb6bcc",
   "metadata": {},
   "outputs": [],
   "source": [
    "# Test 1\n"
   ]
  },
  {
   "cell_type": "code",
   "execution_count": 3,
   "id": "3b0192e5",
   "metadata": {},
   "outputs": [],
   "source": [
    "# Creating object of Class as atm\n",
    "# atm = AtmMachine()\n",
    "# Return nothing since nothing passed in constructor yet, its blank \n",
    "# Lets see below"
   ]
  },
  {
   "cell_type": "code",
   "execution_count": null,
   "id": "33d2a772",
   "metadata": {},
   "outputs": [],
   "source": [
    "class AtmMachine: # Clas \n",
    "    # Constructor (config data property):(Special Fuc) with super power\n",
    "    def __init__(self):\n",
    "        self.pin = \"\"\n",
    "        self.balance= 0\n",
    "        print(\"I am a ATM Machine\") # Assign for test"
   ]
  },
  {
   "cell_type": "code",
   "execution_count": 8,
   "id": "7766d288",
   "metadata": {},
   "outputs": [
    {
     "name": "stdout",
     "output_type": "stream",
     "text": [
      "I am a ATM Machine\n"
     ]
    }
   ],
   "source": [
    "# Special power is that its now its returned print statement automatically\n",
    "atm = AtmMachine()"
   ]
  },
  {
   "cell_type": "markdown",
   "id": "c0d7384b",
   "metadata": {},
   "source": [
    "**Construtor**\n",
    "- its a special function, that doesnot required to call explicitely"
   ]
  },
  {
   "cell_type": "code",
   "execution_count": 6,
   "id": "fa33e321",
   "metadata": {},
   "outputs": [
    {
     "name": "stdout",
     "output_type": "stream",
     "text": [
      "OK\n"
     ]
    }
   ],
   "source": [
    "# test \n",
    "def test():\n",
    "    print(\"OK\")\n",
    "\n",
    "# Creating object\n",
    "t1 = test()\n",
    "t1             # In python (traditional) need  call it itself"
   ]
  },
  {
   "cell_type": "code",
   "execution_count": null,
   "id": "822a9a77",
   "metadata": {},
   "outputs": [],
   "source": []
  },
  {
   "cell_type": "code",
   "execution_count": null,
   "id": "94928c3f",
   "metadata": {},
   "outputs": [],
   "source": []
  },
  {
   "cell_type": "code",
   "execution_count": 1,
   "id": "2b7360d5",
   "metadata": {},
   "outputs": [],
   "source": [
    "class ATMmachine:\n",
    "    def __init__(self):\n",
    "        self.pin = None\n",
    "        self.balance = 0\n",
    "\n",
    "    def create_pin(self, new_pin):\n",
    "        self.pin = new_pin\n",
    "        print(\"PIN created successfully.\")\n",
    "\n",
    "    def change_pin(self, old_pin, new_pin):\n",
    "        if self.pin == old_pin:\n",
    "            self.pin = new_pin\n",
    "            print(\"PIN changed successfully.\")\n",
    "        else:\n",
    "            print(\"Incorrect old PIN.\")\n",
    "\n",
    "    def check_balance(self, entered_pin):\n",
    "        if self.pin == entered_pin:\n",
    "            print(f\"Your balance is: ${self.balance}\")\n",
    "        else:\n",
    "            print(\"Incorrect PIN. Access denied.\")\n",
    "\n",
    "    def withdraw(self, entered_pin, amount):\n",
    "        if self.pin != entered_pin:\n",
    "            print(\"Incorrect PIN. Access denied.\")\n",
    "        elif amount > self.balance:\n",
    "            print(\"Insufficient balance.\")\n",
    "        else:\n",
    "            self.balance -= amount\n",
    "            print(f\"${amount} withdrawn successfully. Remaining balance: ${self.balance}\")\n"
   ]
  },
  {
   "cell_type": "code",
   "execution_count": 2,
   "id": "561fa8ad",
   "metadata": {},
   "outputs": [
    {
     "name": "stdout",
     "output_type": "stream",
     "text": [
      "PIN created successfully.\n",
      "Your balance is: $0\n",
      "Insufficient balance.\n",
      "PIN changed successfully.\n"
     ]
    }
   ],
   "source": [
    "atm = ATMmachine()\n",
    "atm.create_pin(\"1234\")\n",
    "atm.check_balance(\"1234\")\n",
    "atm.withdraw(\"1234\", 100)\n",
    "atm.change_pin(\"1234\", \"5678\")\n"
   ]
  },
  {
   "cell_type": "markdown",
   "id": "46e48c0a",
   "metadata": {},
   "source": [
    "**Test 2: add features like deposit, account holder name, or saving transaction history.**"
   ]
  },
  {
   "cell_type": "markdown",
   "id": "80de70a3",
   "metadata": {},
   "source": [
    "**An enhanced version of the ATMmachine class that includes:**\n",
    "\n",
    "- Account holder name\n",
    "\n",
    "- Deposit functionality\n",
    "\n",
    "- Transaction history tracking"
   ]
  },
  {
   "cell_type": "code",
   "execution_count": 3,
   "id": "8315d152",
   "metadata": {},
   "outputs": [],
   "source": [
    "class ATMmachine:\n",
    "    def __init__(self, account_holder):\n",
    "        self.account_holder = account_holder\n",
    "        self.pin = None\n",
    "        self.balance = 0\n",
    "        self.transaction_history = []\n",
    "\n",
    "    def create_pin(self, new_pin):\n",
    "        self.pin = new_pin\n",
    "        print(\"PIN created successfully.\")\n",
    "\n",
    "    def change_pin(self, old_pin, new_pin):\n",
    "        if self.pin == old_pin:\n",
    "            self.pin = new_pin\n",
    "            print(\"PIN changed successfully.\")\n",
    "        else:\n",
    "            print(\"Incorrect old PIN.\")\n",
    "\n",
    "    def check_balance(self, entered_pin):\n",
    "        if self.pin == entered_pin:\n",
    "            print(f\"Account Holder: {self.account_holder}\")\n",
    "            print(f\"Current Balance: ${self.balance}\")\n",
    "        else:\n",
    "            print(\"Incorrect PIN. Access denied.\")\n",
    "\n",
    "    def deposit(self, entered_pin, amount):\n",
    "        if self.pin == entered_pin:\n",
    "            self.balance += amount\n",
    "            self.transaction_history.append(f\"Deposited ${amount}\")\n",
    "            print(f\"${amount} deposited successfully. New balance: ${self.balance}\")\n",
    "        else:\n",
    "            print(\"Incorrect PIN. Access denied.\")\n",
    "\n",
    "    def withdraw(self, entered_pin, amount):\n",
    "        if self.pin != entered_pin:\n",
    "            print(\"Incorrect PIN. Access denied.\")\n",
    "        elif amount > self.balance:\n",
    "            print(\"Insufficient balance.\")\n",
    "        else:\n",
    "            self.balance -= amount\n",
    "            self.transaction_history.append(f\"Withdrew ${amount}\")\n",
    "            print(f\"${amount} withdrawn successfully. Remaining balance: ${self.balance}\")\n",
    "\n",
    "    def show_transaction_history(self, entered_pin):\n",
    "        if self.pin == entered_pin:\n",
    "            print(\"Transaction History:\")\n",
    "            if not self.transaction_history:\n",
    "                print(\"No transactions yet.\")\n",
    "            else:\n",
    "                for txn in self.transaction_history:\n",
    "                    print(\"-\", txn)\n",
    "        else:\n",
    "            print(\"Incorrect PIN. Access denied.\")\n"
   ]
  },
  {
   "cell_type": "code",
   "execution_count": 4,
   "id": "d5dd030c",
   "metadata": {},
   "outputs": [
    {
     "name": "stdout",
     "output_type": "stream",
     "text": [
      "PIN created successfully.\n",
      "$500 deposited successfully. New balance: $500\n",
      "$200 withdrawn successfully. Remaining balance: $300\n",
      "Account Holder: Maruf Hossain\n",
      "Current Balance: $300\n",
      "Transaction History:\n",
      "- Deposited $500\n",
      "- Withdrew $200\n"
     ]
    }
   ],
   "source": [
    "atm = ATMmachine(\"Maruf Hossain\")\n",
    "atm.create_pin(\"1234\")\n",
    "atm.deposit(\"1234\", 500)\n",
    "atm.withdraw(\"1234\", 200)\n",
    "atm.check_balance(\"1234\")\n",
    "atm.show_transaction_history(\"1234\")\n"
   ]
  },
  {
   "cell_type": "markdown",
   "id": "3fdf8958",
   "metadata": {},
   "source": [
    "**Test 3 this class to support multiple accounts or file-based data saving in future versions?**"
   ]
  },
  {
   "cell_type": "markdown",
   "id": "0a6e6a3f",
   "metadata": {},
   "source": [
    "Here's the next-level version of the ATM system — a simple multi-account system with file-based data persistence using JSON. This version will support:\n",
    "\n",
    "- Multiple user accounts\n",
    "\n",
    "- Saving/loading user data to/from a file\n",
    "\n",
    "- Unique usernames for account identification"
   ]
  },
  {
   "cell_type": "code",
   "execution_count": 5,
   "id": "0fe99fb9",
   "metadata": {},
   "outputs": [],
   "source": [
    "import json\n",
    "import os\n",
    "\n",
    "class ATMmachine:\n",
    "    def __init__(self, data_file='atm_data.json'):\n",
    "        self.data_file = data_file\n",
    "        self.users = self.load_data()\n",
    "\n",
    "    def load_data(self):\n",
    "        if os.path.exists(self.data_file):\n",
    "            with open(self.data_file, 'r') as f:\n",
    "                return json.load(f)\n",
    "        return {}\n",
    "\n",
    "    def save_data(self):\n",
    "        with open(self.data_file, 'w') as f:\n",
    "            json.dump(self.users, f, indent=4)\n",
    "\n",
    "    def create_account(self, username, pin):\n",
    "        if username in self.users:\n",
    "            print(\"Username already exists.\")\n",
    "            return\n",
    "        self.users[username] = {\n",
    "            'pin': pin,\n",
    "            'balance': 0,\n",
    "            'history': []\n",
    "        }\n",
    "        self.save_data()\n",
    "        print(f\"Account created for {username}.\")\n",
    "\n",
    "    def authenticate(self, username, pin):\n",
    "        user = self.users.get(username)\n",
    "        return user and user['pin'] == pin\n",
    "\n",
    "    def deposit(self, username, pin, amount):\n",
    "        if self.authenticate(username, pin):\n",
    "            self.users[username]['balance'] += amount\n",
    "            self.users[username]['history'].append(f\"Deposited ${amount}\")\n",
    "            self.save_data()\n",
    "            print(f\"${amount} deposited. New balance: ${self.users[username]['balance']}\")\n",
    "        else:\n",
    "            print(\"Authentication failed.\")\n",
    "\n",
    "    def withdraw(self, username, pin, amount):\n",
    "        if self.authenticate(username, pin):\n",
    "            if self.users[username]['balance'] >= amount:\n",
    "                self.users[username]['balance'] -= amount\n",
    "                self.users[username]['history'].append(f\"Withdrew ${amount}\")\n",
    "                self.save_data()\n",
    "                print(f\"${amount} withdrawn. Remaining balance: ${self.users[username]['balance']}\")\n",
    "            else:\n",
    "                print(\"Insufficient funds.\")\n",
    "        else:\n",
    "            print(\"Authentication failed.\")\n",
    "\n",
    "    def check_balance(self, username, pin):\n",
    "        if self.authenticate(username, pin):\n",
    "            print(f\"Balance for {username}: ${self.users[username]['balance']}\")\n",
    "        else:\n",
    "            print(\"Authentication failed.\")\n",
    "\n",
    "    def show_transaction_history(self, username, pin):\n",
    "        if self.authenticate(username, pin):\n",
    "            history = self.users[username]['history']\n",
    "            print(f\"Transaction history for {username}:\")\n",
    "            if not history:\n",
    "                print(\"No transactions yet.\")\n",
    "            else:\n",
    "                for txn in history:\n",
    "                    print(\"-\", txn)\n",
    "        else:\n",
    "            print(\"Authentication failed.\")\n",
    "\n",
    "    def change_pin(self, username, old_pin, new_pin):\n",
    "        if self.authenticate(username, old_pin):\n",
    "            self.users[username]['pin'] = new_pin\n",
    "            self.save_data()\n",
    "            print(\"PIN changed successfully.\")\n",
    "        else:\n",
    "            print(\"Authentication failed.\")\n"
   ]
  },
  {
   "cell_type": "code",
   "execution_count": 6,
   "id": "0bb2ca95",
   "metadata": {},
   "outputs": [
    {
     "name": "stdout",
     "output_type": "stream",
     "text": [
      "Account created for maruf.\n",
      "$1000 deposited. New balance: $1000\n",
      "$300 withdrawn. Remaining balance: $700\n",
      "Balance for maruf: $700\n",
      "Transaction history for maruf:\n",
      "- Deposited $1000\n",
      "- Withdrew $300\n",
      "PIN changed successfully.\n"
     ]
    }
   ],
   "source": [
    "atm = ATMmachine()\n",
    "\n",
    "# Create account\n",
    "atm.create_account(\"maruf\", \"1234\")\n",
    "\n",
    "# Deposit\n",
    "atm.deposit(\"maruf\", \"1234\", 1000)\n",
    "\n",
    "# Withdraw\n",
    "atm.withdraw(\"maruf\", \"1234\", 300)\n",
    "\n",
    "# Check balance\n",
    "atm.check_balance(\"maruf\", \"1234\")\n",
    "\n",
    "# Transaction history\n",
    "atm.show_transaction_history(\"maruf\", \"1234\")\n",
    "\n",
    "# Change PIN\n",
    "atm.change_pin(\"maruf\", \"1234\", \"5678\")\n"
   ]
  },
  {
   "cell_type": "code",
   "execution_count": null,
   "id": "7dbb420e",
   "metadata": {},
   "outputs": [],
   "source": []
  }
 ],
 "metadata": {
  "kernelspec": {
   "display_name": "Python 3",
   "language": "python",
   "name": "python3"
  },
  "language_info": {
   "codemirror_mode": {
    "name": "ipython",
    "version": 3
   },
   "file_extension": ".py",
   "mimetype": "text/x-python",
   "name": "python",
   "nbconvert_exporter": "python",
   "pygments_lexer": "ipython3",
   "version": "3.10.6"
  }
 },
 "nbformat": 4,
 "nbformat_minor": 5
}
