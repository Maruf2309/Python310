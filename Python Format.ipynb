{
 "cells": [
  {
   "cell_type": "markdown",
   "id": "c870333f",
   "metadata": {},
   "source": [
    "## Python Format ()"
   ]
  },
  {
   "cell_type": "code",
   "execution_count": 1,
   "id": "5a3eed93",
   "metadata": {},
   "outputs": [
    {
     "name": "stdout",
     "output_type": "stream",
     "text": [
      "My Name is Kamal and age 50\n"
     ]
    }
   ],
   "source": [
    "a=\"My Name is Kamal and age 50\"\n",
    "print(a)"
   ]
  },
  {
   "cell_type": "code",
   "execution_count": 2,
   "id": "f2b2822a",
   "metadata": {},
   "outputs": [
    {
     "name": "stdout",
     "output_type": "stream",
     "text": [
      "My Name is Kamal and age 50.000000\n"
     ]
    }
   ],
   "source": [
    "a=\"My Name is %s and age %f\"\n",
    "print(a % ('Kamal',50))"
   ]
  },
  {
   "cell_type": "code",
   "execution_count": 3,
   "id": "60520e48",
   "metadata": {},
   "outputs": [
    {
     "name": "stdout",
     "output_type": "stream",
     "text": [
      "My Name is Kamal and age 50\n"
     ]
    }
   ],
   "source": [
    "a=\"My Name is {} and age {}\"\n",
    "\n",
    "print(a.format(\"Kamal\",50))"
   ]
  },
  {
   "cell_type": "code",
   "execution_count": 4,
   "id": "ff72e931",
   "metadata": {},
   "outputs": [
    {
     "name": "stdout",
     "output_type": "stream",
     "text": [
      "My Name is Kamal and age 50\n"
     ]
    }
   ],
   "source": [
    "name=\"Kamal\"\n",
    "age=50\n",
    "\n",
    "a=\"My Name is {} and age {}\"\n",
    "\n",
    "print(a.format(name,age))"
   ]
  },
  {
   "cell_type": "code",
   "execution_count": 5,
   "id": "2a4ce063",
   "metadata": {},
   "outputs": [
    {
     "name": "stdout",
     "output_type": "stream",
     "text": [
      "My Name is kamal and age A50.898\n"
     ]
    }
   ],
   "source": [
    "name=\"Kamal\"\n",
    "age=50\n",
    "\n",
    "a=\"My Name is {name} and age {age}\"\n",
    "\n",
    "print(a.format(age=\"A50.898\",name=\"kamal\"))"
   ]
  },
  {
   "cell_type": "code",
   "execution_count": 6,
   "id": "e7d7412e",
   "metadata": {},
   "outputs": [
    {
     "name": "stdout",
     "output_type": "stream",
     "text": [
      "My Name is Kamal and age 0\n"
     ]
    }
   ],
   "source": [
    "a=\"My Name is {} and age {}\"\n",
    "\n",
    "for i in range(1):\n",
    "    age=i%2\n",
    " \n",
    "    \n",
    "    print(a.format(name,age))\n",
    "    \n",
    "    #print(a.format(i,i))"
   ]
  },
  {
   "cell_type": "code",
   "execution_count": 7,
   "id": "cae921c3",
   "metadata": {},
   "outputs": [
    {
     "ename": "ValueError",
     "evalue": "Unknown format code 'd' for object of type 'str'",
     "output_type": "error",
     "traceback": [
      "\u001b[1;31m---------------------------------------------------------------------------\u001b[0m",
      "\u001b[1;31mValueError\u001b[0m                                Traceback (most recent call last)",
      "Input \u001b[1;32mIn [7]\u001b[0m, in \u001b[0;36m<cell line: 5>\u001b[1;34m()\u001b[0m\n\u001b[0;32m      1\u001b[0m a\u001b[38;5;241m=\u001b[39m\u001b[38;5;124m\"\u001b[39m\u001b[38;5;124mMy Name is \u001b[39m\u001b[38;5;132;01m%s\u001b[39;00m\u001b[38;5;124m and age \u001b[39m\u001b[38;5;132;01m%d\u001b[39;00m\u001b[38;5;124m\"\u001b[39m\n\u001b[0;32m      3\u001b[0m a\u001b[38;5;241m=\u001b[39m\u001b[38;5;124m\"\u001b[39m\u001b[38;5;124mMy Name is \u001b[39m\u001b[38;5;132;01m{:s}\u001b[39;00m\u001b[38;5;124m and age \u001b[39m\u001b[38;5;132;01m{:d}\u001b[39;00m\u001b[38;5;124m\"\u001b[39m\n\u001b[1;32m----> 5\u001b[0m \u001b[38;5;28mprint\u001b[39m(\u001b[43ma\u001b[49m\u001b[38;5;241;43m.\u001b[39;49m\u001b[43mformat\u001b[49m\u001b[43m(\u001b[49m\u001b[38;5;124;43m\"\u001b[39;49m\u001b[38;5;124;43mKamal\u001b[39;49m\u001b[38;5;124;43m\"\u001b[39;49m\u001b[43m,\u001b[49m\u001b[38;5;124;43m\"\u001b[39;49m\u001b[38;5;124;43mA50\u001b[39;49m\u001b[38;5;124;43m\"\u001b[39;49m\u001b[43m)\u001b[49m)\n",
      "\u001b[1;31mValueError\u001b[0m: Unknown format code 'd' for object of type 'str'"
     ]
    }
   ],
   "source": [
    "a=\"My Name is %s and age %d\"\n",
    "\n",
    "a=\"My Name is {:s} and age {:d}\"\n",
    "\n",
    "print(a.format(\"Kamal\",\"A50\"))"
   ]
  },
  {
   "cell_type": "code",
   "execution_count": 8,
   "id": "736eb5e5",
   "metadata": {},
   "outputs": [
    {
     "name": "stdout",
     "output_type": "stream",
     "text": [
      "My Name is                Kamal and age 50\n"
     ]
    }
   ],
   "source": [
    "a=\"My Name is {:>20} and age {}\"\n",
    "\n",
    "print(a.format(\"Kamal\",50)) # My Name is "
   ]
  },
  {
   "cell_type": "code",
   "execution_count": 9,
   "id": "4fc59057",
   "metadata": {},
   "outputs": [
    {
     "name": "stdout",
     "output_type": "stream",
     "text": [
      "My Name is Kamal                and age 50\n"
     ]
    }
   ],
   "source": [
    "a=\"My Name is {:<20} and age {}\"\n",
    "\n",
    "print(a.format(\"Kamal\",50)) # My Name is "
   ]
  },
  {
   "cell_type": "code",
   "execution_count": 11,
   "id": "247e6db6",
   "metadata": {},
   "outputs": [
    {
     "name": "stdout",
     "output_type": "stream",
     "text": [
      "My Name is        Kamal         and age 50\n"
     ]
    }
   ],
   "source": [
    "a=\"My Name is {:^20} and age {}\"\n",
    "\n",
    "print(a.format(\"Kamal\",50)) # My Name is "
   ]
  },
  {
   "cell_type": "code",
   "execution_count": 12,
   "id": "a752b449",
   "metadata": {},
   "outputs": [
    {
     "name": "stdout",
     "output_type": "stream",
     "text": [
      "My Name is Kamal and age 50\n"
     ]
    }
   ],
   "source": [
    "a=\"My Name is {:>} and age {}\"\n",
    "\n",
    "print(a.format(\"Kamal\",50)) # My Name is "
   ]
  },
  {
   "cell_type": "code",
   "execution_count": 13,
   "id": "94dd5d46",
   "metadata": {},
   "outputs": [
    {
     "name": "stdout",
     "output_type": "stream",
     "text": [
      "My Name is Kamal and age 50\n"
     ]
    }
   ],
   "source": [
    "name=\"Kamal Uddin\"\n",
    "age = 50\n",
    "\n",
    "a=\"My Name is {:.5} and age {}\"\n",
    "\n",
    "print(a.format(name,age)) # My Name is "
   ]
  }
 ],
 "metadata": {
  "kernelspec": {
   "display_name": "Python 3 (ipykernel)",
   "language": "python",
   "name": "python3"
  },
  "language_info": {
   "codemirror_mode": {
    "name": "ipython",
    "version": 3
   },
   "file_extension": ".py",
   "mimetype": "text/x-python",
   "name": "python",
   "nbconvert_exporter": "python",
   "pygments_lexer": "ipython3",
   "version": "3.9.12"
  }
 },
 "nbformat": 4,
 "nbformat_minor": 5
}
