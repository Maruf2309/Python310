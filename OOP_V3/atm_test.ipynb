{
 "cells": [
  {
   "cell_type": "markdown",
   "id": "238cb112",
   "metadata": {},
   "source": [
    "# ATM Automation (OPP) - 1"
   ]
  },
  {
   "cell_type": "markdown",
   "id": "95ba07f7",
   "metadata": {},
   "source": [
    "ATM Machine"
   ]
  },
  {
   "cell_type": "code",
   "execution_count": null,
   "id": "5e496ac8",
   "metadata": {},
   "outputs": [],
   "source": [
    "## Constructor\n",
    "def __init__(self):\n",
    "    ## Variable or Database\n",
    "    self.pin = ''\n",
    "    self.balance = 0                           # Initial balnace is 0\n",
    "    # print('Welcome to ATM Machine')\n",
    "    self.menu()                              # Method defined inside constructor (method -2)\n",
    "\n",
    "# Menu\n",
    "def menu(self):\n",
    "    user_input = input(\n",
    "    \"\"\"\n",
    "     How can I Help You?\n",
    "        1. Press 1 to create pin\n",
    "        2. Press 2 to change pin\n",
    "        3. Press 3 to check balance\n",
    "        4. Press 4 to withdraw\n",
    "        5. Anything else to exit\n",
    "    \"\"\"\n",
    ")\n"
   ]
  }
 ],
 "metadata": {
  "kernelspec": {
   "display_name": "Python 3",
   "language": "python",
   "name": "python3"
  },
  "language_info": {
   "codemirror_mode": {
    "name": "ipython",
    "version": 3
   },
   "file_extension": ".py",
   "mimetype": "text/x-python",
   "name": "python",
   "nbconvert_exporter": "python",
   "pygments_lexer": "ipython3",
   "version": "3.10.6"
  }
 },
 "nbformat": 4,
 "nbformat_minor": 5
}
