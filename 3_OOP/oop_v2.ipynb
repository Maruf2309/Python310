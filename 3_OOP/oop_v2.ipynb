{
 "cells": [
  {
   "cell_type": "markdown",
   "metadata": {},
   "source": [
    "# OOP- V2"
   ]
  },
  {
   "cell_type": "markdown",
   "metadata": {},
   "source": [
    "#### Getter, Setter & Deleters"
   ]
  },
  {
   "cell_type": "markdown",
   "metadata": {},
   "source": [
    "#### Excercise 1"
   ]
  },
  {
   "cell_type": "code",
   "execution_count": 5,
   "metadata": {},
   "outputs": [],
   "source": [
    "class Product:\n",
    "    # Class Attributes\n",
    "    platform = 'Amazon'                               # if double unerscore used before variable (platform) then it will block to access user to get this privat code\n",
    "\n",
    "    # Constructor\n",
    "    def __init__(self, pid:int, title:str, price:float) -> None:\n",
    "        self.pid = pid\n",
    "        self.title = title\n",
    "        self.price = price\n",
    "        self.__secretcode  = 1254545456                # Private Variable  (__ before variable)\n",
    "\n",
    "    # Methods       | also referred as getter  or setter\n",
    "    def getsecretcode(self):                   # This is getter func (*** This is a simple func, but we can do it more better way by using @Property, check below exercise2)\n",
    "        return self.__secretcode                      # we can access the secrete / private code by giving __secretcode after self\n",
    "    \n",
    "    # Special Methods\n",
    "    def __repr__(self):      \n",
    "        return f\"Product(pid={self.pid}, title={self.title}, price={self.price})\""
   ]
  },
  {
   "cell_type": "code",
   "execution_count": 7,
   "metadata": {},
   "outputs": [
    {
     "data": {
      "text/plain": [
       "1254545456"
      ]
     },
     "execution_count": 7,
     "metadata": {},
     "output_type": "execute_result"
    }
   ],
   "source": [
    "# Create object\n",
    "n360 = Product(10, \"Nokia360\", 50000.0)\n",
    "n360.getsecretcode()                             # Yes, we can now access secretcode now!\n"
   ]
  },
  {
   "cell_type": "code",
   "execution_count": 11,
   "metadata": {},
   "outputs": [],
   "source": [
    "# Block accessing private code\n",
    "# n360.__secretcode  # Not accessible, due to using double underscore at starting or before seccretcode variable"
   ]
  },
  {
   "cell_type": "markdown",
   "metadata": {},
   "source": [
    "#### Excercise 2: getter with @Property"
   ]
  },
  {
   "cell_type": "code",
   "execution_count": 11,
   "metadata": {},
   "outputs": [],
   "source": [
    "class Product1:\n",
    "    # Class Attributes\n",
    "    platform = 'Amazon'                               # if double unerscore used before variable (platform) then it will block to access user to get this privat code\n",
    "\n",
    "    # Constructor\n",
    "    def __init__(self, pid:int, title:str, price:float) -> None:\n",
    "        self.pid = pid\n",
    "        self.title = title\n",
    "        self.price = price\n",
    "        self.__secretcode  = 1254545457                # Private Variable  (__ before variable)\n",
    "\n",
    "    # Methods\n",
    "    @property                                          # This property will take below func (secretcode) as getter      \n",
    "    def secretcode(self):                              # Due to using @property, this will work as getter/ secretcode the spelling must be exactly same as aboved defined\n",
    "        return self.__secretcode                      \n",
    "    \n",
    "    # Special Methods\n",
    "    def __repr__(self):      \n",
    "        return f\"Product(pid={self.pid}, title={self.title}, price={self.price})\""
   ]
  },
  {
   "cell_type": "code",
   "execution_count": 12,
   "metadata": {},
   "outputs": [
    {
     "data": {
      "text/plain": [
       "1254545457"
      ]
     },
     "execution_count": 12,
     "metadata": {},
     "output_type": "execute_result"
    }
   ],
   "source": [
    "n361 = Product1(1, \"Sumsung\",'52000.0')\n",
    "n361.secretcode\n"
   ]
  },
  {
   "cell_type": "markdown",
   "metadata": {},
   "source": [
    "1. @property : will be consider as getter / constructor\n",
    "2. Remember 2 Things: "
   ]
  },
  {
   "cell_type": "markdown",
   "metadata": {},
   "source": []
  }
 ],
 "metadata": {
  "kernelspec": {
   "display_name": "Python 3",
   "language": "python",
   "name": "python3"
  },
  "language_info": {
   "codemirror_mode": {
    "name": "ipython",
    "version": 3
   },
   "file_extension": ".py",
   "mimetype": "text/x-python",
   "name": "python",
   "nbconvert_exporter": "python",
   "pygments_lexer": "ipython3",
   "version": "3.10.6"
  },
  "orig_nbformat": 4
 },
 "nbformat": 4,
 "nbformat_minor": 2
}
