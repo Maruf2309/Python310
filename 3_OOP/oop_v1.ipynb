{
 "cells": [
  {
   "cell_type": "markdown",
   "metadata": {},
   "source": [
    "# Object Oriented Programming"
   ]
  },
  {
   "cell_type": "markdown",
   "metadata": {},
   "source": [
    "### Basic Structure of Class"
   ]
  },
  {
   "cell_type": "code",
   "execution_count": 1,
   "metadata": {},
   "outputs": [],
   "source": [
    "class Product:\n",
    "    # class attributes\n",
    "    platform = 'Amazon'\n",
    "\n",
    "    # Constructor (initialization of basic information)\n",
    "    def __init__(self, product_id:int, title:str, price:float) -> None:\n",
    "        self.product_id = product_id      # here we use .  or membership operator, that mean this product id is product is for self object and will depend on object (calling)\n",
    "        self.title = title\n",
    "        self.price = price                # object oriented follow . operator, while function follow paranthesis at last ()\n",
    "\n",
    "    # Medhod (Behavior/ fuctions) \n",
    "    def getTitle(self):\n",
    "        return self.title\n"
   ]
  },
  {
   "cell_type": "markdown",
   "metadata": {},
   "source": [
    "- self.price : here we use .  or membership operator, that mean this (price) is for self object price and it will depend on what object its called for!\n",
    "- Price, id, title kept at self, becuase these are the things is subject to be changed by its object based calling, becasue each object price, it, title will differ from each other, that depend on its objects\n",
    "- self depend  on object, not on class"
   ]
  },
  {
   "cell_type": "markdown",
   "metadata": {},
   "source": [
    "### Object Creation"
   ]
  },
  {
   "cell_type": "code",
   "execution_count": 10,
   "metadata": {},
   "outputs": [],
   "source": [
    "# The class (product) is expect 3 positional args(id, title, price), otherwise it will return TypeError\n",
    "# Product()       # see below"
   ]
  },
  {
   "cell_type": "code",
   "execution_count": 2,
   "metadata": {},
   "outputs": [
    {
     "data": {
      "text/plain": [
       "<__main__.Product at 0x1d91df3c310>"
      ]
     },
     "execution_count": 2,
     "metadata": {},
     "output_type": "execute_result"
    }
   ],
   "source": [
    "Product(10, \"Nokia360\", 50000.0) # Now one objected created at the location '0x1f6213869e0', NOW you can STORE this in a variable, see below!"
   ]
  },
  {
   "cell_type": "code",
   "execution_count": 48,
   "metadata": {},
   "outputs": [
    {
     "data": {
      "text/plain": [
       "'Amazon'"
      ]
     },
     "execution_count": 48,
     "metadata": {},
     "output_type": "execute_result"
    }
   ],
   "source": [
    "# Object/Product 1, Here class name is Product, that mean, all attributes of the class (class, constructor, method)  has been initialyzed already (uppper code block)\n",
    "n360 = Product(10, \"Nokia360\", 50000.0)\n",
    "n360.platform"
   ]
  },
  {
   "cell_type": "code",
   "execution_count": 12,
   "metadata": {},
   "outputs": [
    {
     "data": {
      "text/plain": [
       "<__main__.Product at 0x1d91df3f0a0>"
      ]
     },
     "execution_count": 12,
     "metadata": {},
     "output_type": "execute_result"
    }
   ],
   "source": [
    "# Object/Product 2 \n",
    "n370 = Product(11, \"Nokia370\", 55000.0)\n",
    "n370"
   ]
  },
  {
   "cell_type": "code",
   "execution_count": 13,
   "metadata": {},
   "outputs": [
    {
     "data": {
      "text/plain": [
       "<__main__.Product at 0x1d91f368f40>"
      ]
     },
     "execution_count": 13,
     "metadata": {},
     "output_type": "execute_result"
    }
   ],
   "source": [
    "# Object/Product 3 \n",
    "n380 = Product(12, \"Nokia380\", 70000.0)\n",
    "n380"
   ]
  },
  {
   "cell_type": "markdown",
   "metadata": {},
   "source": [
    "- Now we can acess platflow, title or price at choice"
   ]
  },
  {
   "cell_type": "markdown",
   "metadata": {},
   "source": [
    "#### Check & Verify (Accesesing)"
   ]
  },
  {
   "cell_type": "code",
   "execution_count": 14,
   "metadata": {},
   "outputs": [
    {
     "name": "stdout",
     "output_type": "stream",
     "text": [
      "Object 1 : Amazon\n",
      "Object 2 : Amazon\n",
      "Object 3 : Amazon\n"
     ]
    }
   ],
   "source": [
    "# Access platform - The Class attributes (platform) is same for all objects, verified\n",
    "print('Object 1 :',n360.platform) # class attributed same for all\n",
    "print('Object 2 :',n370.platform) # class attributed same for all\n",
    "print('Object 3 :',n380.platform) # class attributed same for all"
   ]
  },
  {
   "cell_type": "markdown",
   "metadata": {},
   "source": [
    "1. Here platform (Amazon) is same for all becaus of this is \"Class attributes\""
   ]
  },
  {
   "cell_type": "markdown",
   "metadata": {},
   "source": [
    "#### Check & Verify (self)"
   ]
  },
  {
   "cell_type": "code",
   "execution_count": 16,
   "metadata": {},
   "outputs": [
    {
     "name": "stdout",
     "output_type": "stream",
     "text": [
      "Object 1 : Nokia360\n",
      "Object 2 : Nokia370\n",
      "Object 3 : Nokia380\n"
     ]
    }
   ],
   "source": [
    "print('Object 1 :',n360.title) # title is object based attributed differ by product\n",
    "print('Object 2 :',n370.title) # title is object based attributed differ by product\n",
    "print('Object 3 :',n380.title) # title is object based attributed differ by product"
   ]
  },
  {
   "cell_type": "code",
   "execution_count": 17,
   "metadata": {},
   "outputs": [
    {
     "name": "stdout",
     "output_type": "stream",
     "text": [
      "Object 1 : 50000.0\n",
      "Object 2 : 55000.0\n",
      "Object 3 : 70000.0\n"
     ]
    }
   ],
   "source": [
    "print('Object 1 :',n360.price) # price is object based attributed differ by product\n",
    "print('Object 2 :',n370.price) # price is object based attributed differ by product\n",
    "print('Object 3 :',n380.price) # price is object based attributed differ by product"
   ]
  },
  {
   "cell_type": "code",
   "execution_count": 18,
   "metadata": {},
   "outputs": [
    {
     "name": "stdout",
     "output_type": "stream",
     "text": [
      "Object 1 :  10\n",
      "Object 2 : 11\n",
      "Object 3 : 12\n"
     ]
    }
   ],
   "source": [
    "print('Object 1 : ', n360.product_id) # ID is object based attributed differ by product\n",
    "print('Object 2 :', n370.product_id) # ID is object based attributed differ by product\n",
    "print('Object 3 :', n380.product_id) # ID is object based attributed differ by product"
   ]
  },
  {
   "cell_type": "markdown",
   "metadata": {},
   "source": [
    "### Calling Method"
   ]
  },
  {
   "cell_type": "code",
   "execution_count": 20,
   "metadata": {},
   "outputs": [
    {
     "data": {
      "text/plain": [
       "'Nokia360'"
      ]
     },
     "execution_count": 20,
     "metadata": {},
     "output_type": "execute_result"
    }
   ],
   "source": [
    "n360.getTitle()"
   ]
  },
  {
   "cell_type": "code",
   "execution_count": 23,
   "metadata": {},
   "outputs": [
    {
     "name": "stdout",
     "output_type": "stream",
     "text": [
      "Nokia360\n"
     ]
    },
    {
     "data": {
      "text/plain": [
       "'Nokia360'"
      ]
     },
     "execution_count": 23,
     "metadata": {},
     "output_type": "execute_result"
    }
   ],
   "source": [
    "print(n360.title) # Access Feature\n",
    "n360.getTitle()   # Class Method, nothing passed inside function, then how it is getting ? becasue here the object (n360) passed in (fuc) but we cant see, this one will be passed as args due to self"
   ]
  },
  {
   "attachments": {
    "image.png": {
     "image/png": "[encoded data removed]"
    }
   },
   "cell_type": "markdown",
   "metadata": {},
   "source": [
    "![image.png](attachment:image.png)"
   ]
  },
  {
   "cell_type": "markdown",
   "metadata": {},
   "source": [
    "### Updating Price / Information"
   ]
  },
  {
   "cell_type": "code",
   "execution_count": 24,
   "metadata": {},
   "outputs": [
    {
     "data": {
      "text/plain": [
       "50000.0"
      ]
     },
     "execution_count": 24,
     "metadata": {},
     "output_type": "execute_result"
    }
   ],
   "source": [
    "n360.price # this price is 50k, lets say we want to make it 52 k"
   ]
  },
  {
   "cell_type": "code",
   "execution_count": 26,
   "metadata": {},
   "outputs": [
    {
     "data": {
      "text/plain": [
       "52000.0"
      ]
     },
     "execution_count": 26,
     "metadata": {},
     "output_type": "execute_result"
    }
   ],
   "source": [
    "# updateing price\n",
    "n360.price = 52000.0\n",
    "n360.price            # Using membership/ dot operator is must for connecting fuction/ attributes with objects"
   ]
  },
  {
   "cell_type": "markdown",
   "metadata": {},
   "source": [
    "## Printing Object"
   ]
  },
  {
   "cell_type": "code",
   "execution_count": 29,
   "metadata": {},
   "outputs": [
    {
     "data": {
      "text/plain": [
       "<__main__.Product at 0x1d91e1c0640>"
      ]
     },
     "execution_count": 29,
     "metadata": {},
     "output_type": "execute_result"
    }
   ],
   "source": [
    "n360"
   ]
  },
  {
   "cell_type": "code",
   "execution_count": 28,
   "metadata": {},
   "outputs": [
    {
     "name": "stdout",
     "output_type": "stream",
     "text": [
      "<__main__.Product object at 0x000001D91E1C0640>\n"
     ]
    }
   ],
   "source": [
    "print(n360) # you can read it, you can get it is in a nice way by using \"str()\" function"
   ]
  },
  {
   "cell_type": "code",
   "execution_count": 35,
   "metadata": {},
   "outputs": [],
   "source": [
    "class Product:\n",
    "    # class attributes\n",
    "    platform = 'Amazon'\n",
    "\n",
    "    # Constructor (initialization of basic information)\n",
    "    def __init__(self, product_id:int, title:str, price:float) -> None:\n",
    "        self.product_id = product_id      \n",
    "        self.title = title\n",
    "        self.price = price                \n",
    "\n",
    "    # Medhod (Behavior/ fuctions) \n",
    "    def getTitle(self):\n",
    "        return self.title\n",
    "    \n",
    "    # Special Method\n",
    "    def __str__(self) -> str:  # str only works for print when print on object, str will work with print, not for without print, but the function \"repr\" will work both for with or witout print\n",
    "        return f\"Product(product_id={self.product_id}, title={self.title}, price={self.price})\""
   ]
  },
  {
   "cell_type": "code",
   "execution_count": 38,
   "metadata": {},
   "outputs": [
    {
     "data": {
      "text/plain": [
       "'Amazon'"
      ]
     },
     "execution_count": 38,
     "metadata": {},
     "output_type": "execute_result"
    }
   ],
   "source": [
    "n360 = Product(10, \"Nokia360\", 50000.0)\n",
    "n360.platform"
   ]
  },
  {
   "cell_type": "code",
   "execution_count": 40,
   "metadata": {},
   "outputs": [
    {
     "data": {
      "text/plain": [
       "<__main__.Product at 0x1d91f33f520>"
      ]
     },
     "execution_count": 40,
     "metadata": {},
     "output_type": "execute_result"
    }
   ],
   "source": [
    "n360 # str will not work without print"
   ]
  },
  {
   "cell_type": "code",
   "execution_count": 39,
   "metadata": {},
   "outputs": [
    {
     "name": "stdout",
     "output_type": "stream",
     "text": [
      "Product(product_id=10, title=Nokia360, price=50000.0)\n"
     ]
    }
   ],
   "source": [
    "print(n360) # str work only with print function on object: looks fine "
   ]
  },
  {
   "cell_type": "code",
   "execution_count": 47,
   "metadata": {},
   "outputs": [],
   "source": [
    "## Repr - Repreprentation\n",
    "class Product:\n",
    "    # class attributes\n",
    "    platform = 'Amazon'\n",
    "\n",
    "    # Constructor (initialization of basic information)\n",
    "    def __init__(self, product_id:int, title:str, price:float) -> None:\n",
    "        self.product_id = product_id      \n",
    "        self.title = title\n",
    "        self.price = price                \n",
    "\n",
    "    # Medhod (Behavior/ fuctions) \n",
    "    def getTitle(self):\n",
    "        return self.title\n",
    "    \n",
    "    # Special Method - Represenation i.e repr\n",
    "    def __repr__(self) -> str:  # repr , Auto calling  repr or str methods\n",
    "        return f\"Product(product_id={self.product_id}, title={self.title}, price={self.price})\"\n"
   ]
  },
  {
   "cell_type": "code",
   "execution_count": 43,
   "metadata": {},
   "outputs": [
    {
     "data": {
      "text/plain": [
       "'Amazon'"
      ]
     },
     "execution_count": 43,
     "metadata": {},
     "output_type": "execute_result"
    }
   ],
   "source": [
    "n360 = Product(10, \"Nokia360\", 50000.0)\n",
    "n360.platform"
   ]
  },
  {
   "cell_type": "code",
   "execution_count": 44,
   "metadata": {},
   "outputs": [
    {
     "data": {
      "text/plain": [
       "Product(product_id=10, title=Nokia360, price=50000.0)"
      ]
     },
     "execution_count": 44,
     "metadata": {},
     "output_type": "execute_result"
    }
   ],
   "source": [
    "n360 # repr works without print"
   ]
  },
  {
   "cell_type": "code",
   "execution_count": 46,
   "metadata": {},
   "outputs": [
    {
     "name": "stdout",
     "output_type": "stream",
     "text": [
      "Product(product_id=10, title=Nokia360, price=50000.0)\n"
     ]
    }
   ],
   "source": [
    "print(n360) # repr works with print"
   ]
  },
  {
   "cell_type": "markdown",
   "metadata": {},
   "source": [
    "# Next Topic - Getter, Setter & Deleters"
   ]
  },
  {
   "cell_type": "markdown",
   "metadata": {},
   "source": [
    "### Note Section"
   ]
  },
  {
   "attachments": {
    "image.png": {
     "image/png": "[encoded data removed]"
    }
   },
   "cell_type": "markdown",
   "metadata": {},
   "source": [
    "![image.png](attachment:image.png)"
   ]
  },
  {
   "cell_type": "code",
   "execution_count": null,
   "metadata": {},
   "outputs": [],
   "source": []
  },
  {
   "cell_type": "markdown",
   "metadata": {},
   "source": [
    "# Additional Test"
   ]
  },
  {
   "cell_type": "markdown",
   "metadata": {},
   "source": [
    "Instance of the Class:\n",
    "When you create an object (instance) from a class, self refers to that specific instance.\n",
    "It’s customary to use self as the first parameter in instance methods of a class.\n",
    "Accessing Attributes and Methods:\n",
    "By using self, you can access the attributes and methods of the class within instance methods.\n",
    "It binds the attributes with the given arguments, allowing you to modify the object’s properties and execute tasks unique to that particular instance.\n",
    "Constructor (Initializer):\n",
    "In Python, a class constructor is a special method named __init__.\n",
    "It gets called when you create an instance of a class.\n",
    "The self parameter in the constructor refers to the instance being created and allows you to initialize its attributes."
   ]
  },
  {
   "cell_type": "code",
   "execution_count": 4,
   "metadata": {},
   "outputs": [
    {
     "name": "stdout",
     "output_type": "stream",
     "text": [
      "Maths\n",
      "Science\n"
     ]
    }
   ],
   "source": [
    "class Subject:\n",
    "    def __init__(self, attr1, attr2):\n",
    "        self.attr1 = attr1\n",
    "        self.attr2 = attr2\n",
    "\n",
    "obj = Subject('Maths', 'Science')\n",
    "print(obj.attr1)  # Output: Maths\n",
    "print(obj.attr2)  # Output: Science\n"
   ]
  }
 ],
 "metadata": {
  "kernelspec": {
   "display_name": "Python 3",
   "language": "python",
   "name": "python3"
  },
  "language_info": {
   "codemirror_mode": {
    "name": "ipython",
    "version": 3
   },
   "file_extension": ".py",
   "mimetype": "text/x-python",
   "name": "python",
   "nbconvert_exporter": "python",
   "pygments_lexer": "ipython3",
   "version": "3.10.6"
  },
  "orig_nbformat": 4
 },
 "nbformat": 4,
 "nbformat_minor": 2
}
