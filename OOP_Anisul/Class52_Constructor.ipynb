{
 "cells": [
  {
   "cell_type": "markdown",
   "metadata": {},
   "source": [
    "# Class 52 - Constructor"
   ]
  },
  {
   "cell_type": "markdown",
   "metadata": {},
   "source": [
    "**Constructor** \n",
    "\n",
    "- In prevous stage we seperately do task as first creat object then assign values seperately \n",
    "- Here is the fun, we will assigne valus while creating `object` no need to re-assign valus explicitely!\n",
    "- it requires `__init__` every method must have `self` keyword"
   ]
  },
  {
   "cell_type": "code",
   "execution_count": 3,
   "metadata": {},
   "outputs": [
    {
     "name": "stdout",
     "output_type": "stream",
     "text": [
      "Roll : 101, GPA: 3.5\n",
      "Roll : 102, GPA: 4.25\n"
     ]
    }
   ],
   "source": [
    "class Student:\n",
    "    roll = \"\"\n",
    "    gpa = \"\"\n",
    "\n",
    "# Constructor\n",
    "    def __init__(self, roll, gpa):\n",
    "        self.roll = roll\n",
    "        self.gpa = gpa\n",
    "\n",
    "    def display(self):\n",
    "        print(f\"Roll : {self.roll}, GPA: {self.gpa}\")\n",
    "\n",
    "rahim = Student(101, 3.50)  # Constructor help to initialize object \n",
    "karim = Student(102, 4.25)  # We can initialize the object through constructor\n",
    "\n",
    "rahim.display()\n",
    "karim.display()"
   ]
  },
  {
   "cell_type": "markdown",
   "metadata": {},
   "source": [
    "**__init__**\n",
    "The advantage of constructor is that below code no need to execute\n",
    "\n",
    "`karim.roll = 201`\n",
    "\n",
    "`karim.gpa = 3.50`"
   ]
  }
 ],
 "metadata": {
  "kernelspec": {
   "display_name": "Python 3",
   "language": "python",
   "name": "python3"
  },
  "language_info": {
   "codemirror_mode": {
    "name": "ipython",
    "version": 3
   },
   "file_extension": ".py",
   "mimetype": "text/x-python",
   "name": "python",
   "nbconvert_exporter": "python",
   "pygments_lexer": "ipython3",
   "version": "3.10.6"
  },
  "orig_nbformat": 4
 },
 "nbformat": 4,
 "nbformat_minor": 2
}
