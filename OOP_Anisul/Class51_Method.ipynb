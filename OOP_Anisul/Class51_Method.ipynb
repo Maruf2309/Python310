{
 "cells": [
  {
   "cell_type": "markdown",
   "metadata": {},
   "source": [
    "# Class 51 - Method"
   ]
  },
  {
   "cell_type": "markdown",
   "metadata": {},
   "source": [
    "**Case**\n",
    "- We will have Function or Method under Class \n",
    "- Then we will use that created function by its `object`"
   ]
  },
  {
   "cell_type": "code",
   "execution_count": 1,
   "metadata": {},
   "outputs": [
    {
     "name": "stdout",
     "output_type": "stream",
     "text": [
      "Roll : 101, GPA : 3.75\n",
      "Roll : 201, GPA : 3.5\n"
     ]
    }
   ],
   "source": [
    "class Student:\n",
    "    roll = \"\"\n",
    "    gpa = \"\"\n",
    "\n",
    "    # Define Method/Fun, here display is fun name (Here define fun without params)\n",
    "    def display(self):\n",
    "        print(f\"Roll : {self.roll}, GPA : {self.gpa}\")\n",
    "\n",
    "# Object Creation\n",
    "rahim = Student() # Object1(Rahim) of Student Class Created\n",
    "rahim.roll = 101  # Roll assigned for object1 (We can only Assing Roll & GPA as it configured earlier with self)\n",
    "rahim.gpa = 3.75  # GPA assigned for object 1\n",
    "\n",
    "# Object Creation\n",
    "karim = Student() # This the First step of declaring object for Class\n",
    "karim.roll = 201 \n",
    "karim.gpa = 3.50\n",
    "\n",
    "\n",
    "# Printing Result by Calling Display Function\n",
    "rahim.display()\n",
    "karim.display()"
   ]
  },
  {
   "cell_type": "markdown",
   "metadata": {},
   "source": [
    "### Explation"
   ]
  },
  {
   "cell_type": "markdown",
   "metadata": {},
   "source": [
    "- We will call this roll & GPA by calling object, repeatedly that why fun created\n",
    "- How to call method or function : Ans: we can call method by object"
   ]
  },
  {
   "cell_type": "markdown",
   "metadata": {},
   "source": [
    "## Test 2.0\n",
    "\n",
    "- Suppose we dont want to assign Roll & GPA for each object seperately, rather we will pass through a function"
   ]
  },
  {
   "cell_type": "code",
   "execution_count": 3,
   "metadata": {},
   "outputs": [
    {
     "name": "stdout",
     "output_type": "stream",
     "text": [
      "Roll : 101, GPA: 3.75\n",
      "Roll : 105, GPA: 3.25\n"
     ]
    }
   ],
   "source": [
    "class Student:\n",
    "    roll = \"\"\n",
    "    gpa = \"\"\n",
    "\n",
    "    def set_value(self, roll, gpa): # when roll & gpa we will assign that will come here\n",
    "        self.roll = roll            # then come this roll & stored in roll var by self.roll\n",
    "        self.gpa = gpa              # then come this gpa & stored in gpa var by self.gpa\n",
    "\n",
    "    def display(self):\n",
    "        print(f\"Roll : {self.roll}, GPA: {self.gpa}\")\n",
    "\n",
    "# Object Creation  (reza & suza these two object will use Student Class)\n",
    "reza = Student()\n",
    "suza = Student()\n",
    "\n",
    "# Method Calling, below objects will use method\n",
    "reza.set_value(101, 3.75)\n",
    "suza.set_value(105, 3.25)\n",
    "\n",
    "# Printing by Display Function\n",
    "reza.display()\n",
    "suza.display()"
   ]
  },
  {
   "cell_type": "markdown",
   "metadata": {},
   "source": [
    "## tEST"
   ]
  },
  {
   "cell_type": "code",
   "execution_count": null,
   "metadata": {},
   "outputs": [],
   "source": []
  }
 ],
 "metadata": {
  "kernelspec": {
   "display_name": "Python 3",
   "language": "python",
   "name": "python3"
  },
  "language_info": {
   "codemirror_mode": {
    "name": "ipython",
    "version": 3
   },
   "file_extension": ".py",
   "mimetype": "text/x-python",
   "name": "python",
   "nbconvert_exporter": "python",
   "pygments_lexer": "ipython3",
   "version": "3.10.6"
  },
  "orig_nbformat": 4
 },
 "nbformat": 4,
 "nbformat_minor": 2
}
