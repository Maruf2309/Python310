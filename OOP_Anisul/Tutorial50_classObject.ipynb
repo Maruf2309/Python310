{
 "cells": [
  {
   "cell_type": "markdown",
   "metadata": {},
   "source": [
    "# Class & Object"
   ]
  },
  {
   "cell_type": "code",
   "execution_count": 6,
   "metadata": {},
   "outputs": [
    {
     "name": "stdout",
     "output_type": "stream",
     "text": [
      "True\n",
      "Roll : 101, GPA : 3.75\n"
     ]
    },
    {
     "data": {
      "text/plain": [
       "' \\nAs object of Student Class, Rahim can access all of Properties of Student Class\\n\\n'"
      ]
     },
     "execution_count": 6,
     "metadata": {},
     "output_type": "execute_result"
    }
   ],
   "source": [
    "# Class Creation (Student Class)\n",
    "class Student:\n",
    "    roll=\"\"         # Properties/ Class Members/ Variable of Student Class\n",
    "    gpa = \"\"\n",
    "\n",
    "# Object Creation for Student Class\n",
    "rahim = Student()\n",
    "# Verify whether Rahim is object of Student class or not!\n",
    "print(isinstance(rahim,Student))                         # Return True if rahim is really object of Student Class\n",
    "\n",
    "# Access Properties by . operator\n",
    "rahim.roll = 101\n",
    "rahim.gpa = 3.75\n",
    "\n",
    "\n",
    "# print\n",
    "print(f\"Roll : {rahim.roll}, GPA : {rahim.gpa}\")\n",
    "\n",
    "\n",
    "''' \n",
    "As object of Student Class, Rahim can access all of Properties of Student Class\n",
    "\n",
    "'''\n"
   ]
  },
  {
   "cell_type": "code",
   "execution_count": 7,
   "metadata": {},
   "outputs": [
    {
     "name": "stdout",
     "output_type": "stream",
     "text": [
      "Rahim Output : 12, GPA : 3.5\n",
      "Karim Output : 10, GPA: 3.85\n",
      "Reza Output : 1, 5.0\n"
     ]
    }
   ],
   "source": [
    "# Test 2 (Blank Template)\n",
    "class Student:\n",
    "    roll = \"\"\n",
    "    gpa = \"\"\n",
    "\n",
    "# Object Creation\n",
    "rahim = Student()       # Object1 of Student Class\n",
    "karim = Student()       # Object1 of Student Class\n",
    "reza = Student()        # Object1 of Student Class\n",
    "\n",
    "# Access Student Class Member by created objects\n",
    "rahim.roll = 12\n",
    "rahim.gpa = 3.50\n",
    "\n",
    "karim.roll = 10\n",
    "karim.gpa = 3.85\n",
    "\n",
    "reza.roll = 1\n",
    "reza.gpa = 5.0\n",
    "\n",
    "\n",
    "# Printing\n",
    "print(f\"Rahim Output : {rahim.roll}, GPA : {rahim.gpa}\")\n",
    "print(f\"Karim Output : {karim.roll}, GPA: {karim.gpa}\")\n",
    "print(f\"Reza Output : {reza.roll}, {reza.gpa}\")"
   ]
  },
  {
   "cell_type": "markdown",
   "metadata": {},
   "source": [
    "**Significance of OOP**\n",
    "- What is if no OOP then its we need to explicitely define GPA and Roll and print it every time.\n",
    "- OOP just made it fun by calling them!"
   ]
  },
  {
   "cell_type": "code",
   "execution_count": 8,
   "metadata": {},
   "outputs": [
    {
     "name": "stdout",
     "output_type": "stream",
     "text": [
      "Reza's Roll :10 and Reza's GPA : 4.0\n"
     ]
    }
   ],
   "source": [
    "class Student:\n",
    "    roll = \" \"\n",
    "    gpa = \" \"\n",
    "\n",
    "# Object Creation\n",
    "reza = Student()\n",
    "mitu = Student()\n",
    "\n",
    "# Access properties of Student Class & Assign values\n",
    "reza.roll = 10\n",
    "reza.gpa = 4.0\n",
    "\n",
    "mitu.roll = 15\n",
    "mitu.gpa = 3.40\n",
    "\n",
    "# Printing\n",
    "print(f\"Reza's Roll :{reza.roll} and Reza's GPA : {reza.gpa}\")\n"
   ]
  },
  {
   "cell_type": "markdown",
   "metadata": {},
   "source": [
    "Example 1: Adding Methods to the Student Class"
   ]
  },
  {
   "cell_type": "code",
   "execution_count": 9,
   "metadata": {},
   "outputs": [
    {
     "name": "stdout",
     "output_type": "stream",
     "text": [
      "Roll: 10, GPA: 3.25\n",
      "Roll: 12, GPA: 4.0\n"
     ]
    }
   ],
   "source": [
    "class Student:\n",
    "    def __init__(self, roll, gpa):\n",
    "        self.roll = roll\n",
    "        self.gpa = gpa \n",
    "\n",
    "    def display_info(self):\n",
    "        print(f\"Roll: {self.roll}, GPA: {self.gpa}\")\n",
    "\n",
    "# Object Creation\n",
    "reza = Student(10, 3.25)\n",
    "mitu = Student(12, 4.0)\n",
    "\n",
    "# Calling the method\n",
    "reza.display_info()\n",
    "mitu.display_info()\n"
   ]
  },
  {
   "cell_type": "markdown",
   "metadata": {},
   "source": [
    "Example 2: Adding Multiple Attributes and Methods"
   ]
  },
  {
   "cell_type": "code",
   "execution_count": 10,
   "metadata": {},
   "outputs": [
    {
     "name": "stdout",
     "output_type": "stream",
     "text": [
      "Name: Reza, Roll: 10, GPA: 4.0, Major: Computer Science\n",
      "Is Reza an honors student? Yes\n",
      "Name: Mitu, Roll: 15, GPA: 3.4, Major: Physics\n",
      "Is Mitu an honors student? No\n"
     ]
    }
   ],
   "source": [
    "class Student:\n",
    "    def __init__(self, name, roll, gpa, major):\n",
    "        self.name = name\n",
    "        self.roll = roll\n",
    "        self.gpa = gpa\n",
    "        self.major = major\n",
    "\n",
    "    def display_info(self):\n",
    "        print(f\"Name: {self.name}, Roll: {self.roll}, GPA: {self.gpa}, Major: {self.major}\")\n",
    "\n",
    "    def is_honors(self):\n",
    "        return self.gpa >= 3.5\n",
    "\n",
    "# Object Creation\n",
    "reza = Student(\"Reza\", 10, 4.0, \"Computer Science\")\n",
    "mitu = Student(\"Mitu\", 15, 3.40, \"Physics\")\n",
    "\n",
    "# Calling methods\n",
    "reza.display_info()\n",
    "print(f\"Is Reza an honors student? {'Yes' if reza.is_honors() else 'No'}\")\n",
    "\n",
    "mitu.display_info()\n",
    "print(f\"Is Mitu an honors student? {'Yes' if mitu.is_honors() else 'No'}\")\n"
   ]
  }
 ],
 "metadata": {
  "kernelspec": {
   "display_name": "Python 3",
   "language": "python",
   "name": "python3"
  },
  "language_info": {
   "codemirror_mode": {
    "name": "ipython",
    "version": 3
   },
   "file_extension": ".py",
   "mimetype": "text/x-python",
   "name": "python",
   "nbconvert_exporter": "python",
   "pygments_lexer": "ipython3",
   "version": "3.10.6"
  },
  "orig_nbformat": 4
 },
 "nbformat": 4,
 "nbformat_minor": 2
}
