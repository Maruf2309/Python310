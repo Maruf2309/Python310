{
 "cells": [
  {
   "cell_type": "markdown",
   "metadata": {},
   "source": [
    "# Class & Object"
   ]
  },
  {
   "cell_type": "code",
   "execution_count": 1,
   "metadata": {},
   "outputs": [
    {
     "name": "stdout",
     "output_type": "stream",
     "text": [
      "True\n",
      "Roll : 101, GPA : 3.75\n"
     ]
    },
    {
     "data": {
      "text/plain": [
       "' \\nAs object of Student Class, Rahim can access all of Properties of Student Class\\n\\n'"
      ]
     },
     "execution_count": 1,
     "metadata": {},
     "output_type": "execute_result"
    }
   ],
   "source": [
    "# Class Creation (Student Class)\n",
    "class Student:\n",
    "    roll=\"\"         # Properties/ Class Members/ Variable of Student Class\n",
    "    gpa = \"\"\n",
    "\n",
    "# Object Creation for Student Class\n",
    "rahim = Student()\n",
    "# Verify whether Rahim is object of Student class or not!\n",
    "print(isinstance(rahim,Student))                         # Return True if rahim is really object of Student Class\n",
    "\n",
    "# Access Properties by . operator\n",
    "rahim.roll = 101\n",
    "rahim.gpa = 3.75\n",
    "\n",
    "\n",
    "# print\n",
    "print(f\"Roll : {rahim.roll}, GPA : {rahim.gpa}\")\n",
    "\n",
    "\n",
    "''' \n",
    "As object of Student Class, Rahim can access all of Properties of Student Class\n",
    "\n",
    "'''\n"
   ]
  },
  {
   "cell_type": "code",
   "execution_count": 2,
   "metadata": {},
   "outputs": [
    {
     "name": "stdout",
     "output_type": "stream",
     "text": [
      "Rahim Output : 12, GPA : 3.5\n",
      "Karim Output : 10, GPA: 3.85\n",
      "Reza Output : 1, 5.0\n"
     ]
    }
   ],
   "source": [
    "# Test 2 (Blank Template)\n",
    "class Student:\n",
    "    roll = \"\"\n",
    "    gpa = \"\"\n",
    "\n",
    "# Object Creation\n",
    "rahim = Student()       # Object1 of Student Class\n",
    "karim = Student()       # Object1 of Student Class\n",
    "reza = Student()        # Object1 of Student Class\n",
    "\n",
    "# Access Student Class Member by created objects\n",
    "rahim.roll = 12\n",
    "rahim.gpa = 3.50\n",
    "\n",
    "karim.roll = 10\n",
    "karim.gpa = 3.85\n",
    "\n",
    "reza.roll = 1\n",
    "reza.gpa = 5.0\n",
    "\n",
    "\n",
    "# Printing\n",
    "print(f\"Rahim Output : {rahim.roll}, GPA : {rahim.gpa}\")\n",
    "print(f\"Karim Output : {karim.roll}, GPA: {karim.gpa}\")\n",
    "print(f\"Reza Output : {reza.roll}, {reza.gpa}\")"
   ]
  },
  {
   "cell_type": "code",
   "execution_count": null,
   "metadata": {},
   "outputs": [],
   "source": []
  }
 ],
 "metadata": {
  "kernelspec": {
   "display_name": "Python 3",
   "language": "python",
   "name": "python3"
  },
  "language_info": {
   "codemirror_mode": {
    "name": "ipython",
    "version": 3
   },
   "file_extension": ".py",
   "mimetype": "text/x-python",
   "name": "python",
   "nbconvert_exporter": "python",
   "pygments_lexer": "ipython3",
   "version": "3.10.6"
  },
  "orig_nbformat": 4
 },
 "nbformat": 4,
 "nbformat_minor": 2
}
