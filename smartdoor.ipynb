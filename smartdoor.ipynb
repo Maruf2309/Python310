{
 "cells": [
  {
   "cell_type": "markdown",
   "metadata": {},
   "source": [
    "# WAP for Smart Door"
   ]
  },
  {
   "cell_type": "markdown",
   "metadata": {},
   "source": [
    "* password = \"open@\", fav_color='balck'\n",
    "* take door password from user\n",
    "* check and open door if password is correct, otherwise say Wrong Password Try again, take input again, check again\n",
    "* maximum try is 3 times, then ask for security question\n",
    "* take users answer, validate if security answer is correct then help user to change the password. otherwise lock the door"
   ]
  },
  {
   "cell_type": "code",
   "execution_count": 6,
   "metadata": {},
   "outputs": [],
   "source": [
    "password = \"open@\"; fav_col = 'red'"
   ]
  },
  {
   "cell_type": "code",
   "execution_count": 8,
   "metadata": {},
   "outputs": [
    {
     "name": "stdout",
     "output_type": "stream",
     "text": [
      "The Door is opened successfully!\n"
     ]
    }
   ],
   "source": [
    "while True:\n",
    "    count = 0\n",
    "    while count <3:\n",
    "        user_password = input(\"Enter your password!\")\n",
    "        if user_password == password:\n",
    "            print(\"The Door is opened successfully!\")\n",
    "            break\n",
    "        else:\n",
    "            print('Wrong Password, please try again!')\n",
    "            count = count +1\n",
    "    if user_password == password:\n",
    "        break\n",
    "    elif count == 3:\n",
    "        print('Security Alert!, Please give your favourite colour name: ')  \n",
    "        userfav_color = input('Enter your favourite color: ')\n",
    "    if userfav_color == fav_col:\n",
    "        password = input ('Your answer is correct, please give new password & try again:')\n",
    "    else:\n",
    "        print('The Door is Locked!!!')\n",
    "        break  "
   ]
  }
 ],
 "metadata": {
  "interpreter": {
   "hash": "63b2014fe923bc11fc1089a45e8d8d32d8530e11d1dfc98edf4ada9c05eba13b"
  },
  "kernelspec": {
   "display_name": "Python 3.10.2 64-bit",
   "language": "python",
   "name": "python3"
  },
  "language_info": {
   "codemirror_mode": {
    "name": "ipython",
    "version": 3
   },
   "file_extension": ".py",
   "mimetype": "text/x-python",
   "name": "python",
   "nbconvert_exporter": "python",
   "pygments_lexer": "ipython3",
   "version": "3.10.2"
  },
  "orig_nbformat": 4
 },
 "nbformat": 4,
 "nbformat_minor": 2
}
