{
 "cells": [
  {
   "cell_type": "markdown",
   "metadata": {},
   "source": [
    "## OPP : Module 3"
   ]
  },
  {
   "cell_type": "markdown",
   "metadata": {},
   "source": [
    "### Data Types"
   ]
  },
  {
   "cell_type": "markdown",
   "metadata": {},
   "source": [
    "- Numeric\n",
    "    - Int\n",
    "    - float\n",
    "    - complex\n",
    "- Sequnce\n",
    "    - List\n",
    "    - Tuple\n",
    "    - String\n",
    "\n",
    "- Mapping   \n",
    "    - Dictionary\n",
    "\n",
    "- Set\n",
    "    - Set\n",
    "    - Frozenset\n",
    "\n",
    "- Boolean\n",
    "    - Bool\n",
    "\n",
    "- None\n",
    "    - NoneType\n"
   ]
  },
  {
   "cell_type": "code",
   "execution_count": 5,
   "metadata": {},
   "outputs": [
    {
     "name": "stdout",
     "output_type": "stream",
     "text": [
      "Type of price_meat is : <class 'int'>\n",
      "Type of price_sugar is : <class 'float'>\n",
      "Type Check of Product name is : <class 'str'>\n"
     ]
    }
   ],
   "source": [
    "# Checking Data Type  \n",
    "price_of_meat = 700          # Int\n",
    "price_of_sugar = 120.50      # Float\n",
    "product_name = 'Apple'\n",
    "\n",
    "# Type Checking\n",
    "type_check_meat = type(price_of_meat)  # Type Func  chek the data type e.g 700 is int\n",
    "type_check_sugar = type(price_of_sugar)\n",
    "type_check_product_name = type(product_name)\n",
    "\n",
    "# Output Session\n",
    "print(\"Type of price_meat is :\",type_check_meat)\n",
    "print(\"Type of price_sugar is :\",type_check_sugar)\n",
    "print(\"Type Check of Product name is :\", type_check_product_name)"
   ]
  },
  {
   "cell_type": "code",
   "execution_count": 6,
   "metadata": {},
   "outputs": [
    {
     "name": "stdout",
     "output_type": "stream",
     "text": [
      "The type of the variable is: int\n",
      "The type of the variable is: str\n",
      "The type of the variable is: float\n"
     ]
    }
   ],
   "source": [
    "def check_type(variable):\n",
    "    \"\"\"\n",
    "    Function to check the type of a variable.\n",
    "    \n",
    "    Parameters:\n",
    "    variable (any): The variable whose type needs to be checked.\n",
    "    \n",
    "    Returns:\n",
    "    str: A string representing the type of the variable.\n",
    "    \"\"\"\n",
    "    return f\"The type of the variable is: {type(variable).__name__}\"\n",
    "\n",
    "# Example usage\n",
    "variable = 42\n",
    "print(check_type(variable))\n",
    "\n",
    "variable = \"Hello, world!\"\n",
    "print(check_type(variable))\n",
    "\n",
    "variable = 3.14\n",
    "print(check_type(variable))\n"
   ]
  },
  {
   "cell_type": "markdown",
   "metadata": {},
   "source": [
    "**End of Class-2**"
   ]
  }
 ],
 "metadata": {
  "kernelspec": {
   "display_name": "Python 3",
   "language": "python",
   "name": "python3"
  },
  "language_info": {
   "codemirror_mode": {
    "name": "ipython",
    "version": 3
   },
   "file_extension": ".py",
   "mimetype": "text/x-python",
   "name": "python",
   "nbconvert_exporter": "python",
   "pygments_lexer": "ipython3",
   "version": "3.10.6"
  },
  "orig_nbformat": 4
 },
 "nbformat": 4,
 "nbformat_minor": 2
}
