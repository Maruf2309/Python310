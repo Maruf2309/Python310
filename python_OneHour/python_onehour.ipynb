{
 "cells": [
  {
   "cell_type": "code",
   "execution_count": 2,
   "metadata": {},
   "outputs": [
    {
     "name": "stdout",
     "output_type": "stream",
     "text": [
      "I love my Coutry\n"
     ]
    }
   ],
   "source": [
    "print(\"I love my Coutry\")"
   ]
  },
  {
   "cell_type": "markdown",
   "metadata": {},
   "source": [
    "#### Variable"
   ]
  },
  {
   "cell_type": "code",
   "execution_count": 4,
   "metadata": {},
   "outputs": [
    {
     "name": "stdout",
     "output_type": "stream",
     "text": [
      "22\n",
      "Maruf Hossain Village : x, Post : y, district: z\n"
     ]
    }
   ],
   "source": [
    "a = 10\n",
    "b = 12\n",
    "print(a + b)\n",
    "\n",
    "\n",
    "name  = \"Maruf Hossain\"\n",
    "address = \"Village : x, Post : y, district: z\"\n",
    "print(name, address)"
   ]
  },
  {
   "cell_type": "markdown",
   "metadata": {},
   "source": [
    "### Data Type"
   ]
  },
  {
   "cell_type": "markdown",
   "metadata": {},
   "source": [
    "* Programming code must be data type compatiable, otherwise error may occur\n",
    "* If data type not for different operation, then error may geneerated"
   ]
  },
  {
   "cell_type": "markdown",
   "metadata": {},
   "source": [
    "### Type Casting"
   ]
  },
  {
   "cell_type": "markdown",
   "metadata": {},
   "source": [
    "1. Type casting is all about converting one variable to another type"
   ]
  },
  {
   "cell_type": "code",
   "execution_count": 8,
   "metadata": {},
   "outputs": [],
   "source": [
    "# Take input from User / keyboard\n",
    "#firstNum = 10                           # int\n",
    "# secondNum = input(\"Enter a number : \")  # default type for input is string\n",
    "\n",
    "# print(\"Sum :\", firstNum + secondNum)\n",
    "\n",
    "## There will be type error, because when  you take input from keyboard/ user, that defatult type is string, so the error returned"
   ]
  },
  {
   "cell_type": "code",
   "execution_count": 9,
   "metadata": {},
   "outputs": [
    {
     "name": "stdout",
     "output_type": "stream",
     "text": [
      "Sum : 30\n"
     ]
    }
   ],
   "source": [
    "firstNum = 10\n",
    "secondNum = input(\"Enter a number : \")\n",
    "\n",
    "print(\"Sum :\", firstNum + int(secondNum))    # Type casting type & variable within bracket"
   ]
  },
  {
   "cell_type": "markdown",
   "metadata": {},
   "source": [
    "### Operators"
   ]
  },
  {
   "cell_type": "markdown",
   "metadata": {},
   "source": [
    "* Arithmatic : +, -, /, *   (Plus, Minus, Division, Multiplication)\n",
    "* Comparator : <, >, <=, >=, <>\n",
    "* Logical    : And, Or, Not"
   ]
  },
  {
   "cell_type": "markdown",
   "metadata": {},
   "source": [
    "### Conditional Statement"
   ]
  },
  {
   "cell_type": "code",
   "execution_count": 13,
   "metadata": {},
   "outputs": [
    {
     "name": "stdout",
     "output_type": "stream",
     "text": [
      "Senior\n"
     ]
    }
   ],
   "source": [
    "age = input (\"Enter a Number : \")\n",
    "\n",
    "if int(age) >= 30:               # age need to be number type, here there is comparator that is  >\n",
    "    print(\"Senior\")\n",
    "else:\n",
    "    print(\"Junior\")"
   ]
  },
  {
   "cell_type": "markdown",
   "metadata": {},
   "source": [
    "### Loop"
   ]
  },
  {
   "cell_type": "markdown",
   "metadata": {},
   "source": [
    "* Doing the same thing repeatedly"
   ]
  },
  {
   "cell_type": "code",
   "execution_count": 1,
   "metadata": {},
   "outputs": [
    {
     "name": "stdout",
     "output_type": "stream",
     "text": [
      "1\n",
      "2\n",
      "3\n",
      "4\n",
      "5\n"
     ]
    }
   ],
   "source": [
    "# print upto 5; it will  be challenging if asked to print like this upto 1000\n",
    "print(\"1\")\n",
    "print(\"2\")\n",
    "print(\"3\")\n",
    "print(\"4\")\n",
    "print(\"5\")"
   ]
  },
  {
   "cell_type": "code",
   "execution_count": 8,
   "metadata": {},
   "outputs": [
    {
     "name": "stdout",
     "output_type": "stream",
     "text": [
      "0\n",
      "1\n",
      "2\n",
      "3\n",
      "4\n"
     ]
    }
   ],
   "source": [
    "for i in range (5):   # 0,1, 2, 3, 4,  ---> i values i:0, i:1, i:3 ....i:4\n",
    "    print (i)"
   ]
  },
  {
   "cell_type": "code",
   "execution_count": 9,
   "metadata": {},
   "outputs": [
    {
     "name": "stdout",
     "output_type": "stream",
     "text": [
      "1\n",
      "2\n",
      "3\n",
      "4\n"
     ]
    }
   ],
   "source": [
    "for i in range (1,5):  # That mean i is variable whose value is kept inside bracket, which chage over iteration\n",
    "    print(i)"
   ]
  },
  {
   "cell_type": "code",
   "execution_count": 12,
   "metadata": {},
   "outputs": [
    {
     "name": "stdout",
     "output_type": "stream",
     "text": [
      "1\n",
      "2\n",
      "3\n",
      "4\n",
      "5\n"
     ]
    }
   ],
   "source": [
    "for i in range (1, 6):\n",
    "    print(i)  "
   ]
  },
  {
   "cell_type": "code",
   "execution_count": 13,
   "metadata": {},
   "outputs": [
    {
     "name": "stdout",
     "output_type": "stream",
     "text": [
      "1\n",
      "3\n",
      "5\n"
     ]
    }
   ],
   "source": [
    "for i in range (1, 6, 2):   # start: end: skip\n",
    "    print(i)"
   ]
  },
  {
   "cell_type": "code",
   "execution_count": 14,
   "metadata": {},
   "outputs": [
    {
     "name": "stdout",
     "output_type": "stream",
     "text": [
      "0\n",
      "2\n",
      "4\n"
     ]
    }
   ],
   "source": [
    "for i in range (0, 6, 2):   # start: end: skip\n",
    "    print(i)"
   ]
  },
  {
   "cell_type": "markdown",
   "metadata": {},
   "source": [
    "#### Problem : Find the summation of a a series:"
   ]
  },
  {
   "cell_type": "code",
   "execution_count": null,
   "metadata": {},
   "outputs": [],
   "source": [
    "# 1+2+3+4+5+......+100  # Need to do addition operation 99 times like 1+2 =3; 3+3 =6 and go upto like this"
   ]
  },
  {
   "cell_type": "markdown",
   "metadata": {},
   "source": [
    "* first need to take a variable/ container like sum with initial value is 0"
   ]
  },
  {
   "cell_type": "code",
   "execution_count": 15,
   "metadata": {},
   "outputs": [
    {
     "name": "stdout",
     "output_type": "stream",
     "text": [
      "5050\n"
     ]
    }
   ],
   "source": [
    "sum = 0\n",
    "for i in range (1, 101):\n",
    "    sum = sum + i        # sum = 0 + 1;  sum = 1 + 2; sum = 3 + 3; sum = 6+4... it will go like this upto 100\n",
    "\n",
    "print(sum)"
   ]
  },
  {
   "cell_type": "markdown",
   "metadata": {},
   "source": [
    "#### Add summation of odd number only"
   ]
  },
  {
   "cell_type": "markdown",
   "metadata": {},
   "source": [
    "* add sum of odd number only   (like 1+3+5+7+9+11.....99)\n",
    "* Need to go upto 100 also\n",
    "* Need to modify i as odd by adding a condtion to check i"
   ]
  },
  {
   "cell_type": "code",
   "execution_count": null,
   "metadata": {},
   "outputs": [],
   "source": [
    "# 1+2+3+4+5+......+100"
   ]
  },
  {
   "cell_type": "code",
   "execution_count": 16,
   "metadata": {},
   "outputs": [
    {
     "name": "stdout",
     "output_type": "stream",
     "text": [
      "2500\n"
     ]
    }
   ],
   "source": [
    "# Solution 1: \n",
    "sum = 0\n",
    "for i in range (1, 101):\n",
    "    if i%2 == 0:\n",
    "        continue\n",
    "    else:\n",
    "        sum = sum + i\n",
    "print(sum)"
   ]
  },
  {
   "cell_type": "code",
   "execution_count": 18,
   "metadata": {},
   "outputs": [
    {
     "name": "stdout",
     "output_type": "stream",
     "text": [
      "2500\n"
     ]
    }
   ],
   "source": [
    "# Solution 2: Alternative\n",
    "sum = 0\n",
    "for i in range (1, 101):\n",
    "    if i%2 != 0:          # Not equal e.g odd number\n",
    "        sum = sum + i   \n",
    "print(sum)"
   ]
  },
  {
   "cell_type": "code",
   "execution_count": 19,
   "metadata": {},
   "outputs": [
    {
     "name": "stdout",
     "output_type": "stream",
     "text": [
      "2500\n"
     ]
    }
   ],
   "source": [
    "# Solution 3: Modification withing range- without conditional statement\n",
    "sum = 0\n",
    "for i in range (1, 101, 2):\n",
    "    sum = sum + i\n",
    "print(sum)"
   ]
  },
  {
   "cell_type": "code",
   "execution_count": 17,
   "metadata": {},
   "outputs": [
    {
     "name": "stdout",
     "output_type": "stream",
     "text": [
      "2550\n"
     ]
    }
   ],
   "source": [
    "sum = 0\n",
    "for i in range (1, 101):\n",
    "    if i%2 != 0:\n",
    "        continue\n",
    "    else:\n",
    "        sum = sum + i\n",
    "print(sum)"
   ]
  },
  {
   "cell_type": "markdown",
   "metadata": {},
   "source": [
    "### Excercise"
   ]
  },
  {
   "cell_type": "code",
   "execution_count": 20,
   "metadata": {},
   "outputs": [
    {
     "name": "stdout",
     "output_type": "stream",
     "text": [
      "5050\n"
     ]
    }
   ],
   "source": [
    "# add summation of 1-100 number\n",
    "sum =  0 \n",
    "for i in range (1, 101):\n",
    "    sum = sum + i\n",
    "print(sum)"
   ]
  },
  {
   "cell_type": "code",
   "execution_count": 23,
   "metadata": {},
   "outputs": [
    {
     "name": "stdout",
     "output_type": "stream",
     "text": [
      "2500\n"
     ]
    }
   ],
   "source": [
    "# Add Summation of even number from 1- 100\n",
    "\n",
    "sum = 0\n",
    "for i in range (1, 101):\n",
    "    if i%2 == 0:    # if even then do nothing\n",
    "        continue\n",
    "    else:\n",
    "        sum =  sum + i\n",
    "\n",
    "print(sum)\n",
    "\n"
   ]
  },
  {
   "cell_type": "code",
   "execution_count": 24,
   "metadata": {},
   "outputs": [
    {
     "name": "stdout",
     "output_type": "stream",
     "text": [
      "2500\n"
     ]
    }
   ],
   "source": [
    "sum = 0\n",
    "for i in range (1, 101):\n",
    "    if i%2 !=0:  # take only odd number\n",
    "        sum = sum + i\n",
    "print(sum)"
   ]
  },
  {
   "cell_type": "code",
   "execution_count": 25,
   "metadata": {},
   "outputs": [
    {
     "name": "stdout",
     "output_type": "stream",
     "text": [
      "2500\n"
     ]
    }
   ],
   "source": [
    "sum = 0\n",
    "for i in range (1, 101, 2):\n",
    "    sum = sum +i \n",
    "print(sum)"
   ]
  },
  {
   "cell_type": "code",
   "execution_count": 26,
   "metadata": {},
   "outputs": [
    {
     "name": "stdout",
     "output_type": "stream",
     "text": [
      "2550\n"
     ]
    }
   ],
   "source": [
    "# Add summation of Even Number from 1 to 100\n",
    "sum = 0\n",
    "for i in range (0, 101, 2):\n",
    "    sum = sum +i \n",
    "print(sum)"
   ]
  },
  {
   "cell_type": "code",
   "execution_count": 29,
   "metadata": {},
   "outputs": [
    {
     "name": "stdout",
     "output_type": "stream",
     "text": [
      "2500\n"
     ]
    }
   ],
   "source": [
    "sum = 0\n",
    "\n",
    "for i in range (1, 101):\n",
    "    if i%2 !=0:       # it mean only odd number\n",
    "        sum = sum + i\n",
    "print(sum)"
   ]
  },
  {
   "cell_type": "markdown",
   "metadata": {},
   "source": [
    "#### While Loop"
   ]
  },
  {
   "cell_type": "code",
   "execution_count": 31,
   "metadata": {},
   "outputs": [
    {
     "data": {
      "text/plain": [
       "'\\nwhile condition:\\n    statement\\n'"
      ]
     },
     "execution_count": 31,
     "metadata": {},
     "output_type": "execute_result"
    }
   ],
   "source": [
    "'''\n",
    "while condition:\n",
    "    statement\n",
    "'''"
   ]
  },
  {
   "cell_type": "code",
   "execution_count": null,
   "metadata": {},
   "outputs": [],
   "source": [
    "# Add summation of this by while loop\n",
    "# 1+2+3+4+5+......+100 "
   ]
  },
  {
   "cell_type": "code",
   "execution_count": 32,
   "metadata": {},
   "outputs": [
    {
     "name": "stdout",
     "output_type": "stream",
     "text": [
      "5050\n"
     ]
    }
   ],
   "source": [
    "i = 1    # var 1\n",
    "sum = 0  # var 2\n",
    "\n",
    "while i < 101:           # it will continue to print as long as i < 101\n",
    "    sum = sum + i        # increase sum value by i or 1 upto 100\n",
    "    i = i + 1            # increase i value\n",
    "print(sum)"
   ]
  },
  {
   "cell_type": "code",
   "execution_count": 33,
   "metadata": {},
   "outputs": [
    {
     "name": "stdout",
     "output_type": "stream",
     "text": [
      "2500\n"
     ]
    }
   ],
   "source": [
    "# Print summation of Odd numbber from 1-100\n",
    "\n",
    "i = 1\n",
    "sum = 0\n",
    "\n",
    "while i < 101:\n",
    "    sum  = sum + i\n",
    "    i = i + 2       # took only Odd number (1, 3, 5.......99)\n",
    "print(sum)"
   ]
  },
  {
   "cell_type": "code",
   "execution_count": 35,
   "metadata": {},
   "outputs": [
    {
     "name": "stdout",
     "output_type": "stream",
     "text": [
      "2500\n"
     ]
    }
   ],
   "source": [
    "i = 1\n",
    "sum = 0\n",
    "\n",
    "while i < 101:\n",
    "    sum += i     # sum = sum+ can be written as sum +=\n",
    "    i += 2       # i=i+ can be written as i+=\n",
    "print(sum)"
   ]
  },
  {
   "cell_type": "markdown",
   "metadata": {},
   "source": [
    "#### List access by loop"
   ]
  },
  {
   "cell_type": "code",
   "execution_count": 44,
   "metadata": {},
   "outputs": [],
   "source": [
    "fruits = [\"Mango\",\"Banana\",\"Lichhy\",\"Date\", \"Jackfruits\"]"
   ]
  },
  {
   "cell_type": "code",
   "execution_count": 45,
   "metadata": {},
   "outputs": [
    {
     "name": "stdout",
     "output_type": "stream",
     "text": [
      "Banana\n",
      "Mango Banana Date\n"
     ]
    }
   ],
   "source": [
    "print(fruits[1]) # print by index position\n",
    "print(fruits[0], fruits[1], fruits[3]) # print by index position, if the list for 1000 then its difficult, need loop"
   ]
  },
  {
   "cell_type": "code",
   "execution_count": 46,
   "metadata": {},
   "outputs": [
    {
     "name": "stdout",
     "output_type": "stream",
     "text": [
      "Mango\n",
      "Banana\n",
      "Lichhy\n",
      "Date\n",
      "Jackfruits\n"
     ]
    }
   ],
   "source": [
    "# Print all fruits by loop\n",
    "for fruit in fruits:            # fruit is var, which to be updated every time fruit: Manago; fruit: Banana ..... fruit: Jackfruit\n",
    "    print(fruit)"
   ]
  },
  {
   "cell_type": "markdown",
   "metadata": {},
   "source": [
    "## Function / Method"
   ]
  },
  {
   "cell_type": "code",
   "execution_count": 52,
   "metadata": {},
   "outputs": [
    {
     "name": "stdout",
     "output_type": "stream",
     "text": [
      "5\n"
     ]
    }
   ],
   "source": [
    "def addTwoNum(a, b): # the funName it will provide a service which is addition of two number\n",
    "        return a + b\n",
    "\n",
    "result = addTwoNum(3, 2)\n",
    "print(result)"
   ]
  },
  {
   "cell_type": "code",
   "execution_count": 56,
   "metadata": {},
   "outputs": [
    {
     "name": "stdout",
     "output_type": "stream",
     "text": [
      "105\n",
      "1200\n",
      "1500\n"
     ]
    }
   ],
   "source": [
    "print(addTwoNum(100,5))\n",
    "print(addTwoNum(500,700))\n",
    "print(addTwoNum(750,750))"
   ]
  },
  {
   "cell_type": "code",
   "execution_count": 57,
   "metadata": {},
   "outputs": [
    {
     "name": "stdout",
     "output_type": "stream",
     "text": [
      "100\n"
     ]
    }
   ],
   "source": [
    "def subTwoNum(a, b):\n",
    "    return a - b\n",
    "result = subTwoNum(500,400)\n",
    "print(result)"
   ]
  }
 ],
 "metadata": {
  "kernelspec": {
   "display_name": "Python 3",
   "language": "python",
   "name": "python3"
  },
  "language_info": {
   "codemirror_mode": {
    "name": "ipython",
    "version": 3
   },
   "file_extension": ".py",
   "mimetype": "text/x-python",
   "name": "python",
   "nbconvert_exporter": "python",
   "pygments_lexer": "ipython3",
   "version": "3.10.6"
  },
  "orig_nbformat": 4
 },
 "nbformat": 4,
 "nbformat_minor": 2
}
