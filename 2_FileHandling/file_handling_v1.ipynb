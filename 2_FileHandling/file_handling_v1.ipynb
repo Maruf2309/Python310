{
 "cells": [
  {
   "cell_type": "markdown",
   "metadata": {},
   "source": [
    "# File Handling"
   ]
  },
  {
   "cell_type": "markdown",
   "metadata": {},
   "source": [
    "File handling in Python refers to the various operations that can be performed on files, such as creating, reading, updating, and deleting files 1. The key function for working with files in Python is the open() function, which takes two parameters: filename and mode 1. There are four different modes for opening a file: \"r\" - Read, \"a\" - Append, \"w\" - Write, and \"x\" - Create. In addition, you can specify if the file should be handled as binary or text mode using \"b\" and \"t\" respectively.\n",
    "This is one of the <b> core objective </b> is to store the data somewhere parmanently! "
   ]
  },
  {
   "cell_type": "markdown",
   "metadata": {},
   "source": [
    "The objective of file handling in Python is to perform various operations on files, such as creating, reading, updating, and deleting files 1. File handling is a powerful and versatile tool that can be used to perform a wide range of operations. It allows you to handle files, i.e., to read and write files, along with many other file handling options, to operate on files"
   ]
  },
  {
   "cell_type": "code",
   "execution_count": 1,
   "metadata": {},
   "outputs": [],
   "source": [
    "# f = open(\"filename.txt\", \"r\")"
   ]
  },
  {
   "cell_type": "markdown",
   "metadata": {},
   "source": [
    "## File Creation"
   ]
  },
  {
   "cell_type": "markdown",
   "metadata": {},
   "source": [
    "- There are certain ways for file handling, lets say I dont have any file to handle, so lets <b> create </b> a file first!"
   ]
  },
  {
   "cell_type": "code",
   "execution_count": 2,
   "metadata": {},
   "outputs": [],
   "source": [
    "# test 1 - Within same folder\n",
    "file = open('file1.txt', mode='w') # the file name is file1 / which is in write (w) mode\n",
    "file.write('Data 1')  # write something to this file, if update is subject to be over written\n",
    "file.close()                       # finally close it, see in folder there is new file as file.txt, OOP approach"
   ]
  },
  {
   "cell_type": "code",
   "execution_count": 3,
   "metadata": {},
   "outputs": [],
   "source": [
    "# close(file)# funcitonal approach"
   ]
  },
  {
   "cell_type": "code",
   "execution_count": 4,
   "metadata": {},
   "outputs": [],
   "source": [
    "# test 2: Out of folder\n",
    "file = open('Folder\\\\file2.txt', mode='w')   # must use double back shash \\\\ or r (raw string), othewise it will consider as file name\n",
    "file.write('Data2')\n",
    "file.close()\n"
   ]
  },
  {
   "cell_type": "code",
   "execution_count": 5,
   "metadata": {},
   "outputs": [],
   "source": [
    "# test 2: Out of folder using r- if r used then need to use single back slash\n",
    "file = open(r'Folder\\file3.txt', mode='w')   # must use double back shash \\\\ or r (raw string), othewise it will consider as file name\n",
    "file.write('Data2')\n",
    "file.close()"
   ]
  },
  {
   "cell_type": "markdown",
   "metadata": {},
   "source": [
    "# Expercise 2: Writing multiple lines at a time"
   ]
  },
  {
   "cell_type": "code",
   "execution_count": 6,
   "metadata": {},
   "outputs": [],
   "source": [
    "# Multiple Lines- Following line shows seperately, but in output these will show together! \n",
    "file = open('file2.txt', mode='w')\n",
    "file.write('Data 1')\n",
    "file.writelines([\n",
    "    \"Line 1\",\n",
    "    \"Line 2\",\n",
    "    \"Line 3\"\n",
    "])\n",
    "file.close()"
   ]
  },
  {
   "cell_type": "code",
   "execution_count": 7,
   "metadata": {},
   "outputs": [],
   "source": [
    "# Multiple lines - each line in a new line (Black Slash n )\n",
    "file = open('file3.txt', mode='w')\n",
    "file.write('Data 1\\n')\n",
    "file.writelines([\n",
    "    'Line 1\\n',\n",
    "    'Line 2\\n',\n",
    "    'Line 3\\n'\n",
    "])\n",
    "file.close()        # close func is applied on file object, OOP approach!"
   ]
  },
  {
   "cell_type": "markdown",
   "metadata": {},
   "source": [
    "## Writable "
   ]
  },
  {
   "cell_type": "code",
   "execution_count": 8,
   "metadata": {},
   "outputs": [
    {
     "name": "stdout",
     "output_type": "stream",
     "text": [
      "True\n"
     ]
    }
   ],
   "source": [
    "# Check writability\n",
    "file = open('file4.txt', mode='w')\n",
    "file.write('Data 1\\n' )\n",
    "file.writelines([\n",
    "    \"Line 1\\n\",\n",
    "    \"Line 2\\n\",\n",
    "    \"Line 3\\n\"\n",
    "])\n",
    "print(file.writable())         # Since a file can  be opped in different mode, it check whether a file can be writable or not!\n",
    "file.close()"
   ]
  },
  {
   "cell_type": "code",
   "execution_count": 9,
   "metadata": {},
   "outputs": [
    {
     "name": "stdout",
     "output_type": "stream",
     "text": [
      "True\n",
      "True\n"
     ]
    }
   ],
   "source": [
    "# Check the file is clsoed or not!\n",
    "file = open('file4.txt', mode='w')\n",
    "file.write('Data 1\\n' )\n",
    "file.writelines([\n",
    "    \"Line 1\\n\",\n",
    "    \"Line 2\\n\",\n",
    "    \"Line 3\\n\"\n",
    "])\n",
    "print(file.writable())      # Return True if the file is writable   \n",
    "file.close()\n",
    "print(file.closed)         # Check wether the function is closed or not!"
   ]
  },
  {
   "cell_type": "code",
   "execution_count": 10,
   "metadata": {},
   "outputs": [
    {
     "name": "stdout",
     "output_type": "stream",
     "text": [
      "True\n",
      "False\n"
     ]
    }
   ],
   "source": [
    "# Check the file is clsoed or not!\n",
    "file = open('file4.txt', mode='w')\n",
    "file.write('Data 1\\n' )\n",
    "file.writelines([\n",
    "    \"Line 1\\n\",\n",
    "    \"Line 2\\n\",\n",
    "    \"Line 3\\n\"\n",
    "])\n",
    "print(file.writable())      # Return True if the file is writable   \n",
    "print(file.closed)         # Written before close, so it will show the fuction not closed, so False\n",
    "file.close()"
   ]
  },
  {
   "cell_type": "markdown",
   "metadata": {},
   "source": [
    "## Append Mode"
   ]
  },
  {
   "cell_type": "code",
   "execution_count": 11,
   "metadata": {},
   "outputs": [
    {
     "name": "stdout",
     "output_type": "stream",
     "text": [
      "True\n",
      "True\n"
     ]
    }
   ],
   "source": [
    "# Say, I have a file already, I wish to add  new something on this existing file, store previous data + new data\n",
    "file = open('file4.txt', mode='a')        # a: append\n",
    "file.write('Data 11\\n' )\n",
    "file.writelines([\n",
    "    \"Line 11\\n\",\n",
    "    \"Line 21\\n\",\n",
    "    \"Line 31\\n\"\n",
    "])\n",
    "print(file.writable())      # Return True if the file is writable   \n",
    "file.close()\n",
    "print(file.closed)         \n"
   ]
  },
  {
   "cell_type": "markdown",
   "metadata": {},
   "source": [
    "## Read mode"
   ]
  },
  {
   "cell_type": "code",
   "execution_count": 12,
   "metadata": {},
   "outputs": [
    {
     "data": {
      "text/plain": [
       "' \\nfile = open(\\'file4.txt\\', mode=\\'r\\')        # read only, if you want to write something over this will give \"unsupported Operation error\"\\nfile.write(\\'Data 11\\n\\' )\\nfile.writelines([\\n    \"Line 11\\n\",\\n    \"Line 21\\n\",\\n    \"Line 31\\n\"\\n])\\nprint(file.writable())      # Return True if the file is writable   \\nfile.close()\\nprint(file.closed) \\n\\n'"
      ]
     },
     "execution_count": 12,
     "metadata": {},
     "output_type": "execute_result"
    }
   ],
   "source": [
    "''' \n",
    "file = open('file4.txt', mode='r')        # read only, if you want to write something over this will give \"unsupported Operation error\"\n",
    "file.write('Data 11\\n' )\n",
    "file.writelines([\n",
    "    \"Line 11\\n\",\n",
    "    \"Line 21\\n\",\n",
    "    \"Line 31\\n\"\n",
    "])\n",
    "print(file.writable())      # Return True if the file is writable   \n",
    "file.close()\n",
    "print(file.closed) \n",
    "\n",
    "''' "
   ]
  },
  {
   "cell_type": "code",
   "execution_count": 13,
   "metadata": {},
   "outputs": [
    {
     "name": "stdout",
     "output_type": "stream",
     "text": [
      "True\n"
     ]
    }
   ],
   "source": [
    "file = open('file4.txt', mode='r')\n",
    "print(file.readable())   # Check the file readabality \n",
    "file.close()"
   ]
  },
  {
   "cell_type": "code",
   "execution_count": 14,
   "metadata": {},
   "outputs": [
    {
     "name": "stdout",
     "output_type": "stream",
     "text": [
      "True\n",
      "Data 1\n",
      "Line 1\n",
      "Line 2\n",
      "Line 3\n",
      "Data 11\n",
      "Line 11\n",
      "Line 21\n",
      "Line 31\n",
      "\n"
     ]
    }
   ],
   "source": [
    "# Reading a file\n",
    "file = open('file4.txt', mode='r')\n",
    "print(file.readable())\n",
    "print(file.read())       # Read file data\n",
    "file.close()"
   ]
  },
  {
   "cell_type": "code",
   "execution_count": 15,
   "metadata": {},
   "outputs": [
    {
     "name": "stdout",
     "output_type": "stream",
     "text": [
      "True\n",
      "Data 1\n",
      "Lin\n"
     ]
    }
   ],
   "source": [
    "# Reading a file\n",
    "file = open('file4.txt', mode='r')\n",
    "print(file.readable())\n",
    "print(file.read(10))       # Read size defined, read upto 10 inclusing spaces as well\n",
    "file.close()"
   ]
  },
  {
   "cell_type": "code",
   "execution_count": 16,
   "metadata": {},
   "outputs": [
    {
     "name": "stdout",
     "output_type": "stream",
     "text": [
      "True\n",
      "Data\n"
     ]
    }
   ],
   "source": [
    "# Reading a file\n",
    "file = open('file4.txt', mode='r')\n",
    "print(file.readable())\n",
    "print(file.read(4))       # data (len is 4)\n",
    "file.close()"
   ]
  },
  {
   "cell_type": "code",
   "execution_count": 17,
   "metadata": {},
   "outputs": [
    {
     "name": "stdout",
     "output_type": "stream",
     "text": [
      "True\n",
      "['Data 1\\n', 'Line 1\\n', 'Line 2\\n', 'Line 3\\n', 'Data 11\\n', 'Line 11\\n', 'Line 21\\n', 'Line 31\\n']\n"
     ]
    }
   ],
   "source": [
    "# Read line - as a list\n",
    "file = open('file4.txt', mode='r')\n",
    "print(file.readable())\n",
    "print(file.readlines())\n",
    "file.close()"
   ]
  },
  {
   "cell_type": "code",
   "execution_count": 18,
   "metadata": {},
   "outputs": [
    {
     "name": "stdout",
     "output_type": "stream",
     "text": [
      "True\n",
      "Data\n",
      "[' 1\\n', 'Line 1\\n', 'Line 2\\n', 'Line 3\\n', 'Data 11\\n', 'Line 11\\n', 'Line 21\\n', 'Line 31\\n']\n"
     ]
    }
   ],
   "source": [
    "# Read line - as a list\n",
    "file = open('file4.txt', mode='r')\n",
    "print(file.readable())\n",
    "print(file.read(4))       # first reading data then counting after this\n",
    "print(file.readlines())\n",
    "file.close()"
   ]
  },
  {
   "cell_type": "code",
   "execution_count": 19,
   "metadata": {},
   "outputs": [
    {
     "name": "stdout",
     "output_type": "stream",
     "text": [
      "True\n",
      "Data\n",
      "[' 1\\n', 'Line 1\\n']\n"
     ]
    }
   ],
   "source": [
    "# Read line - as a list\n",
    "file = open('file4.txt', mode='r')\n",
    "print(file.readable())\n",
    "print(file.read(4))       # first reading data then counting after this\n",
    "print(file.readlines(5))   # define line\n",
    "file.close()"
   ]
  },
  {
   "cell_type": "code",
   "execution_count": 20,
   "metadata": {},
   "outputs": [
    {
     "name": "stdout",
     "output_type": "stream",
     "text": [
      "True\n",
      "Data\n",
      "[' 1\\n', 'Line 1\\n']\n"
     ]
    }
   ],
   "source": [
    "# Read line - as a list\n",
    "file = open('file4.txt', mode='rt')   # r or rt is same (defulat) t for text data\n",
    "print(file.readable())\n",
    "print(file.read(4))       # first reading data then counting after this\n",
    "print(file.readlines(5))   # define line\n",
    "file.close()"
   ]
  },
  {
   "cell_type": "markdown",
   "metadata": {},
   "source": [
    "### Default mode - r"
   ]
  },
  {
   "cell_type": "code",
   "execution_count": 21,
   "metadata": {},
   "outputs": [
    {
     "name": "stdout",
     "output_type": "stream",
     "text": [
      "True\n",
      "Data\n",
      "[' 1\\n', 'Line 1\\n']\n"
     ]
    }
   ],
   "source": [
    "# Read line - as a list\n",
    "file = open('file4.txt')\n",
    "print(file.readable())\n",
    "print(file.read(4))       # first reading data then counting after this\n",
    "print(file.readlines(5))   # define line\n",
    "file.close()"
   ]
  },
  {
   "cell_type": "markdown",
   "metadata": {},
   "source": [
    "### Exclusive Mode"
   ]
  },
  {
   "cell_type": "code",
   "execution_count": 22,
   "metadata": {},
   "outputs": [
    {
     "data": {
      "text/plain": [
       "'\\n# Exclusive Mode\\nfile = open(\\'file4.txt\\', mode=\\'x\\')        # x: exlusive\\nfile.write(\\'Data 11\\n\\' )\\nfile.writelines([\\n    \"Line 11\\n\",\\n    \"Line 21\\n\",\\n    \"Line 31\\n\"\\n])\\nprint(file.writable())      # Return True if the file is writable   \\nfile.close()\\nprint(file.closed)  \\n\\n'"
      ]
     },
     "execution_count": 22,
     "metadata": {},
     "output_type": "execute_result"
    }
   ],
   "source": [
    "# Exclusive mode- when you dont allow to create duplicate file with same name!, if try then return \"FileExistError\"\n",
    "# Open, Overwriting is denied\n",
    "'''\n",
    "# Exclusive Mode\n",
    "file = open('file4.txt', mode='x')        # x: exlusive\n",
    "file.write('Data 11\\n' )\n",
    "file.writelines([\n",
    "    \"Line 11\\n\",\n",
    "    \"Line 21\\n\",\n",
    "    \"Line 31\\n\"\n",
    "])\n",
    "print(file.writable())      # Return True if the file is writable   \n",
    "file.close()\n",
    "print(file.closed)  \n",
    "\n",
    "'''"
   ]
  },
  {
   "cell_type": "markdown",
   "metadata": {},
   "source": [
    "## Binary/ Bite form"
   ]
  },
  {
   "cell_type": "code",
   "execution_count": 23,
   "metadata": {},
   "outputs": [
    {
     "name": "stdout",
     "output_type": "stream",
     "text": [
      "True\n",
      "Data 1\n",
      "Line 1\n",
      "Line 2\n",
      "Line 3\n",
      "Data 11\n",
      "Line 11\n",
      "Line 21\n",
      "Line 31\n",
      "\n"
     ]
    }
   ],
   "source": [
    "# lets see text form first for seeing comparision\n",
    "file = open('file4.txt', mode='rt')   # r or rt is same (defulat) t for text data\n",
    "print(file.readable())\n",
    "print(file.read())       \n",
    "file.close()"
   ]
  },
  {
   "cell_type": "code",
   "execution_count": 24,
   "metadata": {},
   "outputs": [
    {
     "name": "stdout",
     "output_type": "stream",
     "text": [
      "True\n",
      "b'Data 1\\r\\nLine 1\\r\\nLine 2\\r\\nLine 3\\r\\nData 11\\r\\nLine 11\\r\\nLine 21\\r\\nLine 31\\r\\n'\n"
     ]
    }
   ],
   "source": [
    "# Now check the binary form\n",
    "file = open('file4.txt', mode='rb')   # see the output in binary form with start with b at first\n",
    "print(file.readable())\n",
    "print(file.read())       \n",
    "file.close()"
   ]
  },
  {
   "cell_type": "markdown",
   "metadata": {},
   "source": [
    "# Read & Write Data"
   ]
  },
  {
   "cell_type": "code",
   "execution_count": 25,
   "metadata": {},
   "outputs": [
    {
     "name": "stdout",
     "output_type": "stream",
     "text": [
      "True\n",
      "True\n"
     ]
    }
   ],
   "source": [
    "file = open('file4.txt', mode='r+')        # r+ (append mode)\n",
    "print(file.readable())\n",
    "print(file.writable())"
   ]
  },
  {
   "cell_type": "code",
   "execution_count": 26,
   "metadata": {},
   "outputs": [
    {
     "name": "stdout",
     "output_type": "stream",
     "text": [
      "True\n",
      "True\n",
      "Data 1\n",
      "Line 1\n",
      "Line 2\n",
      "Line 3\n",
      "Data 11\n",
      "Line 11\n",
      "Line 21\n",
      "Line 31\n",
      "\n"
     ]
    }
   ],
   "source": [
    "file = open('file4.txt', mode='r+')        # r+ (append mode)\n",
    "print(file.readable())\n",
    "print(file.writable())\n",
    "print(file.read())    # read the data\n",
    "file.write('Line 44') # added new line\n",
    "file.close()          # close"
   ]
  },
  {
   "cell_type": "code",
   "execution_count": 27,
   "metadata": {},
   "outputs": [
    {
     "name": "stdout",
     "output_type": "stream",
     "text": [
      "True\n",
      "True\n",
      "Data 1\n",
      "Line 1\n",
      "Line 2\n",
      "Line 3\n",
      "Data 11\n",
      "Line 11\n",
      "Line 21\n",
      "Line 31\n",
      "Line 44\n"
     ]
    }
   ],
   "source": [
    "file = open('file4.txt', mode='r+')        # r+ (append mode)\n",
    "print(file.readable())\n",
    "print(file.writable())\n",
    "print(file.read())    # read the data\n",
    "file.write('Line 45') # added new line, add every new line for every iteration,\n",
    "file.close()          # close"
   ]
  },
  {
   "attachments": {
    "image.png": {
     "image/png": "[encoded data removed]"
    }
   },
   "cell_type": "markdown",
   "metadata": {},
   "source": [
    "![image.png](attachment:image.png)"
   ]
  },
  {
   "cell_type": "code",
   "execution_count": 28,
   "metadata": {},
   "outputs": [
    {
     "name": "stdout",
     "output_type": "stream",
     "text": [
      "True\n",
      "True\n",
      "\n"
     ]
    }
   ],
   "source": [
    "# Read & Write\n",
    "file = open('file4.txt', mode='w+')  # W+ mean, removed previous data, read & write\n",
    "print(file.readable())\n",
    "print(file.writable())\n",
    "file.write(\"Line 50\")\n",
    "print(file.read())  # after writing we cannot read! after writing we can not read again before closing, before write we can read\n",
    "file.close()    "
   ]
  },
  {
   "cell_type": "markdown",
   "metadata": {},
   "source": [
    "w+ is a file mode in Python that opens a file for both writing and reading. If the file exists, it overwrites the existing file. If the file does not exist, it creates a new file for reading and writing"
   ]
  },
  {
   "cell_type": "markdown",
   "metadata": {},
   "source": [
    "1. We need to close the file always, otherwise files may be corrupted, or may be someone can writes over this if your files not closed!\n",
    "2. Remembering the closing, is diffucult so there is another way to close the files automatically <b>OPENING FILE WITH SESSION</b>"
   ]
  },
  {
   "cell_type": "markdown",
   "metadata": {},
   "source": [
    "# Opening file with Session"
   ]
  },
  {
   "cell_type": "code",
   "execution_count": 29,
   "metadata": {},
   "outputs": [
    {
     "name": "stdout",
     "output_type": "stream",
     "text": [
      "True\n",
      "True\n",
      "Line 50\n"
     ]
    }
   ],
   "source": [
    "# we will take a same function as aboved and convert to session, so that it not required to close the session manually\n",
    "with open('file4.txt', mode='r+') as file:      # with ----:\n",
    "    print(file.readable())\n",
    "    print(file.writable())\n",
    "    print(file.read())\n",
    "    file.write(\"Line 41\")\n",
    "    file.close()"
   ]
  },
  {
   "cell_type": "markdown",
   "metadata": {},
   "source": [
    "1. With is a python keyword and the line closed with : colon means its a block of codes, so its following codes need to write with indendation multiline alt+select\n",
    "2. Session mean the below block of codes kept in \"open\" that mean the 'file' will be available in this space only, lets check with below:"
   ]
  },
  {
   "cell_type": "code",
   "execution_count": 31,
   "metadata": {},
   "outputs": [
    {
     "name": "stdout",
     "output_type": "stream",
     "text": [
      "True\n",
      "True\n",
      "Line 50Line 41Line 41\n"
     ]
    },
    {
     "data": {
      "text/plain": [
       "True"
      ]
     },
     "execution_count": 31,
     "metadata": {},
     "output_type": "execute_result"
    }
   ],
   "source": [
    "# we will take a same function as aboved and convert to session, so that it not required to close the session manually\n",
    "with open('file4.txt', mode='r+') as file1:      \n",
    "    print(file1.readable())\n",
    "    print(file1.writable())\n",
    "    print(file1.read())\n",
    "    file1.write(\"Line 41\")\n",
    "    file1.close()\n",
    "file1.closed  # check the file whether its clsoed or not (no need actually, just for checking)"
   ]
  },
  {
   "attachments": {
    "image.png": {
     "image/png": "[encoded data removed]"
    }
   },
   "cell_type": "markdown",
   "metadata": {},
   "source": [
    "![image.png](attachment:image.png)"
   ]
  },
  {
   "cell_type": "markdown",
   "metadata": {},
   "source": [
    "1. block of codes(2) passed in object (3) and this object stored in a variable file1(1)\n",
    "2. here all block of codes stored in  file1 (1)\n",
    "3. After the block of codes, this file will closed automatically, that why its returned True when to check!\n",
    "4. Its automatically opening the file wise session is good practice, so that the session closed automatically out of the session(blocked)"
   ]
  },
  {
   "cell_type": "markdown",
   "metadata": {},
   "source": [
    "# Narration of File Creation- Test 1 (Narration Section Starts here!)"
   ]
  },
  {
   "cell_type": "markdown",
   "metadata": {},
   "source": [
    "1. Open is a python builtin fuction that which will return an object file with write mode\n",
    "2. write applied on file and allow to write something on this 'file1.txt' file\n",
    "3. In python, there is no built in close function as like open fuciton, open fuction return an object and on that 'close' function will be applied\n",
    "4. in a sence, Close is also built in funciton but on object (file), which follow OOP approaches!\n",
    "5. close function used <b> membership / dot / . operator </b>"
   ]
  },
  {
   "cell_type": "markdown",
   "metadata": {},
   "source": [
    "1. r / double \\\\ requried for storing outside of the parent folder, otherwise python will not consider this as path, rather it will consider as special character\n"
   ]
  },
  {
   "cell_type": "markdown",
   "metadata": {},
   "source": [
    "<b> Open </b>: it will allow to create & write a file\n",
    "1. Open first check whether any file named as the same name (file1) if not fond then create and allow to update, if already exits then it will allow overwrites the file with the most recent updates (if any)"
   ]
  },
  {
   "cell_type": "markdown",
   "metadata": {},
   "source": [
    "### Mode- w"
   ]
  },
  {
   "cell_type": "markdown",
   "metadata": {},
   "source": [
    "1. Writable is useful when a file given to you, but still you dont know wether the file is writable not not"
   ]
  }
 ],
 "metadata": {
  "kernelspec": {
   "display_name": "Python 3",
   "language": "python",
   "name": "python3"
  },
  "language_info": {
   "codemirror_mode": {
    "name": "ipython",
    "version": 3
   },
   "file_extension": ".py",
   "mimetype": "text/x-python",
   "name": "python",
   "nbconvert_exporter": "python",
   "pygments_lexer": "ipython3",
   "version": "3.10.6"
  },
  "orig_nbformat": 4
 },
 "nbformat": 4,
 "nbformat_minor": 2
}
