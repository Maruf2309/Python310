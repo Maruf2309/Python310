{
 "cells": [
  {
   "cell_type": "markdown",
   "metadata": {},
   "source": [
    "## Problem Solving using Arithmatic Operator (C5)"
   ]
  },
  {
   "cell_type": "markdown",
   "metadata": {},
   "source": [
    "Profit & Loss Calculation"
   ]
  },
  {
   "cell_type": "code",
   "execution_count": 5,
   "metadata": {},
   "outputs": [
    {
     "name": "stdout",
     "output_type": "stream",
     "text": [
      "here is the name of all cakes : bf vc rv ls cc\n",
      "330\n",
      "9.9\n",
      "449.9\n",
      "388.1\n"
     ]
    }
   ],
   "source": [
    "# Cake Naming\n",
    "cake_1 = \"bf\"\n",
    "cake_2 = \"vc\"\n",
    "cake_3 = \"rv\"\n",
    "cake_4 = \"ls\"\n",
    "cake_5 = \"cc\"\n",
    "\n",
    "print(\"here is the name of all cakes :\", cake_1, cake_2, cake_3,cake_4,cake_5)\n",
    "\n",
    "# Materical cost for each cake per pound\n",
    "cost_bf = 180\n",
    "cost_vc = 120\n",
    "cost_rv = 130\n",
    "cost_ls = 140\n",
    "cost_cc = 160  \n",
    "\n",
    "# Transport cost\n",
    "transport_cost = 150\n",
    "\n",
    "# Total Cost (Materical+Transport)\n",
    "\n",
    "Total_cost_bf = cost_bf + transport_cost \n",
    "Total_cost_vc = cost_vc + transport_cost \n",
    "Total_cost_rv = cost_rv + transport_cost  \n",
    "Total_cost_ls = cost_ls + transport_cost \n",
    "Total_cost_cc = cost_cc + transport_cost  \n",
    "\n",
    "# Utility Cost - Asume 3% on total cost will be considered as Utility cost\n",
    "\n",
    "utility_bf = (Total_cost_bf*3)/100\n",
    "utility_vc = (Total_cost_vc*3)/100\n",
    "utility_rv = (Total_cost_rv*3)/100\n",
    "utility_ls = (Total_cost_ls*3)/100\n",
    "utility_cc = (Total_cost_cc*3)/100\n",
    "\n",
    "# Space & labor Cost Per cost\n",
    "space_cost = 50\n",
    "labor_cost = 60\n",
    "\n",
    "# Total Inventory Cost\n",
    "total_inventory_cost_bf = Total_cost_bf + utility_bf + space_cost + labor_cost\n",
    "total_inventory_cost_vc = Total_cost_vc + utility_vc + space_cost + labor_cost\n",
    "\n",
    "print(Total_cost_bf)\n",
    "print(utility_bf)\n",
    "print(total_inventory_cost_bf)\n",
    "print(total_inventory_cost_vc)"
   ]
  },
  {
   "cell_type": "code",
   "execution_count": null,
   "metadata": {},
   "outputs": [],
   "source": []
  }
 ],
 "metadata": {
  "kernelspec": {
   "display_name": "Python 3",
   "language": "python",
   "name": "python3"
  },
  "language_info": {
   "codemirror_mode": {
    "name": "ipython",
    "version": 3
   },
   "file_extension": ".py",
   "mimetype": "text/x-python",
   "name": "python",
   "nbconvert_exporter": "python",
   "pygments_lexer": "ipython3",
   "version": "3.10.6"
  },
  "orig_nbformat": 4
 },
 "nbformat": 4,
 "nbformat_minor": 2
}
