{
 "cells": [
  {
   "cell_type": "markdown",
   "id": "c0f9184f",
   "metadata": {},
   "source": [
    "# Short Hands"
   ]
  },
  {
   "cell_type": "markdown",
   "id": "f684137e",
   "metadata": {},
   "source": [
    "In Python, shorthand is a way to write code more concisely. It is a technique that allows you to write complex code in fewer lines. There are several shorthands in Python, such as the ternary operator and the augmented assignment operator.\n",
    "The ternary operator is a shorthand for an if-else statement. It is used to evaluate a condition and return one of two values depending on whether the condition is true or false. Here is an example:"
   ]
  },
  {
   "cell_type": "markdown",
   "id": "041df734",
   "metadata": {},
   "source": [
    "#### Expercise 1: Squaring Numbers"
   ]
  },
  {
   "cell_type": "code",
   "execution_count": 1,
   "id": "9c4db251",
   "metadata": {},
   "outputs": [
    {
     "data": {
      "text/plain": [
       "[1, 4, 9, 16, 25, 36, 49, 64, 81]"
      ]
     },
     "execution_count": 1,
     "metadata": {},
     "output_type": "execute_result"
    }
   ],
   "source": [
    "results = []                    # list in store that will be returned\n",
    "for num in range(1, 10):        # value range\n",
    "    results.append(num**2)      # Square appending & return\n",
    "\n",
    "results"
   ]
  },
  {
   "cell_type": "markdown",
   "id": "7c2e01b4",
   "metadata": {},
   "source": [
    "#### Expercise 2: Return Square numbers for Even & Cube for Odd numbers"
   ]
  },
  {
   "cell_type": "code",
   "execution_count": 2,
   "id": "063548de",
   "metadata": {},
   "outputs": [
    {
     "data": {
      "text/plain": [
       "[1, 4, 27, 16, 125, 36, 343, 64, 729]"
      ]
     },
     "execution_count": 2,
     "metadata": {},
     "output_type": "execute_result"
    }
   ],
   "source": [
    "results = []\n",
    "for num in range(1, 10):\n",
    "    \n",
    "    # Squre for even number\n",
    "    if num%2 ==0:\n",
    "        results.append(num**2)\n",
    "    \n",
    "    # cube for odd number\n",
    "    else:\n",
    "        results.append(num**3)\n",
    "results"
   ]
  },
  {
   "cell_type": "code",
   "execution_count": 3,
   "id": "22482b09",
   "metadata": {},
   "outputs": [
    {
     "data": {
      "text/plain": [
       "[0, 1, 0, 1, 0, 1, 0, 1, 0]"
      ]
     },
     "execution_count": 3,
     "metadata": {},
     "output_type": "execute_result"
    }
   ],
   "source": [
    "results = []\n",
    "for num in range(1, 10):\n",
    "    if num%2==0:\n",
    "        results.append(1) # return 1 if even number, else return 0\n",
    "        \n",
    "    else:\n",
    "        results.append(0)\n",
    "results"
   ]
  },
  {
   "cell_type": "markdown",
   "id": "5165b915",
   "metadata": {},
   "source": [
    "This full process can be executed just in a single line called as <b> List Comprehension </b> see below"
   ]
  },
  {
   "cell_type": "markdown",
   "id": "e316767d",
   "metadata": {},
   "source": [
    "# List Comprehension"
   ]
  },
  {
   "cell_type": "code",
   "execution_count": 4,
   "id": "f52c2f23",
   "metadata": {},
   "outputs": [
    {
     "data": {
      "text/plain": [
       "[1, 4, 27, 16, 125, 36, 343, 64, 729]"
      ]
     },
     "execution_count": 4,
     "metadata": {},
     "output_type": "execute_result"
    }
   ],
   "source": [
    "# List Comprehension\n",
    "result = [num**2 if num%2==0 else num**3 for num in range(1, 10)]\n",
    "result"
   ]
  },
  {
   "cell_type": "code",
   "execution_count": null,
   "id": "514cfb43",
   "metadata": {},
   "outputs": [],
   "source": []
  },
  {
   "attachments": {
    "image.png": {
     "image/png": "[encoded data removed]"
    }
   },
   "cell_type": "markdown",
   "id": "215008eb",
   "metadata": {},
   "source": [
    "![image.png](attachment:image.png)"
   ]
  },
  {
   "cell_type": "markdown",
   "id": "7b0c6dfb",
   "metadata": {},
   "source": [
    "- if the 1st condition true then it will be store inside the list"
   ]
  },
  {
   "cell_type": "code",
   "execution_count": 5,
   "id": "996a23d0",
   "metadata": {},
   "outputs": [
    {
     "ename": "SyntaxError",
     "evalue": "expected 'else' after 'if' expression (1615294443.py, line 2)",
     "output_type": "error",
     "traceback": [
      "\u001b[1;36m  Cell \u001b[1;32mIn[5], line 2\u001b[1;36m\u001b[0m\n\u001b[1;33m    result2 = [num**2 if num%2==0 for num in range(1, 10)] # without else num**3 it will give error\u001b[0m\n\u001b[1;37m               ^\u001b[0m\n\u001b[1;31mSyntaxError\u001b[0m\u001b[1;31m:\u001b[0m expected 'else' after 'if' expression\n"
     ]
    }
   ],
   "source": [
    "# List Comprehension\n",
    "result2 = [num**2 if num%2==0 for num in range(1, 10)] # without else num**3 it will give error\n",
    "result2"
   ]
  },
  {
   "cell_type": "code",
   "execution_count": null,
   "id": "5a4e28bb",
   "metadata": {},
   "outputs": [],
   "source": [
    "# List Comprehension (If you want to use only If then if condition need to write lattet)\n",
    "result2 = [num**2 for num in range(1, 10) if num%2==0] \n",
    "result2"
   ]
  },
  {
   "attachments": {
    "image.png": {
     "image/png": "[encoded data removed]"
    }
   },
   "cell_type": "markdown",
   "id": "1071c269",
   "metadata": {},
   "source": [
    "![image.png](attachment:image.png)"
   ]
  },
  {
   "cell_type": "markdown",
   "id": "2e95d9bf",
   "metadata": {},
   "source": [
    "1. If red is true then yellow will be executed"
   ]
  },
  {
   "cell_type": "markdown",
   "id": "aed7e823",
   "metadata": {},
   "source": [
    "#### Q1. How to do squres for all values from a given range  ?"
   ]
  },
  {
   "cell_type": "code",
   "execution_count": null,
   "id": "cc4d8592",
   "metadata": {},
   "outputs": [],
   "source": [
    "result1 = [num**2 for num in range(1, 10) if num%2 ==0]\n",
    "result1"
   ]
  },
  {
   "cell_type": "code",
   "execution_count": null,
   "id": "2b119b03",
   "metadata": {},
   "outputs": [],
   "source": [
    "result2 = [num**2 for num in range(1, 10)]\n",
    "result2"
   ]
  },
  {
   "cell_type": "markdown",
   "id": "65b7ffc5",
   "metadata": {},
   "source": [
    "The same concept we can apply on Tuple & Set as well"
   ]
  },
  {
   "cell_type": "markdown",
   "id": "185ca248",
   "metadata": {},
   "source": [
    "#### List Comprehension with Set"
   ]
  },
  {
   "cell_type": "code",
   "execution_count": null,
   "id": "ac3cf520",
   "metadata": {},
   "outputs": [],
   "source": [
    "set1 = {num**2 for num in range(1, 10)}\n",
    "set1"
   ]
  },
  {
   "cell_type": "code",
   "execution_count": null,
   "id": "ffeb4f12",
   "metadata": {},
   "outputs": [],
   "source": [
    "# Find Reminder\n",
    "set2 = {num%2 for num in range(1, 10)}\n",
    "set2"
   ]
  },
  {
   "cell_type": "code",
   "execution_count": null,
   "id": "ffe0738e",
   "metadata": {},
   "outputs": [],
   "source": [
    "# Find Reminder- Verfication\n",
    "set2 = [num%2 for num in range(1, 10)] # why 0, 1 lets verify with list\n",
    "set2"
   ]
  },
  {
   "cell_type": "markdown",
   "id": "06f82e70",
   "metadata": {},
   "source": [
    "- 1: first if try to divide 1 by 2 that not possible, so return 1\n",
    "- 2: 2 is divisible by 2, so returns 0 (No Remider)\n",
    "- 3: 3 is odd number, so returs 0 (Fractional reminder)\n",
    "- Note: for odd number returns 0; and 1 for even number"
   ]
  },
  {
   "cell_type": "code",
   "execution_count": null,
   "id": "6891ad79",
   "metadata": {},
   "outputs": [],
   "source": [
    "# when convert to set, its not allow duplicate values, so 0 & 1\n",
    "set2 = {num%2 for num in range(1, 10)}\n",
    "set2"
   ]
  },
  {
   "cell_type": "markdown",
   "id": "19777820",
   "metadata": {},
   "source": [
    "### Tuple"
   ]
  },
  {
   "cell_type": "code",
   "execution_count": null,
   "id": "db2d03e6",
   "metadata": {},
   "outputs": [],
   "source": [
    "tuple1 = (num**2 for num in range(1, 10))\n",
    "tuple1"
   ]
  },
  {
   "cell_type": "markdown",
   "id": "f6bdca51",
   "metadata": {},
   "source": [
    "The variable tuple1 is not actually a tuple, but a generator expression. A generator expression is a way of creating an iterator that can produce values on demand, without storing them all in memory.\n",
    "\n",
    "To get values from a generator expression, you can use the next() function, which returns the next value from the iterator, or raises a StopIteration exception if there are no more values. For example:"
   ]
  },
  {
   "cell_type": "code",
   "execution_count": null,
   "id": "621faa5c",
   "metadata": {},
   "outputs": [],
   "source": [
    "tuple1 = (num**2 for num in range(1, 10)) # it will return one by one\n",
    "next(tuple1)"
   ]
  },
  {
   "cell_type": "code",
   "execution_count": null,
   "id": "5975d64c",
   "metadata": {},
   "outputs": [],
   "source": [
    "tuple1 = (num**2 for num in range(1, 10)) # it will return one by one\n",
    "next(tuple1)\n",
    "next(tuple1)"
   ]
  },
  {
   "cell_type": "markdown",
   "id": "f719caa7",
   "metadata": {},
   "source": [
    "Alternatively, you can use a for loop to iterate over the values of a generator expression, or convert it to a list using the list() function. For example:"
   ]
  },
  {
   "cell_type": "code",
   "execution_count": null,
   "id": "6afe5d75",
   "metadata": {},
   "outputs": [],
   "source": [
    "tuple1 = (num**2 for num in range(1, 10))\n",
    "for value in tuple1:\n",
    "     print(value)"
   ]
  },
  {
   "cell_type": "code",
   "execution_count": null,
   "id": "047e723b",
   "metadata": {},
   "outputs": [],
   "source": [
    "tuple1 = (num**2 for num in range(1, 10))\n",
    "list(tuple1)\n"
   ]
  },
  {
   "cell_type": "markdown",
   "id": "5cbe919d",
   "metadata": {},
   "source": [
    "### Dictionary - with list comprehension"
   ]
  },
  {
   "cell_type": "markdown",
   "id": "6779296f",
   "metadata": {},
   "source": [
    "We want to store the values with it square vulue (output)- here is dictionary"
   ]
  },
  {
   "cell_type": "code",
   "execution_count": null,
   "id": "10f8d170",
   "metadata": {},
   "outputs": [],
   "source": [
    "d = {num:num**2 if num%2 == 0 else num**3 for num in range(1,10)}\n",
    "d"
   ]
  },
  {
   "attachments": {
    "image.png": {
     "image/png": "[encoded data removed]"
    }
   },
   "cell_type": "markdown",
   "id": "245f522c",
   "metadata": {},
   "source": [
    "![image.png](attachment:image.png)"
   ]
  },
  {
   "cell_type": "markdown",
   "id": "0410c723",
   "metadata": {},
   "source": [
    "1. if even number is even, it will return square value (output1), else return Qube (2) from the range\n",
    "2. here num: is Key;  value= 2nd part ( num**2; num**3)"
   ]
  },
  {
   "cell_type": "code",
   "execution_count": null,
   "id": "9e9dc736",
   "metadata": {},
   "outputs": [],
   "source": [
    "# Key & Value\n",
    "d1 = {num:num**2 if num%2==0 else num**3 for num in range(1, 16)}\n",
    "d1"
   ]
  },
  {
   "cell_type": "code",
   "execution_count": null,
   "id": "668b4ebd",
   "metadata": {},
   "outputs": [],
   "source": [
    "x = 5\n",
    "y = 10\n",
    "result = x if x > y else y\n",
    "result"
   ]
  },
  {
   "cell_type": "code",
   "execution_count": null,
   "id": "a9cf8ada",
   "metadata": {},
   "outputs": [],
   "source": [
    "x = 5\n",
    "x += 1  # equivalent to x = x + 1\n",
    "x *= 2  # equivalent to x = x * 2\n"
   ]
  },
  {
   "cell_type": "code",
   "execution_count": null,
   "id": "b7ee1ba9",
   "metadata": {},
   "outputs": [],
   "source": []
  },
  {
   "cell_type": "markdown",
   "id": "563c91a2",
   "metadata": {},
   "source": [
    "# List Comprehension"
   ]
  },
  {
   "cell_type": "markdown",
   "id": "885a8c99",
   "metadata": {},
   "source": [
    "<b> List comprehension </b> is a concise way of creating a new list by performing an operation on each item of an existing list. Here is an example of how to use list comprehension in Python:"
   ]
  },
  {
   "cell_type": "code",
   "execution_count": null,
   "id": "a178c4c6",
   "metadata": {},
   "outputs": [],
   "source": [
    "# Example 1: Create a list of squares of numbers from 1 to 10\n",
    "\n",
    "squares = [x**2 for x in range(1, 11)] # syntax  output_requirement -- iterable(loop)\n",
    "print(squares)\n",
    "\n",
    "# Output: [1, 4, 9, 16, 25, 36, 49, 64, 81, 100]\n",
    "\n",
    "# Example 2: Create a list of even numbers from 1 to 10    syntax: var-loop-- condition\n",
    "evens = [x for x in range(1, 11) if x % 2 == 0]\n",
    "print(evens)\n",
    "\n",
    "# Output: [2, 4, 6, 8, 10]\n"
   ]
  },
  {
   "cell_type": "markdown",
   "id": "31d1513b",
   "metadata": {},
   "source": [
    "In the first example, we use list comprehension to create a list of squares of numbers from 1 to 10. The expression x**2 is applied to each item of the list [1, 2, 3, ..., 10] to create a new list [1, 4, 9, ..., 100].\n",
    "\n",
    "In the second example, we use list comprehension to create a list of even numbers from 1 to 10. The condition x % 2 == 0 is used to filter out odd numbers from the list [1, 2, 3, ..., 10].\n",
    "\n",
    "List comprehension is a powerful tool that can help you write more concise and readable code. If you want to learn more about list comprehension in Python, you can check out the Python documentation"
   ]
  },
  {
   "cell_type": "markdown",
   "id": "0c517d1e",
   "metadata": {},
   "source": [
    "### Syntax of List Comprehension"
   ]
  },
  {
   "attachments": {
    "image.png": {
     "image/png": "[encoded data removed]"
    }
   },
   "cell_type": "markdown",
   "id": "a895ec3c",
   "metadata": {},
   "source": [
    "![image.png](attachment:image.png)"
   ]
  },
  {
   "cell_type": "markdown",
   "id": "b9cd816f",
   "metadata": {},
   "source": [
    "Here, expression is the operation you want to execute on every item within the iterable. item refers to each value taken from the iterable, and iterable specifies the sequence of elements you want to iterate through (e.g., a list, tuple, or string). condition is an optional filter that helps decide whether or not an element should be added to the new list.\n",
    "\n",
    "Here is an example of how to use list comprehension in Python:"
   ]
  },
  {
   "cell_type": "code",
   "execution_count": null,
   "id": "6cfe98d2",
   "metadata": {},
   "outputs": [],
   "source": [
    "# Example: Create a list of squares of numbers from 1 to 10\n",
    "squares = [x**2 for x in range(1, 11)]\n",
    "print(squares)\n",
    "\n",
    "# Output: [1, 4, 9, 16, 25, 36, 49, 64, 81, 100]\n"
   ]
  },
  {
   "cell_type": "markdown",
   "id": "32445d33",
   "metadata": {},
   "source": [
    "In this example, we use list comprehension to create a new list of squares of numbers from 1 to 10. The expression x**2 is applied to each item of the list [1, 2, 3, ..., 10] to create a new list [1, 4, 9, ..., 100]"
   ]
  },
  {
   "cell_type": "markdown",
   "id": "c691ed7b",
   "metadata": {},
   "source": [
    "## Nested List Comprehension"
   ]
  },
  {
   "cell_type": "markdown",
   "id": "5ed47017",
   "metadata": {},
   "source": [
    "1. Covering 2D list"
   ]
  },
  {
   "cell_type": "markdown",
   "id": "129f34b0",
   "metadata": {},
   "source": [
    "#### Q1. For a given 2D list generate square  for each values for each"
   ]
  },
  {
   "cell_type": "code",
   "execution_count": null,
   "id": "73be6b45",
   "metadata": {},
   "outputs": [],
   "source": [
    "# 3x3 Matrix or 2D data\n",
    "data = [\n",
    "    [1, 2, 3],\n",
    "    [4, 5, 6],\n",
    "    [7, 8, 9]\n",
    "]"
   ]
  },
  {
   "cell_type": "code",
   "execution_count": null,
   "id": "9d7a5cf5",
   "metadata": {},
   "outputs": [],
   "source": [
    "# Test 1\n",
    "sqData = [row for row in data] # first need to access in row"
   ]
  },
  {
   "cell_type": "code",
   "execution_count": null,
   "id": "7acd34f1",
   "metadata": {},
   "outputs": [],
   "source": [
    "# a. This is returns another iterrable, on which we can iterata also\n",
    "for row in data:\n",
    "    print(row)"
   ]
  },
  {
   "cell_type": "code",
   "execution_count": null,
   "id": "ddbe8b7a",
   "metadata": {},
   "outputs": [],
   "source": [
    "# Getting column from the above iterable\n",
    "for row in data:\n",
    "    print(row)      # printing row from a\n",
    "    for col in row:\n",
    "        print(col)  # printing col from a"
   ]
  },
  {
   "cell_type": "code",
   "execution_count": null,
   "id": "1cb63f29",
   "metadata": {},
   "outputs": [],
   "source": [
    "# printing squares of a, this same concept will be applied on test 1 to solve our question 1\n",
    "for row in data:\n",
    "    print(row)\n",
    "    for col in row:     # this will placed first for final solution code before that give square col**2\n",
    "        print(col**2)"
   ]
  },
  {
   "cell_type": "markdown",
   "id": "9564571a",
   "metadata": {},
   "source": [
    "##### Nested List Comprehension"
   ]
  },
  {
   "cell_type": "code",
   "execution_count": null,
   "id": "127ad6bb",
   "metadata": {},
   "outputs": [],
   "source": [
    "# Final Answer of question 1- This is also known as \"Nested list comprehension\"\n",
    "sqData = [ [ col**2 for col in row] for row in data]\n",
    "sqData"
   ]
  },
  {
   "cell_type": "markdown",
   "id": "e05c509f",
   "metadata": {},
   "source": [
    "##### Interpretation"
   ]
  },
  {
   "attachments": {
    "image.png": {
     "image/png": "[encoded data removed]"
    }
   },
   "cell_type": "markdown",
   "id": "66d911c9",
   "metadata": {},
   "source": [
    "![image.png](attachment:image.png)"
   ]
  },
  {
   "cell_type": "markdown",
   "id": "6d1bfef1",
   "metadata": {},
   "source": [
    "Interpretation: first taking row from data; second this row again passed to row (looping process); Third fetchin col from the row and finally generating squares of thes columns. Since 'col' means cell value, so its storing at same location, since col is cell value. \n",
    "Level 1: need to assess row first (placed in last)\n",
    "Level 2: fetch col from these rows\n",
    "Level 3: fetch col (cell) from this row - col means cell. Outer level need to write first\n",
    "Level 4: Output\n",
    "if it is 3D (color image) again nest can be applied inside looping part"
   ]
  },
  {
   "attachments": {
    "image.png": {
     "image/png": "[encoded data removed]"
    }
   },
   "cell_type": "markdown",
   "id": "7f3ef437",
   "metadata": {},
   "source": [
    "![image.png](attachment:image.png)"
   ]
  },
  {
   "cell_type": "code",
   "execution_count": null,
   "id": "e15b0cad",
   "metadata": {},
   "outputs": [],
   "source": []
  },
  {
   "cell_type": "code",
   "execution_count": null,
   "id": "a95cb0ab",
   "metadata": {},
   "outputs": [],
   "source": []
  },
  {
   "cell_type": "code",
   "execution_count": null,
   "id": "9502dc43",
   "metadata": {},
   "outputs": [],
   "source": [
    "# the final solution output structure is almost similar with primary / raw data structure- verfied\n",
    "data = [\n",
    "    [1, 2, 3],\n",
    "    [4, 5, 6],\n",
    "    [7, 8, 9]\n",
    "]\n",
    "data"
   ]
  },
  {
   "cell_type": "markdown",
   "id": "adc0c442",
   "metadata": {},
   "source": [
    "## Nomal Function"
   ]
  },
  {
   "cell_type": "code",
   "execution_count": 11,
   "id": "29712d96",
   "metadata": {},
   "outputs": [],
   "source": [
    "# a Normal Function\n",
    "\n",
    "def is_even(num:int) ->bool:\n",
    "    if num%2 ==0:\n",
    "        return True\n",
    "    else:\n",
    "        return False"
   ]
  },
  {
   "cell_type": "code",
   "execution_count": 12,
   "id": "21fa3786",
   "metadata": {},
   "outputs": [
    {
     "data": {
      "text/plain": [
       "False"
      ]
     },
     "execution_count": 12,
     "metadata": {},
     "output_type": "execute_result"
    }
   ],
   "source": [
    "is_even(5)"
   ]
  },
  {
   "cell_type": "markdown",
   "id": "c464fc1d",
   "metadata": {},
   "source": [
    "### Lambda Function"
   ]
  },
  {
   "cell_type": "markdown",
   "id": "4483c2ac",
   "metadata": {},
   "source": [
    "##### Exercise 1:"
   ]
  },
  {
   "cell_type": "code",
   "execution_count": null,
   "id": "509ff3c3",
   "metadata": {},
   "outputs": [],
   "source": [
    "check_even = lambda num: True if num%2 ==0 else False  # retured same as the output in code (a)\n",
    "check_even(5)"
   ]
  },
  {
   "cell_type": "markdown",
   "id": "461f8456",
   "metadata": {},
   "source": [
    "- Here the lambda will take variable i.g num & check the divisiblity of that var i.g num & return accordingly\n",
    "- here the lambda takes number (we can put multiple number)"
   ]
  },
  {
   "cell_type": "markdown",
   "id": "eeef81e5",
   "metadata": {},
   "source": [
    "##### Excercise 2"
   ]
  },
  {
   "cell_type": "markdown",
   "id": "865e0a4c",
   "metadata": {},
   "source": [
    "A lambda function is a small, <b>anonymous function / python keyword</b> in Python that can take any number of arguments, but can only have one expression. It is also known as an anonymous function because it does not have a name. The syntax for creating a lambda function is lambda arguments: expression. Here, arguments are the input arguments to the function and expression is the output of the function.\n",
    "\n",
    "Lambda functions are often used when you need to pass a function as an argument to another function. They are also useful when you need to write a short function that you don’t want to define separately.\n",
    "Useful for huge calculation with for single line\n",
    "\n",
    "Q. Why Lambda function is called as Anonymous function, becasue the funciton has not any specific name like is_even, rather it stored by any given variable and called by the variable name to get output\n",
    "\n",
    "<b> Limitation of Lambda Function </b> : In lambda function we cannot use while & for loop! We can add only <b> if and else </b>. even <b>elif </b>not accepted by lambda function\n",
    "\n",
    "Here’s an example of a lambda function that takes two arguments and returns their sum:"
   ]
  },
  {
   "cell_type": "code",
   "execution_count": null,
   "id": "80a40ebf",
   "metadata": {},
   "outputs": [],
   "source": [
    "sum = lambda x, y: x + y\n",
    "result = sum(5, 5)\n",
    "print(result)"
   ]
  },
  {
   "cell_type": "markdown",
   "id": "f5284042",
   "metadata": {},
   "source": [
    "#### Exercise 3: Solve the following equation using lambda function"
   ]
  },
  {
   "cell_type": "code",
   "execution_count": 8,
   "id": "136f9927",
   "metadata": {},
   "outputs": [
    {
     "data": {
      "text/plain": [
       "25"
      ]
     },
     "execution_count": 8,
     "metadata": {},
     "output_type": "execute_result"
    }
   ],
   "source": [
    "# a^2 + 2ab+ b^2, where a=2, b=3        (4+12+9=25)\n",
    "func = lambda a,b: a**2 + 2*a*b + b**2\n",
    "func(2,3)"
   ]
  },
  {
   "cell_type": "code",
   "execution_count": 9,
   "id": "57da04c5",
   "metadata": {},
   "outputs": [
    {
     "data": {
      "text/plain": [
       "100"
      ]
     },
     "execution_count": 9,
     "metadata": {},
     "output_type": "execute_result"
    }
   ],
   "source": [
    "func(5,5)"
   ]
  },
  {
   "cell_type": "markdown",
   "id": "3e3d63b0",
   "metadata": {},
   "source": [
    "## Map & Filter Function"
   ]
  },
  {
   "cell_type": "markdown",
   "id": "857b62b5",
   "metadata": {},
   "source": [
    "- use paranthesis () in case of python function"
   ]
  },
  {
   "cell_type": "code",
   "execution_count": 16,
   "id": "ae63fb88",
   "metadata": {},
   "outputs": [
    {
     "ename": "TypeError",
     "evalue": "is_even() takes 1 positional argument but 6 were given",
     "output_type": "error",
     "traceback": [
      "\u001b[1;31m---------------------------------------------------------------------------\u001b[0m",
      "\u001b[1;31mTypeError\u001b[0m                                 Traceback (most recent call last)",
      "Cell \u001b[1;32mIn[16], line 1\u001b[0m\n\u001b[1;32m----> 1\u001b[0m \u001b[43mis_even\u001b[49m\u001b[43m(\u001b[49m\u001b[38;5;241;43m2\u001b[39;49m\u001b[43m,\u001b[49m\u001b[43m \u001b[49m\u001b[38;5;241;43m3\u001b[39;49m\u001b[43m,\u001b[49m\u001b[43m \u001b[49m\u001b[38;5;241;43m4\u001b[39;49m\u001b[43m,\u001b[49m\u001b[43m \u001b[49m\u001b[38;5;241;43m5\u001b[39;49m\u001b[43m,\u001b[49m\u001b[43m \u001b[49m\u001b[38;5;241;43m6\u001b[39;49m\u001b[43m,\u001b[49m\u001b[43m \u001b[49m\u001b[38;5;241;43m7\u001b[39;49m\u001b[43m)\u001b[49m\n",
      "\u001b[1;31mTypeError\u001b[0m: is_even() takes 1 positional argument but 6 were given"
     ]
    }
   ],
   "source": [
    "is_even(2, 3, 4, 5, 6, 7) # We can solve this problem by using *args/*kwrgs or we can solve it by using math fuction"
   ]
  },
  {
   "cell_type": "markdown",
   "id": "dbba1bbd",
   "metadata": {},
   "source": [
    "##### Solution 1: Solving by *args"
   ]
  },
  {
   "cell_type": "markdown",
   "id": "734c20d3",
   "metadata": {},
   "source": [
    "To solve this problem in Python using *args, you can define a function that accepts any number of arguments and returns a list of even numbers. Here is an example:"
   ]
  },
  {
   "cell_type": "code",
   "execution_count": 17,
   "id": "4e6cf56a",
   "metadata": {},
   "outputs": [
    {
     "ename": "SyntaxError",
     "evalue": "invalid syntax. Perhaps you forgot a comma? (2513789084.py, line 2)",
     "output_type": "error",
     "traceback": [
      "\u001b[1;36m  Cell \u001b[1;32mIn[17], line 2\u001b[1;36m\u001b[0m\n\u001b[1;33m    return [n for n i args if n%2==0]\u001b[0m\n\u001b[1;37m                  ^\u001b[0m\n\u001b[1;31mSyntaxError\u001b[0m\u001b[1;31m:\u001b[0m invalid syntax. Perhaps you forgot a comma?\n"
     ]
    }
   ],
   "source": [
    "def is_evn(*args):\n",
    "    return [n for n i args if n%2==0]"
   ]
  },
  {
   "cell_type": "code",
   "execution_count": 23,
   "id": "a0b28360",
   "metadata": {},
   "outputs": [
    {
     "name": "stdout",
     "output_type": "stream",
     "text": [
      "[2, 4, 6]\n"
     ]
    }
   ],
   "source": [
    "# Solved:\n",
    "def is_ev(*args):\n",
    "    return [n for n in args if n%2==0 ]\n",
    "\n",
    "# calling function\n",
    "print(is_ev(2, 3, 4, 5, 6, 7))"
   ]
  },
  {
   "cell_type": "markdown",
   "id": "a25c2690",
   "metadata": {},
   "source": [
    "#### Solution 2: Solving by Map Function"
   ]
  },
  {
   "cell_type": "code",
   "execution_count": 28,
   "id": "2c7738fb",
   "metadata": {},
   "outputs": [
    {
     "data": {
      "text/plain": [
       "<map at 0x17ae3220bb0>"
      ]
     },
     "execution_count": 28,
     "metadata": {},
     "output_type": "execute_result"
    }
   ],
   "source": [
    "# return mpa object!\n",
    "map(is_even,[2, 3, 4, 5, 6, 7, 8, 9]) # here map will take a func and multiple values to be passed in that func"
   ]
  },
  {
   "cell_type": "code",
   "execution_count": 29,
   "id": "c6cceb9d",
   "metadata": {},
   "outputs": [
    {
     "data": {
      "text/plain": [
       "[True, False, True, False, True, False, True, False]"
      ]
     },
     "execution_count": 29,
     "metadata": {},
     "output_type": "execute_result"
    }
   ],
   "source": [
    "# get the result by covert into list\n",
    "list(map(is_even,[2, 3, 4, 5, 6, 7, 8, 9]))"
   ]
  },
  {
   "cell_type": "markdown",
   "id": "e500a7f4",
   "metadata": {},
   "source": [
    "Here conditional statement not used, rather map. map will take two (i func, ii. *iterables)"
   ]
  },
  {
   "cell_type": "code",
   "execution_count": 30,
   "id": "a7e9f9d2",
   "metadata": {},
   "outputs": [],
   "source": [
    "map?"
   ]
  },
  {
   "cell_type": "code",
   "execution_count": null,
   "id": "442862f6",
   "metadata": {},
   "outputs": [],
   "source": []
  },
  {
   "cell_type": "markdown",
   "id": "3da3a99a",
   "metadata": {},
   "source": [
    "#### More Exercise - Map Function()"
   ]
  },
  {
   "cell_type": "markdown",
   "id": "7e8ea160",
   "metadata": {},
   "source": [
    "The map() function in Python is a built-in function that allows you to apply a function to each item of an iterable and return a new iterable with the results. It is a powerful tool for transforming data in Python without using an explicit for loop. Here is an example of how to use the map() function:"
   ]
  },
  {
   "cell_type": "code",
   "execution_count": 24,
   "id": "05cb1bdd",
   "metadata": {},
   "outputs": [
    {
     "name": "stdout",
     "output_type": "stream",
     "text": [
      "[1, 4, 9, 16, 25]\n"
     ]
    }
   ],
   "source": [
    "# Define a function to square a number\n",
    "def square(x):\n",
    "    return x ** 2\n",
    "\n",
    "# Define a list of numbers\n",
    "numbers = [1, 2, 3, 4, 5]\n",
    "\n",
    "# Use map() to apply the square function to each number in the list\n",
    "squares = map(square, numbers)\n",
    "\n",
    "# Print the resulting list of squares\n",
    "print(list(squares))  # Output: [1, 4, 9, 16, 25]\n"
   ]
  },
  {
   "cell_type": "markdown",
   "id": "7f8d21b7",
   "metadata": {},
   "source": [
    "In this example, the map() function applies the square() function to each number in the numbers list and returns a new iterable with the results. The resulting list of squares is then printed to the console.\n",
    "\n",
    "The map() function can also be used with lambda functions, which are anonymous functions that can be defined in a single line of code. Here is an example of how to use the map() function with a lambda function:"
   ]
  },
  {
   "cell_type": "code",
   "execution_count": 25,
   "id": "211955bf",
   "metadata": {},
   "outputs": [
    {
     "name": "stdout",
     "output_type": "stream",
     "text": [
      "[1, 4, 9, 16, 25]\n"
     ]
    }
   ],
   "source": [
    "# Define a list of numbers\n",
    "numbers = [1, 2, 3, 4, 5]\n",
    "\n",
    "# Use map() with a lambda function to square each number in the list\n",
    "squares = map(lambda x: x ** 2, numbers)\n",
    "\n",
    "# Print the resulting list of squares\n",
    "print(list(squares))  # Output: [1, 4, 9, 16, 25]"
   ]
  },
  {
   "cell_type": "markdown",
   "id": "11224b44",
   "metadata": {},
   "source": [
    "In this example, the map() function applies the lambda function lambda x: x ** 2 to each number in the numbers list and returns a new iterable with the results. The resulting list of squares is then printed to the console."
   ]
  },
  {
   "cell_type": "code",
   "execution_count": 1,
   "id": "a11ff147",
   "metadata": {},
   "outputs": [
    {
     "name": "stdout",
     "output_type": "stream",
     "text": [
      "hello world\n"
     ]
    }
   ],
   "source": [
    "print('hello world')"
   ]
  },
  {
   "cell_type": "code",
   "execution_count": null,
   "id": "e96e1e0a",
   "metadata": {},
   "outputs": [],
   "source": []
  }
 ],
 "metadata": {
  "kernelspec": {
   "display_name": "Python 3 (ipykernel)",
   "language": "python",
   "name": "python3"
  },
  "language_info": {
   "codemirror_mode": {
    "name": "ipython",
    "version": 3
   },
   "file_extension": ".py",
   "mimetype": "text/x-python",
   "name": "python",
   "nbconvert_exporter": "python",
   "pygments_lexer": "ipython3",
   "version": "3.10.6"
  }
 },
 "nbformat": 4,
 "nbformat_minor": 5
}
